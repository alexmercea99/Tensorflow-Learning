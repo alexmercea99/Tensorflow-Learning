{
 "cells": [
  {
   "cell_type": "code",
   "execution_count": 261,
   "source": [
    "import tensorflow as tf\r\n",
    "import numpy as np\r\n",
    "import matplotlib.pyplot as plt\r\n",
    "print(tf.__version__)"
   ],
   "outputs": [
    {
     "output_type": "stream",
     "name": "stdout",
     "text": [
      "2.5.0\n"
     ]
    }
   ],
   "metadata": {}
  },
  {
   "cell_type": "markdown",
   "source": [
    "# Creating data to view and fit"
   ],
   "metadata": {}
  },
  {
   "cell_type": "code",
   "execution_count": 262,
   "source": [
    "# Create features\r\n",
    "X = np.array([-7.0, -4.0, -1.0, 2.0, 5.0, 8.0, 11.0, 14.0])\r\n",
    "# Create labels\r\n",
    "y = np.array([3. ,6. ,9. ,12. ,15. ,18.0 ,21. ,24.])\r\n",
    "\r\n",
    "# Visualize it\r\n",
    "plt.scatter(X, y)\r\n"
   ],
   "outputs": [
    {
     "output_type": "execute_result",
     "data": {
      "text/plain": [
       "<matplotlib.collections.PathCollection at 0x1856d2e1910>"
      ]
     },
     "metadata": {},
     "execution_count": 262
    },
    {
     "output_type": "display_data",
     "data": {
      "text/plain": [
       "<Figure size 432x288 with 1 Axes>"
      ],
      "image/svg+xml": "<?xml version=\"1.0\" encoding=\"utf-8\" standalone=\"no\"?>\r\n<!DOCTYPE svg PUBLIC \"-//W3C//DTD SVG 1.1//EN\"\r\n  \"http://www.w3.org/Graphics/SVG/1.1/DTD/svg11.dtd\">\r\n<svg height=\"251.846694pt\" version=\"1.1\" viewBox=\"0 0 374.562825 251.846694\" width=\"374.562825pt\" xmlns=\"http://www.w3.org/2000/svg\" xmlns:xlink=\"http://www.w3.org/1999/xlink\">\r\n <metadata>\r\n  <rdf:RDF xmlns:cc=\"http://creativecommons.org/ns#\" xmlns:dc=\"http://purl.org/dc/elements/1.1/\" xmlns:rdf=\"http://www.w3.org/1999/02/22-rdf-syntax-ns#\">\r\n   <cc:Work>\r\n    <dc:type rdf:resource=\"http://purl.org/dc/dcmitype/StillImage\"/>\r\n    <dc:date>2021-08-10T10:59:49.233491</dc:date>\r\n    <dc:format>image/svg+xml</dc:format>\r\n    <dc:creator>\r\n     <cc:Agent>\r\n      <dc:title>Matplotlib v3.4.2, https://matplotlib.org/</dc:title>\r\n     </cc:Agent>\r\n    </dc:creator>\r\n   </cc:Work>\r\n  </rdf:RDF>\r\n </metadata>\r\n <defs>\r\n  <style type=\"text/css\">*{stroke-linecap:butt;stroke-linejoin:round;}</style>\r\n </defs>\r\n <g id=\"figure_1\">\r\n  <g id=\"patch_1\">\r\n   <path d=\"M -0 251.846694 \r\nL 374.562825 251.846694 \r\nL 374.562825 0 \r\nL -0 0 \r\nz\r\n\" style=\"fill:none;\"/>\r\n  </g>\r\n  <g id=\"axes_1\">\r\n   <g id=\"patch_2\">\r\n    <path d=\"M 26.925 227.968569 \r\nL 361.725 227.968569 \r\nL 361.725 10.528569 \r\nL 26.925 10.528569 \r\nz\r\n\" style=\"fill:#ffffff;\"/>\r\n   </g>\r\n   <g id=\"PathCollection_1\">\r\n    <defs>\r\n     <path d=\"M 0 3 \r\nC 0.795609 3 1.55874 2.683901 2.12132 2.12132 \r\nC 2.683901 1.55874 3 0.795609 3 0 \r\nC 3 -0.795609 2.683901 -1.55874 2.12132 -2.12132 \r\nC 1.55874 -2.683901 0.795609 -3 0 -3 \r\nC -0.795609 -3 -1.55874 -2.683901 -2.12132 -2.12132 \r\nC -2.683901 -1.55874 -3 -0.795609 -3 0 \r\nC -3 0.795609 -2.683901 1.55874 -2.12132 2.12132 \r\nC -1.55874 2.683901 -0.795609 3 0 3 \r\nz\r\n\" id=\"m3c5cf1beef\" style=\"stroke:#1f77b4;\"/>\r\n    </defs>\r\n    <g clip-path=\"url(#p24372500b1)\">\r\n     <use style=\"fill:#1f77b4;stroke:#1f77b4;\" x=\"42.143182\" xlink:href=\"#m3c5cf1beef\" y=\"218.084933\"/>\r\n     <use style=\"fill:#1f77b4;stroke:#1f77b4;\" x=\"85.623701\" xlink:href=\"#m3c5cf1beef\" y=\"189.845972\"/>\r\n     <use style=\"fill:#1f77b4;stroke:#1f77b4;\" x=\"129.104221\" xlink:href=\"#m3c5cf1beef\" y=\"161.607011\"/>\r\n     <use style=\"fill:#1f77b4;stroke:#1f77b4;\" x=\"172.58474\" xlink:href=\"#m3c5cf1beef\" y=\"133.36805\"/>\r\n     <use style=\"fill:#1f77b4;stroke:#1f77b4;\" x=\"216.06526\" xlink:href=\"#m3c5cf1beef\" y=\"105.129089\"/>\r\n     <use style=\"fill:#1f77b4;stroke:#1f77b4;\" x=\"259.545779\" xlink:href=\"#m3c5cf1beef\" y=\"76.890128\"/>\r\n     <use style=\"fill:#1f77b4;stroke:#1f77b4;\" x=\"303.026299\" xlink:href=\"#m3c5cf1beef\" y=\"48.651167\"/>\r\n     <use style=\"fill:#1f77b4;stroke:#1f77b4;\" x=\"346.506818\" xlink:href=\"#m3c5cf1beef\" y=\"20.412206\"/>\r\n    </g>\r\n   </g>\r\n   <g id=\"matplotlib.axis_1\">\r\n    <g id=\"xtick_1\">\r\n     <g id=\"line2d_1\">\r\n      <defs>\r\n       <path d=\"M 0 0 \r\nL 0 3.5 \r\n\" id=\"mfdbd0192b1\" style=\"stroke:#000000;stroke-width:0.8;\"/>\r\n      </defs>\r\n      <g>\r\n       <use style=\"stroke:#000000;stroke-width:0.8;\" x=\"71.130195\" xlink:href=\"#mfdbd0192b1\" y=\"227.968569\"/>\r\n      </g>\r\n     </g>\r\n     <g id=\"text_1\">\r\n      <!-- −5 -->\r\n      <g transform=\"translate(63.759101 242.567007)scale(0.1 -0.1)\">\r\n       <defs>\r\n        <path d=\"M 678 2272 \r\nL 4684 2272 \r\nL 4684 1741 \r\nL 678 1741 \r\nL 678 2272 \r\nz\r\n\" id=\"DejaVuSans-2212\" transform=\"scale(0.015625)\"/>\r\n        <path d=\"M 691 4666 \r\nL 3169 4666 \r\nL 3169 4134 \r\nL 1269 4134 \r\nL 1269 2991 \r\nQ 1406 3038 1543 3061 \r\nQ 1681 3084 1819 3084 \r\nQ 2600 3084 3056 2656 \r\nQ 3513 2228 3513 1497 \r\nQ 3513 744 3044 326 \r\nQ 2575 -91 1722 -91 \r\nQ 1428 -91 1123 -41 \r\nQ 819 9 494 109 \r\nL 494 744 \r\nQ 775 591 1075 516 \r\nQ 1375 441 1709 441 \r\nQ 2250 441 2565 725 \r\nQ 2881 1009 2881 1497 \r\nQ 2881 1984 2565 2268 \r\nQ 2250 2553 1709 2553 \r\nQ 1456 2553 1204 2497 \r\nQ 953 2441 691 2322 \r\nL 691 4666 \r\nz\r\n\" id=\"DejaVuSans-35\" transform=\"scale(0.015625)\"/>\r\n       </defs>\r\n       <use xlink:href=\"#DejaVuSans-2212\"/>\r\n       <use x=\"83.789062\" xlink:href=\"#DejaVuSans-35\"/>\r\n      </g>\r\n     </g>\r\n    </g>\r\n    <g id=\"xtick_2\">\r\n     <g id=\"line2d_2\">\r\n      <g>\r\n       <use style=\"stroke:#000000;stroke-width:0.8;\" x=\"143.597727\" xlink:href=\"#mfdbd0192b1\" y=\"227.968569\"/>\r\n      </g>\r\n     </g>\r\n     <g id=\"text_2\">\r\n      <!-- 0 -->\r\n      <g transform=\"translate(140.416477 242.567007)scale(0.1 -0.1)\">\r\n       <defs>\r\n        <path d=\"M 2034 4250 \r\nQ 1547 4250 1301 3770 \r\nQ 1056 3291 1056 2328 \r\nQ 1056 1369 1301 889 \r\nQ 1547 409 2034 409 \r\nQ 2525 409 2770 889 \r\nQ 3016 1369 3016 2328 \r\nQ 3016 3291 2770 3770 \r\nQ 2525 4250 2034 4250 \r\nz\r\nM 2034 4750 \r\nQ 2819 4750 3233 4129 \r\nQ 3647 3509 3647 2328 \r\nQ 3647 1150 3233 529 \r\nQ 2819 -91 2034 -91 \r\nQ 1250 -91 836 529 \r\nQ 422 1150 422 2328 \r\nQ 422 3509 836 4129 \r\nQ 1250 4750 2034 4750 \r\nz\r\n\" id=\"DejaVuSans-30\" transform=\"scale(0.015625)\"/>\r\n       </defs>\r\n       <use xlink:href=\"#DejaVuSans-30\"/>\r\n      </g>\r\n     </g>\r\n    </g>\r\n    <g id=\"xtick_3\">\r\n     <g id=\"line2d_3\">\r\n      <g>\r\n       <use style=\"stroke:#000000;stroke-width:0.8;\" x=\"216.06526\" xlink:href=\"#mfdbd0192b1\" y=\"227.968569\"/>\r\n      </g>\r\n     </g>\r\n     <g id=\"text_3\">\r\n      <!-- 5 -->\r\n      <g transform=\"translate(212.88401 242.567007)scale(0.1 -0.1)\">\r\n       <use xlink:href=\"#DejaVuSans-35\"/>\r\n      </g>\r\n     </g>\r\n    </g>\r\n    <g id=\"xtick_4\">\r\n     <g id=\"line2d_4\">\r\n      <g>\r\n       <use style=\"stroke:#000000;stroke-width:0.8;\" x=\"288.532792\" xlink:href=\"#mfdbd0192b1\" y=\"227.968569\"/>\r\n      </g>\r\n     </g>\r\n     <g id=\"text_4\">\r\n      <!-- 10 -->\r\n      <g transform=\"translate(282.170292 242.567007)scale(0.1 -0.1)\">\r\n       <defs>\r\n        <path d=\"M 794 531 \r\nL 1825 531 \r\nL 1825 4091 \r\nL 703 3866 \r\nL 703 4441 \r\nL 1819 4666 \r\nL 2450 4666 \r\nL 2450 531 \r\nL 3481 531 \r\nL 3481 0 \r\nL 794 0 \r\nL 794 531 \r\nz\r\n\" id=\"DejaVuSans-31\" transform=\"scale(0.015625)\"/>\r\n       </defs>\r\n       <use xlink:href=\"#DejaVuSans-31\"/>\r\n       <use x=\"63.623047\" xlink:href=\"#DejaVuSans-30\"/>\r\n      </g>\r\n     </g>\r\n    </g>\r\n    <g id=\"xtick_5\">\r\n     <g id=\"line2d_5\">\r\n      <g>\r\n       <use style=\"stroke:#000000;stroke-width:0.8;\" x=\"361.000325\" xlink:href=\"#mfdbd0192b1\" y=\"227.968569\"/>\r\n      </g>\r\n     </g>\r\n     <g id=\"text_5\">\r\n      <!-- 15 -->\r\n      <g transform=\"translate(354.637825 242.567007)scale(0.1 -0.1)\">\r\n       <use xlink:href=\"#DejaVuSans-31\"/>\r\n       <use x=\"63.623047\" xlink:href=\"#DejaVuSans-35\"/>\r\n      </g>\r\n     </g>\r\n    </g>\r\n   </g>\r\n   <g id=\"matplotlib.axis_2\">\r\n    <g id=\"ytick_1\">\r\n     <g id=\"line2d_6\">\r\n      <defs>\r\n       <path d=\"M 0 0 \r\nL -3.5 0 \r\n\" id=\"me36f38da36\" style=\"stroke:#000000;stroke-width:0.8;\"/>\r\n      </defs>\r\n      <g>\r\n       <use style=\"stroke:#000000;stroke-width:0.8;\" x=\"26.925\" xlink:href=\"#me36f38da36\" y=\"199.258959\"/>\r\n      </g>\r\n     </g>\r\n     <g id=\"text_6\">\r\n      <!-- 5 -->\r\n      <g transform=\"translate(13.5625 203.058178)scale(0.1 -0.1)\">\r\n       <use xlink:href=\"#DejaVuSans-35\"/>\r\n      </g>\r\n     </g>\r\n    </g>\r\n    <g id=\"ytick_2\">\r\n     <g id=\"line2d_7\">\r\n      <g>\r\n       <use style=\"stroke:#000000;stroke-width:0.8;\" x=\"26.925\" xlink:href=\"#me36f38da36\" y=\"152.194024\"/>\r\n      </g>\r\n     </g>\r\n     <g id=\"text_7\">\r\n      <!-- 10 -->\r\n      <g transform=\"translate(7.2 155.993243)scale(0.1 -0.1)\">\r\n       <use xlink:href=\"#DejaVuSans-31\"/>\r\n       <use x=\"63.623047\" xlink:href=\"#DejaVuSans-30\"/>\r\n      </g>\r\n     </g>\r\n    </g>\r\n    <g id=\"ytick_3\">\r\n     <g id=\"line2d_8\">\r\n      <g>\r\n       <use style=\"stroke:#000000;stroke-width:0.8;\" x=\"26.925\" xlink:href=\"#me36f38da36\" y=\"105.129089\"/>\r\n      </g>\r\n     </g>\r\n     <g id=\"text_8\">\r\n      <!-- 15 -->\r\n      <g transform=\"translate(7.2 108.928308)scale(0.1 -0.1)\">\r\n       <use xlink:href=\"#DejaVuSans-31\"/>\r\n       <use x=\"63.623047\" xlink:href=\"#DejaVuSans-35\"/>\r\n      </g>\r\n     </g>\r\n    </g>\r\n    <g id=\"ytick_4\">\r\n     <g id=\"line2d_9\">\r\n      <g>\r\n       <use style=\"stroke:#000000;stroke-width:0.8;\" x=\"26.925\" xlink:href=\"#me36f38da36\" y=\"58.064154\"/>\r\n      </g>\r\n     </g>\r\n     <g id=\"text_9\">\r\n      <!-- 20 -->\r\n      <g transform=\"translate(7.2 61.863373)scale(0.1 -0.1)\">\r\n       <defs>\r\n        <path d=\"M 1228 531 \r\nL 3431 531 \r\nL 3431 0 \r\nL 469 0 \r\nL 469 531 \r\nQ 828 903 1448 1529 \r\nQ 2069 2156 2228 2338 \r\nQ 2531 2678 2651 2914 \r\nQ 2772 3150 2772 3378 \r\nQ 2772 3750 2511 3984 \r\nQ 2250 4219 1831 4219 \r\nQ 1534 4219 1204 4116 \r\nQ 875 4013 500 3803 \r\nL 500 4441 \r\nQ 881 4594 1212 4672 \r\nQ 1544 4750 1819 4750 \r\nQ 2544 4750 2975 4387 \r\nQ 3406 4025 3406 3419 \r\nQ 3406 3131 3298 2873 \r\nQ 3191 2616 2906 2266 \r\nQ 2828 2175 2409 1742 \r\nQ 1991 1309 1228 531 \r\nz\r\n\" id=\"DejaVuSans-32\" transform=\"scale(0.015625)\"/>\r\n       </defs>\r\n       <use xlink:href=\"#DejaVuSans-32\"/>\r\n       <use x=\"63.623047\" xlink:href=\"#DejaVuSans-30\"/>\r\n      </g>\r\n     </g>\r\n    </g>\r\n    <g id=\"ytick_5\">\r\n     <g id=\"line2d_10\">\r\n      <g>\r\n       <use style=\"stroke:#000000;stroke-width:0.8;\" x=\"26.925\" xlink:href=\"#me36f38da36\" y=\"10.999219\"/>\r\n      </g>\r\n     </g>\r\n     <g id=\"text_10\">\r\n      <!-- 25 -->\r\n      <g transform=\"translate(7.2 14.798437)scale(0.1 -0.1)\">\r\n       <use xlink:href=\"#DejaVuSans-32\"/>\r\n       <use x=\"63.623047\" xlink:href=\"#DejaVuSans-35\"/>\r\n      </g>\r\n     </g>\r\n    </g>\r\n   </g>\r\n   <g id=\"patch_3\">\r\n    <path d=\"M 26.925 227.968569 \r\nL 26.925 10.528569 \r\n\" style=\"fill:none;stroke:#000000;stroke-linecap:square;stroke-linejoin:miter;stroke-width:0.8;\"/>\r\n   </g>\r\n   <g id=\"patch_4\">\r\n    <path d=\"M 361.725 227.968569 \r\nL 361.725 10.528569 \r\n\" style=\"fill:none;stroke:#000000;stroke-linecap:square;stroke-linejoin:miter;stroke-width:0.8;\"/>\r\n   </g>\r\n   <g id=\"patch_5\">\r\n    <path d=\"M 26.925 227.968569 \r\nL 361.725 227.968569 \r\n\" style=\"fill:none;stroke:#000000;stroke-linecap:square;stroke-linejoin:miter;stroke-width:0.8;\"/>\r\n   </g>\r\n   <g id=\"patch_6\">\r\n    <path d=\"M 26.925 10.528569 \r\nL 361.725 10.528569 \r\n\" style=\"fill:none;stroke:#000000;stroke-linecap:square;stroke-linejoin:miter;stroke-width:0.8;\"/>\r\n   </g>\r\n  </g>\r\n </g>\r\n <defs>\r\n  <clipPath id=\"p24372500b1\">\r\n   <rect height=\"217.44\" width=\"334.8\" x=\"26.925\" y=\"10.528569\"/>\r\n  </clipPath>\r\n </defs>\r\n</svg>\r\n",
      "image/png": "[encoded data removed]"
     },
     "metadata": {
      "needs_background": "light"
     }
    }
   ],
   "metadata": {}
  },
  {
   "cell_type": "code",
   "execution_count": 263,
   "source": [
    "y == X + 10"
   ],
   "outputs": [
    {
     "output_type": "execute_result",
     "data": {
      "text/plain": [
       "array([ True,  True,  True,  True,  True,  True,  True,  True])"
      ]
     },
     "metadata": {},
     "execution_count": 263
    }
   ],
   "metadata": {}
  },
  {
   "cell_type": "markdown",
   "source": [
    "# Input and output shapes"
   ],
   "metadata": {}
  },
  {
   "cell_type": "code",
   "execution_count": 264,
   "source": [
    "# Create a demo tensor for housing price prediction\r\n",
    "house_info = tf.constant(['bedroom', 'bathroom', 'garage'])\r\n",
    "house_info"
   ],
   "outputs": [
    {
     "output_type": "execute_result",
     "data": {
      "text/plain": [
       "<tf.Tensor: shape=(3,), dtype=string, numpy=array([b'bedroom', b'bathroom', b'garage'], dtype=object)>"
      ]
     },
     "metadata": {},
     "execution_count": 264
    }
   ],
   "metadata": {}
  },
  {
   "cell_type": "code",
   "execution_count": 265,
   "source": [
    "input_shape = X.shape\r\n",
    "output_shape = y.shape\r\n"
   ],
   "outputs": [],
   "metadata": {}
  },
  {
   "cell_type": "code",
   "execution_count": 266,
   "source": [
    "# Turn NumPy arrays into tensors\r\n",
    "X = tf.constant(X)\r\n",
    "X, y"
   ],
   "outputs": [
    {
     "output_type": "execute_result",
     "data": {
      "text/plain": [
       "(<tf.Tensor: shape=(8,), dtype=float64, numpy=array([-7., -4., -1.,  2.,  5.,  8., 11., 14.])>,\n",
       " array([ 3.,  6.,  9., 12., 15., 18., 21., 24.]))"
      ]
     },
     "metadata": {},
     "execution_count": 266
    }
   ],
   "metadata": {}
  },
  {
   "cell_type": "code",
   "execution_count": 267,
   "source": [
    "input_shape = X[0].shape\r\n",
    "output_shape = y[0].shape\r\n"
   ],
   "outputs": [],
   "metadata": {}
  },
  {
   "cell_type": "code",
   "execution_count": 268,
   "source": [
    "plt.scatter(X, y)"
   ],
   "outputs": [
    {
     "output_type": "execute_result",
     "data": {
      "text/plain": [
       "<matplotlib.collections.PathCollection at 0x1856d31a250>"
      ]
     },
     "metadata": {},
     "execution_count": 268
    },
    {
     "output_type": "display_data",
     "data": {
      "text/plain": [
       "<Figure size 432x288 with 1 Axes>"
      ],
      "image/svg+xml": "<?xml version=\"1.0\" encoding=\"utf-8\" standalone=\"no\"?>\r\n<!DOCTYPE svg PUBLIC \"-//W3C//DTD SVG 1.1//EN\"\r\n  \"http://www.w3.org/Graphics/SVG/1.1/DTD/svg11.dtd\">\r\n<svg height=\"251.846694pt\" version=\"1.1\" viewBox=\"0 0 374.562825 251.846694\" width=\"374.562825pt\" xmlns=\"http://www.w3.org/2000/svg\" xmlns:xlink=\"http://www.w3.org/1999/xlink\">\r\n <metadata>\r\n  <rdf:RDF xmlns:cc=\"http://creativecommons.org/ns#\" xmlns:dc=\"http://purl.org/dc/elements/1.1/\" xmlns:rdf=\"http://www.w3.org/1999/02/22-rdf-syntax-ns#\">\r\n   <cc:Work>\r\n    <dc:type rdf:resource=\"http://purl.org/dc/dcmitype/StillImage\"/>\r\n    <dc:date>2021-08-10T10:59:49.767952</dc:date>\r\n    <dc:format>image/svg+xml</dc:format>\r\n    <dc:creator>\r\n     <cc:Agent>\r\n      <dc:title>Matplotlib v3.4.2, https://matplotlib.org/</dc:title>\r\n     </cc:Agent>\r\n    </dc:creator>\r\n   </cc:Work>\r\n  </rdf:RDF>\r\n </metadata>\r\n <defs>\r\n  <style type=\"text/css\">*{stroke-linecap:butt;stroke-linejoin:round;}</style>\r\n </defs>\r\n <g id=\"figure_1\">\r\n  <g id=\"patch_1\">\r\n   <path d=\"M -0 251.846694 \r\nL 374.562825 251.846694 \r\nL 374.562825 0 \r\nL -0 0 \r\nz\r\n\" style=\"fill:none;\"/>\r\n  </g>\r\n  <g id=\"axes_1\">\r\n   <g id=\"patch_2\">\r\n    <path d=\"M 26.925 227.968569 \r\nL 361.725 227.968569 \r\nL 361.725 10.528569 \r\nL 26.925 10.528569 \r\nz\r\n\" style=\"fill:#ffffff;\"/>\r\n   </g>\r\n   <g id=\"PathCollection_1\">\r\n    <defs>\r\n     <path d=\"M 0 3 \r\nC 0.795609 3 1.55874 2.683901 2.12132 2.12132 \r\nC 2.683901 1.55874 3 0.795609 3 0 \r\nC 3 -0.795609 2.683901 -1.55874 2.12132 -2.12132 \r\nC 1.55874 -2.683901 0.795609 -3 0 -3 \r\nC -0.795609 -3 -1.55874 -2.683901 -2.12132 -2.12132 \r\nC -2.683901 -1.55874 -3 -0.795609 -3 0 \r\nC -3 0.795609 -2.683901 1.55874 -2.12132 2.12132 \r\nC -1.55874 2.683901 -0.795609 3 0 3 \r\nz\r\n\" id=\"m34a9851989\" style=\"stroke:#1f77b4;\"/>\r\n    </defs>\r\n    <g clip-path=\"url(#p7bcdfdf9e8)\">\r\n     <use style=\"fill:#1f77b4;stroke:#1f77b4;\" x=\"42.143182\" xlink:href=\"#m34a9851989\" y=\"218.084933\"/>\r\n     <use style=\"fill:#1f77b4;stroke:#1f77b4;\" x=\"85.623701\" xlink:href=\"#m34a9851989\" y=\"189.845972\"/>\r\n     <use style=\"fill:#1f77b4;stroke:#1f77b4;\" x=\"129.104221\" xlink:href=\"#m34a9851989\" y=\"161.607011\"/>\r\n     <use style=\"fill:#1f77b4;stroke:#1f77b4;\" x=\"172.58474\" xlink:href=\"#m34a9851989\" y=\"133.36805\"/>\r\n     <use style=\"fill:#1f77b4;stroke:#1f77b4;\" x=\"216.06526\" xlink:href=\"#m34a9851989\" y=\"105.129089\"/>\r\n     <use style=\"fill:#1f77b4;stroke:#1f77b4;\" x=\"259.545779\" xlink:href=\"#m34a9851989\" y=\"76.890128\"/>\r\n     <use style=\"fill:#1f77b4;stroke:#1f77b4;\" x=\"303.026299\" xlink:href=\"#m34a9851989\" y=\"48.651167\"/>\r\n     <use style=\"fill:#1f77b4;stroke:#1f77b4;\" x=\"346.506818\" xlink:href=\"#m34a9851989\" y=\"20.412206\"/>\r\n    </g>\r\n   </g>\r\n   <g id=\"matplotlib.axis_1\">\r\n    <g id=\"xtick_1\">\r\n     <g id=\"line2d_1\">\r\n      <defs>\r\n       <path d=\"M 0 0 \r\nL 0 3.5 \r\n\" id=\"m76460a05ff\" style=\"stroke:#000000;stroke-width:0.8;\"/>\r\n      </defs>\r\n      <g>\r\n       <use style=\"stroke:#000000;stroke-width:0.8;\" x=\"71.130195\" xlink:href=\"#m76460a05ff\" y=\"227.968569\"/>\r\n      </g>\r\n     </g>\r\n     <g id=\"text_1\">\r\n      <!-- −5 -->\r\n      <g transform=\"translate(63.759101 242.567007)scale(0.1 -0.1)\">\r\n       <defs>\r\n        <path d=\"M 678 2272 \r\nL 4684 2272 \r\nL 4684 1741 \r\nL 678 1741 \r\nL 678 2272 \r\nz\r\n\" id=\"DejaVuSans-2212\" transform=\"scale(0.015625)\"/>\r\n        <path d=\"M 691 4666 \r\nL 3169 4666 \r\nL 3169 4134 \r\nL 1269 4134 \r\nL 1269 2991 \r\nQ 1406 3038 1543 3061 \r\nQ 1681 3084 1819 3084 \r\nQ 2600 3084 3056 2656 \r\nQ 3513 2228 3513 1497 \r\nQ 3513 744 3044 326 \r\nQ 2575 -91 1722 -91 \r\nQ 1428 -91 1123 -41 \r\nQ 819 9 494 109 \r\nL 494 744 \r\nQ 775 591 1075 516 \r\nQ 1375 441 1709 441 \r\nQ 2250 441 2565 725 \r\nQ 2881 1009 2881 1497 \r\nQ 2881 1984 2565 2268 \r\nQ 2250 2553 1709 2553 \r\nQ 1456 2553 1204 2497 \r\nQ 953 2441 691 2322 \r\nL 691 4666 \r\nz\r\n\" id=\"DejaVuSans-35\" transform=\"scale(0.015625)\"/>\r\n       </defs>\r\n       <use xlink:href=\"#DejaVuSans-2212\"/>\r\n       <use x=\"83.789062\" xlink:href=\"#DejaVuSans-35\"/>\r\n      </g>\r\n     </g>\r\n    </g>\r\n    <g id=\"xtick_2\">\r\n     <g id=\"line2d_2\">\r\n      <g>\r\n       <use style=\"stroke:#000000;stroke-width:0.8;\" x=\"143.597727\" xlink:href=\"#m76460a05ff\" y=\"227.968569\"/>\r\n      </g>\r\n     </g>\r\n     <g id=\"text_2\">\r\n      <!-- 0 -->\r\n      <g transform=\"translate(140.416477 242.567007)scale(0.1 -0.1)\">\r\n       <defs>\r\n        <path d=\"M 2034 4250 \r\nQ 1547 4250 1301 3770 \r\nQ 1056 3291 1056 2328 \r\nQ 1056 1369 1301 889 \r\nQ 1547 409 2034 409 \r\nQ 2525 409 2770 889 \r\nQ 3016 1369 3016 2328 \r\nQ 3016 3291 2770 3770 \r\nQ 2525 4250 2034 4250 \r\nz\r\nM 2034 4750 \r\nQ 2819 4750 3233 4129 \r\nQ 3647 3509 3647 2328 \r\nQ 3647 1150 3233 529 \r\nQ 2819 -91 2034 -91 \r\nQ 1250 -91 836 529 \r\nQ 422 1150 422 2328 \r\nQ 422 3509 836 4129 \r\nQ 1250 4750 2034 4750 \r\nz\r\n\" id=\"DejaVuSans-30\" transform=\"scale(0.015625)\"/>\r\n       </defs>\r\n       <use xlink:href=\"#DejaVuSans-30\"/>\r\n      </g>\r\n     </g>\r\n    </g>\r\n    <g id=\"xtick_3\">\r\n     <g id=\"line2d_3\">\r\n      <g>\r\n       <use style=\"stroke:#000000;stroke-width:0.8;\" x=\"216.06526\" xlink:href=\"#m76460a05ff\" y=\"227.968569\"/>\r\n      </g>\r\n     </g>\r\n     <g id=\"text_3\">\r\n      <!-- 5 -->\r\n      <g transform=\"translate(212.88401 242.567007)scale(0.1 -0.1)\">\r\n       <use xlink:href=\"#DejaVuSans-35\"/>\r\n      </g>\r\n     </g>\r\n    </g>\r\n    <g id=\"xtick_4\">\r\n     <g id=\"line2d_4\">\r\n      <g>\r\n       <use style=\"stroke:#000000;stroke-width:0.8;\" x=\"288.532792\" xlink:href=\"#m76460a05ff\" y=\"227.968569\"/>\r\n      </g>\r\n     </g>\r\n     <g id=\"text_4\">\r\n      <!-- 10 -->\r\n      <g transform=\"translate(282.170292 242.567007)scale(0.1 -0.1)\">\r\n       <defs>\r\n        <path d=\"M 794 531 \r\nL 1825 531 \r\nL 1825 4091 \r\nL 703 3866 \r\nL 703 4441 \r\nL 1819 4666 \r\nL 2450 4666 \r\nL 2450 531 \r\nL 3481 531 \r\nL 3481 0 \r\nL 794 0 \r\nL 794 531 \r\nz\r\n\" id=\"DejaVuSans-31\" transform=\"scale(0.015625)\"/>\r\n       </defs>\r\n       <use xlink:href=\"#DejaVuSans-31\"/>\r\n       <use x=\"63.623047\" xlink:href=\"#DejaVuSans-30\"/>\r\n      </g>\r\n     </g>\r\n    </g>\r\n    <g id=\"xtick_5\">\r\n     <g id=\"line2d_5\">\r\n      <g>\r\n       <use style=\"stroke:#000000;stroke-width:0.8;\" x=\"361.000325\" xlink:href=\"#m76460a05ff\" y=\"227.968569\"/>\r\n      </g>\r\n     </g>\r\n     <g id=\"text_5\">\r\n      <!-- 15 -->\r\n      <g transform=\"translate(354.637825 242.567007)scale(0.1 -0.1)\">\r\n       <use xlink:href=\"#DejaVuSans-31\"/>\r\n       <use x=\"63.623047\" xlink:href=\"#DejaVuSans-35\"/>\r\n      </g>\r\n     </g>\r\n    </g>\r\n   </g>\r\n   <g id=\"matplotlib.axis_2\">\r\n    <g id=\"ytick_1\">\r\n     <g id=\"line2d_6\">\r\n      <defs>\r\n       <path d=\"M 0 0 \r\nL -3.5 0 \r\n\" id=\"m82a6595243\" style=\"stroke:#000000;stroke-width:0.8;\"/>\r\n      </defs>\r\n      <g>\r\n       <use style=\"stroke:#000000;stroke-width:0.8;\" x=\"26.925\" xlink:href=\"#m82a6595243\" y=\"199.258959\"/>\r\n      </g>\r\n     </g>\r\n     <g id=\"text_6\">\r\n      <!-- 5 -->\r\n      <g transform=\"translate(13.5625 203.058178)scale(0.1 -0.1)\">\r\n       <use xlink:href=\"#DejaVuSans-35\"/>\r\n      </g>\r\n     </g>\r\n    </g>\r\n    <g id=\"ytick_2\">\r\n     <g id=\"line2d_7\">\r\n      <g>\r\n       <use style=\"stroke:#000000;stroke-width:0.8;\" x=\"26.925\" xlink:href=\"#m82a6595243\" y=\"152.194024\"/>\r\n      </g>\r\n     </g>\r\n     <g id=\"text_7\">\r\n      <!-- 10 -->\r\n      <g transform=\"translate(7.2 155.993243)scale(0.1 -0.1)\">\r\n       <use xlink:href=\"#DejaVuSans-31\"/>\r\n       <use x=\"63.623047\" xlink:href=\"#DejaVuSans-30\"/>\r\n      </g>\r\n     </g>\r\n    </g>\r\n    <g id=\"ytick_3\">\r\n     <g id=\"line2d_8\">\r\n      <g>\r\n       <use style=\"stroke:#000000;stroke-width:0.8;\" x=\"26.925\" xlink:href=\"#m82a6595243\" y=\"105.129089\"/>\r\n      </g>\r\n     </g>\r\n     <g id=\"text_8\">\r\n      <!-- 15 -->\r\n      <g transform=\"translate(7.2 108.928308)scale(0.1 -0.1)\">\r\n       <use xlink:href=\"#DejaVuSans-31\"/>\r\n       <use x=\"63.623047\" xlink:href=\"#DejaVuSans-35\"/>\r\n      </g>\r\n     </g>\r\n    </g>\r\n    <g id=\"ytick_4\">\r\n     <g id=\"line2d_9\">\r\n      <g>\r\n       <use style=\"stroke:#000000;stroke-width:0.8;\" x=\"26.925\" xlink:href=\"#m82a6595243\" y=\"58.064154\"/>\r\n      </g>\r\n     </g>\r\n     <g id=\"text_9\">\r\n      <!-- 20 -->\r\n      <g transform=\"translate(7.2 61.863373)scale(0.1 -0.1)\">\r\n       <defs>\r\n        <path d=\"M 1228 531 \r\nL 3431 531 \r\nL 3431 0 \r\nL 469 0 \r\nL 469 531 \r\nQ 828 903 1448 1529 \r\nQ 2069 2156 2228 2338 \r\nQ 2531 2678 2651 2914 \r\nQ 2772 3150 2772 3378 \r\nQ 2772 3750 2511 3984 \r\nQ 2250 4219 1831 4219 \r\nQ 1534 4219 1204 4116 \r\nQ 875 4013 500 3803 \r\nL 500 4441 \r\nQ 881 4594 1212 4672 \r\nQ 1544 4750 1819 4750 \r\nQ 2544 4750 2975 4387 \r\nQ 3406 4025 3406 3419 \r\nQ 3406 3131 3298 2873 \r\nQ 3191 2616 2906 2266 \r\nQ 2828 2175 2409 1742 \r\nQ 1991 1309 1228 531 \r\nz\r\n\" id=\"DejaVuSans-32\" transform=\"scale(0.015625)\"/>\r\n       </defs>\r\n       <use xlink:href=\"#DejaVuSans-32\"/>\r\n       <use x=\"63.623047\" xlink:href=\"#DejaVuSans-30\"/>\r\n      </g>\r\n     </g>\r\n    </g>\r\n    <g id=\"ytick_5\">\r\n     <g id=\"line2d_10\">\r\n      <g>\r\n       <use style=\"stroke:#000000;stroke-width:0.8;\" x=\"26.925\" xlink:href=\"#m82a6595243\" y=\"10.999219\"/>\r\n      </g>\r\n     </g>\r\n     <g id=\"text_10\">\r\n      <!-- 25 -->\r\n      <g transform=\"translate(7.2 14.798437)scale(0.1 -0.1)\">\r\n       <use xlink:href=\"#DejaVuSans-32\"/>\r\n       <use x=\"63.623047\" xlink:href=\"#DejaVuSans-35\"/>\r\n      </g>\r\n     </g>\r\n    </g>\r\n   </g>\r\n   <g id=\"patch_3\">\r\n    <path d=\"M 26.925 227.968569 \r\nL 26.925 10.528569 \r\n\" style=\"fill:none;stroke:#000000;stroke-linecap:square;stroke-linejoin:miter;stroke-width:0.8;\"/>\r\n   </g>\r\n   <g id=\"patch_4\">\r\n    <path d=\"M 361.725 227.968569 \r\nL 361.725 10.528569 \r\n\" style=\"fill:none;stroke:#000000;stroke-linecap:square;stroke-linejoin:miter;stroke-width:0.8;\"/>\r\n   </g>\r\n   <g id=\"patch_5\">\r\n    <path d=\"M 26.925 227.968569 \r\nL 361.725 227.968569 \r\n\" style=\"fill:none;stroke:#000000;stroke-linecap:square;stroke-linejoin:miter;stroke-width:0.8;\"/>\r\n   </g>\r\n   <g id=\"patch_6\">\r\n    <path d=\"M 26.925 10.528569 \r\nL 361.725 10.528569 \r\n\" style=\"fill:none;stroke:#000000;stroke-linecap:square;stroke-linejoin:miter;stroke-width:0.8;\"/>\r\n   </g>\r\n  </g>\r\n </g>\r\n <defs>\r\n  <clipPath id=\"p7bcdfdf9e8\">\r\n   <rect height=\"217.44\" width=\"334.8\" x=\"26.925\" y=\"10.528569\"/>\r\n  </clipPath>\r\n </defs>\r\n</svg>\r\n",
      "image/png": "[encoded data removed]"
     },
     "metadata": {
      "needs_background": "light"
     }
    }
   ],
   "metadata": {}
  },
  {
   "cell_type": "markdown",
   "source": [
    "# Steps in modelling with TensorFlow\r\n",
    "1. **Creating a model** - define the input and output layers, as well as the hidden layers of a deep learning model.\r\n",
    "2. **Compiling a model** - define the loss function (the function which tells our model how wrong it is) and the optimizer (tells model how to improve the patterns to its learning) and evaluation metrics (what is used to interpret the performance of a model)\r\n",
    "3. **Fitting a model** - letting the model try to find patterns between X & y (features and labels)"
   ],
   "metadata": {}
  },
  {
   "cell_type": "code",
   "execution_count": 269,
   "source": [
    "tf.random.set_seed(42)\r\n",
    "\r\n",
    "model = tf.keras.Sequential()\r\n",
    "model.add(tf.keras.layers.Dense(100, activation='relu'))\r\n",
    "model.add(tf.keras.layers.Dense(1))\r\n",
    "\r\n",
    "# 2. Compile the model\r\n",
    "model.compile(loss=tf.keras.losses.mae, # mae = mean absolute error\r\n",
    "optimizer=tf.keras.optimizers.Adam(learning_rate=0.01), # SGD = Stochastic Gradient Descent\r\n",
    "metrics=['mae']\r\n",
    ")\r\n",
    "\r\n",
    "# 3. Fit the model\r\n",
    "history = model.fit(X, y, epochs=100)"
   ],
   "outputs": [
    {
     "output_type": "stream",
     "name": "stdout",
     "text": [
      "Epoch 1/100\n",
      "1/1 [==============================] - 0s 335ms/step - loss: 12.3185 - mae: 12.3185\n",
      "Epoch 2/100\n",
      "1/1 [==============================] - 0s 5ms/step - loss: 11.4382 - mae: 11.4382\n",
      "Epoch 3/100\n",
      "1/1 [==============================] - 0s 6ms/step - loss: 10.5493 - mae: 10.5493\n",
      "Epoch 4/100\n",
      "1/1 [==============================] - 0s 6ms/step - loss: 9.7151 - mae: 9.7151\n",
      "Epoch 5/100\n",
      "1/1 [==============================] - 0s 6ms/step - loss: 9.0089 - mae: 9.0089\n",
      "Epoch 6/100\n",
      "1/1 [==============================] - 0s 5ms/step - loss: 8.2745 - mae: 8.2745\n",
      "Epoch 7/100\n",
      "1/1 [==============================] - 0s 5ms/step - loss: 7.5150 - mae: 7.5150\n",
      "Epoch 8/100\n",
      "1/1 [==============================] - 0s 6ms/step - loss: 6.7230 - mae: 6.7230\n",
      "Epoch 9/100\n",
      "1/1 [==============================] - 0s 5ms/step - loss: 5.8979 - mae: 5.8979\n",
      "Epoch 10/100\n",
      "1/1 [==============================] - 0s 6ms/step - loss: 5.0335 - mae: 5.0335\n",
      "Epoch 11/100\n",
      "1/1 [==============================] - 0s 6ms/step - loss: 4.1245 - mae: 4.1245\n",
      "Epoch 12/100\n",
      "1/1 [==============================] - 0s 5ms/step - loss: 3.7511 - mae: 3.7511\n",
      "Epoch 13/100\n",
      "1/1 [==============================] - 0s 6ms/step - loss: 3.9158 - mae: 3.9158\n",
      "Epoch 14/100\n",
      "1/1 [==============================] - 0s 5ms/step - loss: 4.1522 - mae: 4.1522\n",
      "Epoch 15/100\n",
      "1/1 [==============================] - 0s 4ms/step - loss: 4.5077 - mae: 4.5077\n",
      "Epoch 16/100\n",
      "1/1 [==============================] - 0s 5ms/step - loss: 4.7397 - mae: 4.7397\n",
      "Epoch 17/100\n",
      "1/1 [==============================] - 0s 4ms/step - loss: 4.8614 - mae: 4.8614\n",
      "Epoch 18/100\n",
      "1/1 [==============================] - 0s 5ms/step - loss: 4.8872 - mae: 4.8872\n",
      "Epoch 19/100\n",
      "1/1 [==============================] - 0s 5ms/step - loss: 4.8299 - mae: 4.8299\n",
      "Epoch 20/100\n",
      "1/1 [==============================] - 0s 4ms/step - loss: 4.7017 - mae: 4.7017\n",
      "Epoch 21/100\n",
      "1/1 [==============================] - 0s 5ms/step - loss: 4.5153 - mae: 4.5153\n",
      "Epoch 22/100\n",
      "1/1 [==============================] - 0s 6ms/step - loss: 4.2834 - mae: 4.2834\n",
      "Epoch 23/100\n",
      "1/1 [==============================] - 0s 5ms/step - loss: 4.0133 - mae: 4.0133\n",
      "Epoch 24/100\n",
      "1/1 [==============================] - 0s 6ms/step - loss: 3.7305 - mae: 3.7305\n",
      "Epoch 25/100\n",
      "1/1 [==============================] - 0s 5ms/step - loss: 3.6061 - mae: 3.6061\n",
      "Epoch 26/100\n",
      "1/1 [==============================] - 0s 5ms/step - loss: 3.4817 - mae: 3.4817\n",
      "Epoch 27/100\n",
      "1/1 [==============================] - 0s 6ms/step - loss: 3.3552 - mae: 3.3552\n",
      "Epoch 28/100\n",
      "1/1 [==============================] - 0s 5ms/step - loss: 3.3429 - mae: 3.3429\n",
      "Epoch 29/100\n",
      "1/1 [==============================] - 0s 5ms/step - loss: 3.3752 - mae: 3.3752\n",
      "Epoch 30/100\n",
      "1/1 [==============================] - 0s 5ms/step - loss: 3.3967 - mae: 3.3967\n",
      "Epoch 31/100\n",
      "1/1 [==============================] - 0s 5ms/step - loss: 3.3852 - mae: 3.3852\n",
      "Epoch 32/100\n",
      "1/1 [==============================] - 0s 5ms/step - loss: 3.3337 - mae: 3.3337\n",
      "Epoch 33/100\n",
      "1/1 [==============================] - 0s 4ms/step - loss: 3.2754 - mae: 3.2754\n",
      "Epoch 34/100\n",
      "1/1 [==============================] - 0s 5ms/step - loss: 3.1896 - mae: 3.1896\n",
      "Epoch 35/100\n",
      "1/1 [==============================] - 0s 5ms/step - loss: 3.0763 - mae: 3.0763\n",
      "Epoch 36/100\n",
      "1/1 [==============================] - 0s 5ms/step - loss: 2.9380 - mae: 2.9380\n",
      "Epoch 37/100\n",
      "1/1 [==============================] - 0s 5ms/step - loss: 2.8169 - mae: 2.8169\n",
      "Epoch 38/100\n",
      "1/1 [==============================] - 0s 5ms/step - loss: 2.7896 - mae: 2.7896\n",
      "Epoch 39/100\n",
      "1/1 [==============================] - 0s 5ms/step - loss: 2.7367 - mae: 2.7367\n",
      "Epoch 40/100\n",
      "1/1 [==============================] - 0s 6ms/step - loss: 2.7003 - mae: 2.7003\n",
      "Epoch 41/100\n",
      "1/1 [==============================] - 0s 6ms/step - loss: 2.5916 - mae: 2.5916\n",
      "Epoch 42/100\n",
      "1/1 [==============================] - 0s 5ms/step - loss: 2.4901 - mae: 2.4901\n",
      "Epoch 43/100\n",
      "1/1 [==============================] - 0s 5ms/step - loss: 2.3889 - mae: 2.3889\n",
      "Epoch 44/100\n",
      "1/1 [==============================] - 0s 5ms/step - loss: 2.2773 - mae: 2.2773\n",
      "Epoch 45/100\n",
      "1/1 [==============================] - 0s 6ms/step - loss: 2.1486 - mae: 2.1486\n",
      "Epoch 46/100\n",
      "1/1 [==============================] - 0s 4ms/step - loss: 2.0120 - mae: 2.0120\n",
      "Epoch 47/100\n",
      "1/1 [==============================] - 0s 5ms/step - loss: 1.8716 - mae: 1.8716\n",
      "Epoch 48/100\n",
      "1/1 [==============================] - 0s 5ms/step - loss: 1.8010 - mae: 1.8010\n",
      "Epoch 49/100\n",
      "1/1 [==============================] - 0s 5ms/step - loss: 1.6817 - mae: 1.6817\n",
      "Epoch 50/100\n",
      "1/1 [==============================] - 0s 6ms/step - loss: 1.4949 - mae: 1.4949\n",
      "Epoch 51/100\n",
      "1/1 [==============================] - 0s 4ms/step - loss: 1.3659 - mae: 1.3659\n",
      "Epoch 52/100\n",
      "1/1 [==============================] - 0s 6ms/step - loss: 1.2459 - mae: 1.2459\n",
      "Epoch 53/100\n",
      "1/1 [==============================] - 0s 5ms/step - loss: 1.1011 - mae: 1.1011\n",
      "Epoch 54/100\n",
      "1/1 [==============================] - 0s 5ms/step - loss: 0.9050 - mae: 0.9050\n",
      "Epoch 55/100\n",
      "1/1 [==============================] - 0s 6ms/step - loss: 0.7032 - mae: 0.7032\n",
      "Epoch 56/100\n",
      "1/1 [==============================] - 0s 5ms/step - loss: 0.4866 - mae: 0.4866\n",
      "Epoch 57/100\n",
      "1/1 [==============================] - 0s 5ms/step - loss: 0.3925 - mae: 0.3925\n",
      "Epoch 58/100\n",
      "1/1 [==============================] - 0s 5ms/step - loss: 0.2728 - mae: 0.2728\n",
      "Epoch 59/100\n",
      "1/1 [==============================] - 0s 5ms/step - loss: 0.2036 - mae: 0.2036\n",
      "Epoch 60/100\n",
      "1/1 [==============================] - 0s 5ms/step - loss: 0.4177 - mae: 0.4177\n",
      "Epoch 61/100\n",
      "1/1 [==============================] - 0s 5ms/step - loss: 0.3904 - mae: 0.3904\n",
      "Epoch 62/100\n",
      "1/1 [==============================] - 0s 6ms/step - loss: 0.4483 - mae: 0.4483\n",
      "Epoch 63/100\n",
      "1/1 [==============================] - 0s 6ms/step - loss: 0.4128 - mae: 0.4128\n",
      "Epoch 64/100\n",
      "1/1 [==============================] - 0s 5ms/step - loss: 0.5029 - mae: 0.5029\n",
      "Epoch 65/100\n",
      "1/1 [==============================] - 0s 6ms/step - loss: 0.4210 - mae: 0.4210\n",
      "Epoch 66/100\n",
      "1/1 [==============================] - 0s 5ms/step - loss: 0.4624 - mae: 0.4624\n",
      "Epoch 67/100\n",
      "1/1 [==============================] - 0s 7ms/step - loss: 0.3584 - mae: 0.3584\n",
      "Epoch 68/100\n",
      "1/1 [==============================] - 0s 5ms/step - loss: 0.3169 - mae: 0.3169\n",
      "Epoch 69/100\n",
      "1/1 [==============================] - 0s 5ms/step - loss: 0.2630 - mae: 0.2630\n",
      "Epoch 70/100\n",
      "1/1 [==============================] - 0s 4ms/step - loss: 0.2135 - mae: 0.2135\n",
      "Epoch 71/100\n",
      "1/1 [==============================] - 0s 5ms/step - loss: 0.1765 - mae: 0.1765\n",
      "Epoch 72/100\n",
      "1/1 [==============================] - 0s 6ms/step - loss: 0.3349 - mae: 0.3349\n",
      "Epoch 73/100\n",
      "1/1 [==============================] - 0s 5ms/step - loss: 0.3266 - mae: 0.3266\n",
      "Epoch 74/100\n",
      "1/1 [==============================] - 0s 6ms/step - loss: 0.1932 - mae: 0.1932\n",
      "Epoch 75/100\n",
      "1/1 [==============================] - 0s 5ms/step - loss: 0.2845 - mae: 0.2845\n",
      "Epoch 76/100\n",
      "1/1 [==============================] - 0s 5ms/step - loss: 0.1706 - mae: 0.1706\n",
      "Epoch 77/100\n",
      "1/1 [==============================] - 0s 5ms/step - loss: 0.1885 - mae: 0.1885\n",
      "Epoch 78/100\n",
      "1/1 [==============================] - 0s 5ms/step - loss: 0.2379 - mae: 0.2379\n",
      "Epoch 79/100\n",
      "1/1 [==============================] - 0s 5ms/step - loss: 0.2396 - mae: 0.2396\n",
      "Epoch 80/100\n",
      "1/1 [==============================] - 0s 5ms/step - loss: 0.2634 - mae: 0.2634\n",
      "Epoch 81/100\n",
      "1/1 [==============================] - 0s 6ms/step - loss: 0.1766 - mae: 0.1766\n",
      "Epoch 82/100\n",
      "1/1 [==============================] - 0s 4ms/step - loss: 0.2348 - mae: 0.2348\n",
      "Epoch 83/100\n",
      "1/1 [==============================] - 0s 5ms/step - loss: 0.1657 - mae: 0.1657\n",
      "Epoch 84/100\n",
      "1/1 [==============================] - 0s 5ms/step - loss: 0.2314 - mae: 0.2314\n",
      "Epoch 85/100\n",
      "1/1 [==============================] - 0s 5ms/step - loss: 0.1406 - mae: 0.1406\n",
      "Epoch 86/100\n",
      "1/1 [==============================] - 0s 5ms/step - loss: 0.2704 - mae: 0.2704\n",
      "Epoch 87/100\n",
      "1/1 [==============================] - 0s 5ms/step - loss: 0.2625 - mae: 0.2625\n",
      "Epoch 88/100\n",
      "1/1 [==============================] - 0s 5ms/step - loss: 0.1244 - mae: 0.1244\n",
      "Epoch 89/100\n",
      "1/1 [==============================] - 0s 4ms/step - loss: 0.2429 - mae: 0.2429\n",
      "Epoch 90/100\n",
      "1/1 [==============================] - 0s 5ms/step - loss: 0.1039 - mae: 0.1039\n",
      "Epoch 91/100\n",
      "1/1 [==============================] - 0s 6ms/step - loss: 0.3655 - mae: 0.3655\n",
      "Epoch 92/100\n",
      "1/1 [==============================] - 0s 5ms/step - loss: 0.3427 - mae: 0.3427\n",
      "Epoch 93/100\n",
      "1/1 [==============================] - 0s 6ms/step - loss: 0.0837 - mae: 0.0837\n",
      "Epoch 94/100\n",
      "1/1 [==============================] - 0s 5ms/step - loss: 0.5454 - mae: 0.5454\n",
      "Epoch 95/100\n",
      "1/1 [==============================] - 0s 5ms/step - loss: 0.6924 - mae: 0.6924\n",
      "Epoch 96/100\n",
      "1/1 [==============================] - 0s 5ms/step - loss: 0.5241 - mae: 0.5241\n",
      "Epoch 97/100\n",
      "1/1 [==============================] - 0s 5ms/step - loss: 0.1474 - mae: 0.1474\n",
      "Epoch 98/100\n",
      "1/1 [==============================] - 0s 5ms/step - loss: 0.4495 - mae: 0.4495\n",
      "Epoch 99/100\n",
      "1/1 [==============================] - 0s 5ms/step - loss: 0.6042 - mae: 0.6042\n",
      "Epoch 100/100\n",
      "1/1 [==============================] - 0s 5ms/step - loss: 0.5008 - mae: 0.5008\n"
     ]
    }
   ],
   "metadata": {}
  },
  {
   "cell_type": "code",
   "execution_count": 270,
   "source": [
    "y_pred = model.predict([18.0])\r\n",
    "y_pred"
   ],
   "outputs": [
    {
     "output_type": "execute_result",
     "data": {
      "text/plain": [
       "array([[28.09094]], dtype=float32)"
      ]
     },
     "metadata": {},
     "execution_count": 270
    }
   ],
   "metadata": {}
  },
  {
   "cell_type": "markdown",
   "source": [
    "## Improving the model\r\n",
    "\r\n",
    "1. **Creating a model** - might add more layers, increase the number of hiddent units (all called neurons), change the activation function of each layer.\r\n",
    "2. **Compiling a model** - might change the optimization function or perhaps the **learning rate** of the optimization function.\r\n",
    "3. **Fitting a model** - might fit a model for more **epochs** (leave it training for longer) on or more data (give the model more examples to learn from)"
   ],
   "metadata": {}
  },
  {
   "cell_type": "markdown",
   "source": [
    "# Evaluating a model\r\n",
    "\r\n",
    "## **Visualize, visualize, visualize**"
   ],
   "metadata": {}
  },
  {
   "cell_type": "code",
   "execution_count": 271,
   "source": [
    "# Make a bigger dataset\r\n",
    "X = tf.range(-100, 100, 4)\r\n"
   ],
   "outputs": [],
   "metadata": {}
  },
  {
   "cell_type": "code",
   "execution_count": 272,
   "source": [
    "# Make labels for the dataset\r\n",
    "y= X + 10\r\n"
   ],
   "outputs": [],
   "metadata": {}
  },
  {
   "cell_type": "code",
   "execution_count": 273,
   "source": [
    "# Visualize the data\r\n",
    "plt.scatter(X, y)\r\n",
    "plt.show()"
   ],
   "outputs": [
    {
     "output_type": "display_data",
     "data": {
      "text/plain": [
       "<Figure size 432x288 with 1 Axes>"
      ],
      "image/svg+xml": "<?xml version=\"1.0\" encoding=\"utf-8\" standalone=\"no\"?>\r\n<!DOCTYPE svg PUBLIC \"-//W3C//DTD SVG 1.1//EN\"\r\n  \"http://www.w3.org/Graphics/SVG/1.1/DTD/svg11.dtd\">\r\n<svg height=\"248.518125pt\" version=\"1.1\" viewBox=\"0 0 377.841758 248.518125\" width=\"377.841758pt\" xmlns=\"http://www.w3.org/2000/svg\" xmlns:xlink=\"http://www.w3.org/1999/xlink\">\r\n <metadata>\r\n  <rdf:RDF xmlns:cc=\"http://creativecommons.org/ns#\" xmlns:dc=\"http://purl.org/dc/elements/1.1/\" xmlns:rdf=\"http://www.w3.org/1999/02/22-rdf-syntax-ns#\">\r\n   <cc:Work>\r\n    <dc:type rdf:resource=\"http://purl.org/dc/dcmitype/StillImage\"/>\r\n    <dc:date>2021-08-10T10:59:53.979446</dc:date>\r\n    <dc:format>image/svg+xml</dc:format>\r\n    <dc:creator>\r\n     <cc:Agent>\r\n      <dc:title>Matplotlib v3.4.2, https://matplotlib.org/</dc:title>\r\n     </cc:Agent>\r\n    </dc:creator>\r\n   </cc:Work>\r\n  </rdf:RDF>\r\n </metadata>\r\n <defs>\r\n  <style type=\"text/css\">*{stroke-linecap:butt;stroke-linejoin:round;}</style>\r\n </defs>\r\n <g id=\"figure_1\">\r\n  <g id=\"patch_1\">\r\n   <path d=\"M 0 248.518125 \r\nL 377.841758 248.518125 \r\nL 377.841758 0 \r\nL 0 0 \r\nz\r\n\" style=\"fill:none;\"/>\r\n  </g>\r\n  <g id=\"axes_1\">\r\n   <g id=\"patch_2\">\r\n    <path d=\"M 35.304688 224.64 \r\nL 370.104688 224.64 \r\nL 370.104688 7.2 \r\nL 35.304688 7.2 \r\nz\r\n\" style=\"fill:#ffffff;\"/>\r\n   </g>\r\n   <g id=\"PathCollection_1\">\r\n    <defs>\r\n     <path d=\"M 0 3 \r\nC 0.795609 3 1.55874 2.683901 2.12132 2.12132 \r\nC 2.683901 1.55874 3 0.795609 3 0 \r\nC 3 -0.795609 2.683901 -1.55874 2.12132 -2.12132 \r\nC 1.55874 -2.683901 0.795609 -3 0 -3 \r\nC -0.795609 -3 -1.55874 -2.683901 -2.12132 -2.12132 \r\nC -2.683901 -1.55874 -3 -0.795609 -3 0 \r\nC -3 0.795609 -2.683901 1.55874 -2.12132 2.12132 \r\nC -1.55874 2.683901 -0.795609 3 0 3 \r\nz\r\n\" id=\"m2d86192767\" style=\"stroke:#1f77b4;\"/>\r\n    </defs>\r\n    <g clip-path=\"url(#p9417a09e25)\">\r\n     <use style=\"fill:#1f77b4;stroke:#1f77b4;\" x=\"50.522869\" xlink:href=\"#m2d86192767\" y=\"214.756364\"/>\r\n     <use style=\"fill:#1f77b4;stroke:#1f77b4;\" x=\"56.734372\" xlink:href=\"#m2d86192767\" y=\"210.722226\"/>\r\n     <use style=\"fill:#1f77b4;stroke:#1f77b4;\" x=\"62.945875\" xlink:href=\"#m2d86192767\" y=\"206.688089\"/>\r\n     <use style=\"fill:#1f77b4;stroke:#1f77b4;\" x=\"69.157378\" xlink:href=\"#m2d86192767\" y=\"202.653952\"/>\r\n     <use style=\"fill:#1f77b4;stroke:#1f77b4;\" x=\"75.36888\" xlink:href=\"#m2d86192767\" y=\"198.619814\"/>\r\n     <use style=\"fill:#1f77b4;stroke:#1f77b4;\" x=\"81.580383\" xlink:href=\"#m2d86192767\" y=\"194.585677\"/>\r\n     <use style=\"fill:#1f77b4;stroke:#1f77b4;\" x=\"87.791886\" xlink:href=\"#m2d86192767\" y=\"190.55154\"/>\r\n     <use style=\"fill:#1f77b4;stroke:#1f77b4;\" x=\"94.003389\" xlink:href=\"#m2d86192767\" y=\"186.517403\"/>\r\n     <use style=\"fill:#1f77b4;stroke:#1f77b4;\" x=\"100.214892\" xlink:href=\"#m2d86192767\" y=\"182.483265\"/>\r\n     <use style=\"fill:#1f77b4;stroke:#1f77b4;\" x=\"106.426394\" xlink:href=\"#m2d86192767\" y=\"178.449128\"/>\r\n     <use style=\"fill:#1f77b4;stroke:#1f77b4;\" x=\"112.637897\" xlink:href=\"#m2d86192767\" y=\"174.414991\"/>\r\n     <use style=\"fill:#1f77b4;stroke:#1f77b4;\" x=\"118.8494\" xlink:href=\"#m2d86192767\" y=\"170.380853\"/>\r\n     <use style=\"fill:#1f77b4;stroke:#1f77b4;\" x=\"125.060903\" xlink:href=\"#m2d86192767\" y=\"166.346716\"/>\r\n     <use style=\"fill:#1f77b4;stroke:#1f77b4;\" x=\"131.272405\" xlink:href=\"#m2d86192767\" y=\"162.312579\"/>\r\n     <use style=\"fill:#1f77b4;stroke:#1f77b4;\" x=\"137.483908\" xlink:href=\"#m2d86192767\" y=\"158.278442\"/>\r\n     <use style=\"fill:#1f77b4;stroke:#1f77b4;\" x=\"143.695411\" xlink:href=\"#m2d86192767\" y=\"154.244304\"/>\r\n     <use style=\"fill:#1f77b4;stroke:#1f77b4;\" x=\"149.906914\" xlink:href=\"#m2d86192767\" y=\"150.210167\"/>\r\n     <use style=\"fill:#1f77b4;stroke:#1f77b4;\" x=\"156.118417\" xlink:href=\"#m2d86192767\" y=\"146.17603\"/>\r\n     <use style=\"fill:#1f77b4;stroke:#1f77b4;\" x=\"162.329919\" xlink:href=\"#m2d86192767\" y=\"142.141892\"/>\r\n     <use style=\"fill:#1f77b4;stroke:#1f77b4;\" x=\"168.541422\" xlink:href=\"#m2d86192767\" y=\"138.107755\"/>\r\n     <use style=\"fill:#1f77b4;stroke:#1f77b4;\" x=\"174.752925\" xlink:href=\"#m2d86192767\" y=\"134.073618\"/>\r\n     <use style=\"fill:#1f77b4;stroke:#1f77b4;\" x=\"180.964428\" xlink:href=\"#m2d86192767\" y=\"130.039481\"/>\r\n     <use style=\"fill:#1f77b4;stroke:#1f77b4;\" x=\"187.175931\" xlink:href=\"#m2d86192767\" y=\"126.005343\"/>\r\n     <use style=\"fill:#1f77b4;stroke:#1f77b4;\" x=\"193.387433\" xlink:href=\"#m2d86192767\" y=\"121.971206\"/>\r\n     <use style=\"fill:#1f77b4;stroke:#1f77b4;\" x=\"199.598936\" xlink:href=\"#m2d86192767\" y=\"117.937069\"/>\r\n     <use style=\"fill:#1f77b4;stroke:#1f77b4;\" x=\"205.810439\" xlink:href=\"#m2d86192767\" y=\"113.902931\"/>\r\n     <use style=\"fill:#1f77b4;stroke:#1f77b4;\" x=\"212.021942\" xlink:href=\"#m2d86192767\" y=\"109.868794\"/>\r\n     <use style=\"fill:#1f77b4;stroke:#1f77b4;\" x=\"218.233444\" xlink:href=\"#m2d86192767\" y=\"105.834657\"/>\r\n     <use style=\"fill:#1f77b4;stroke:#1f77b4;\" x=\"224.444947\" xlink:href=\"#m2d86192767\" y=\"101.800519\"/>\r\n     <use style=\"fill:#1f77b4;stroke:#1f77b4;\" x=\"230.65645\" xlink:href=\"#m2d86192767\" y=\"97.766382\"/>\r\n     <use style=\"fill:#1f77b4;stroke:#1f77b4;\" x=\"236.867953\" xlink:href=\"#m2d86192767\" y=\"93.732245\"/>\r\n     <use style=\"fill:#1f77b4;stroke:#1f77b4;\" x=\"243.079456\" xlink:href=\"#m2d86192767\" y=\"89.698108\"/>\r\n     <use style=\"fill:#1f77b4;stroke:#1f77b4;\" x=\"249.290958\" xlink:href=\"#m2d86192767\" y=\"85.66397\"/>\r\n     <use style=\"fill:#1f77b4;stroke:#1f77b4;\" x=\"255.502461\" xlink:href=\"#m2d86192767\" y=\"81.629833\"/>\r\n     <use style=\"fill:#1f77b4;stroke:#1f77b4;\" x=\"261.713964\" xlink:href=\"#m2d86192767\" y=\"77.595696\"/>\r\n     <use style=\"fill:#1f77b4;stroke:#1f77b4;\" x=\"267.925467\" xlink:href=\"#m2d86192767\" y=\"73.561558\"/>\r\n     <use style=\"fill:#1f77b4;stroke:#1f77b4;\" x=\"274.13697\" xlink:href=\"#m2d86192767\" y=\"69.527421\"/>\r\n     <use style=\"fill:#1f77b4;stroke:#1f77b4;\" x=\"280.348472\" xlink:href=\"#m2d86192767\" y=\"65.493284\"/>\r\n     <use style=\"fill:#1f77b4;stroke:#1f77b4;\" x=\"286.559975\" xlink:href=\"#m2d86192767\" y=\"61.459147\"/>\r\n     <use style=\"fill:#1f77b4;stroke:#1f77b4;\" x=\"292.771478\" xlink:href=\"#m2d86192767\" y=\"57.425009\"/>\r\n     <use style=\"fill:#1f77b4;stroke:#1f77b4;\" x=\"298.982981\" xlink:href=\"#m2d86192767\" y=\"53.390872\"/>\r\n     <use style=\"fill:#1f77b4;stroke:#1f77b4;\" x=\"305.194483\" xlink:href=\"#m2d86192767\" y=\"49.356735\"/>\r\n     <use style=\"fill:#1f77b4;stroke:#1f77b4;\" x=\"311.405986\" xlink:href=\"#m2d86192767\" y=\"45.322597\"/>\r\n     <use style=\"fill:#1f77b4;stroke:#1f77b4;\" x=\"317.617489\" xlink:href=\"#m2d86192767\" y=\"41.28846\"/>\r\n     <use style=\"fill:#1f77b4;stroke:#1f77b4;\" x=\"323.828992\" xlink:href=\"#m2d86192767\" y=\"37.254323\"/>\r\n     <use style=\"fill:#1f77b4;stroke:#1f77b4;\" x=\"330.040495\" xlink:href=\"#m2d86192767\" y=\"33.220186\"/>\r\n     <use style=\"fill:#1f77b4;stroke:#1f77b4;\" x=\"336.251997\" xlink:href=\"#m2d86192767\" y=\"29.186048\"/>\r\n     <use style=\"fill:#1f77b4;stroke:#1f77b4;\" x=\"342.4635\" xlink:href=\"#m2d86192767\" y=\"25.151911\"/>\r\n     <use style=\"fill:#1f77b4;stroke:#1f77b4;\" x=\"348.675003\" xlink:href=\"#m2d86192767\" y=\"21.117774\"/>\r\n     <use style=\"fill:#1f77b4;stroke:#1f77b4;\" x=\"354.886506\" xlink:href=\"#m2d86192767\" y=\"17.083636\"/>\r\n    </g>\r\n   </g>\r\n   <g id=\"matplotlib.axis_1\">\r\n    <g id=\"xtick_1\">\r\n     <g id=\"line2d_1\">\r\n      <defs>\r\n       <path d=\"M 0 0 \r\nL 0 3.5 \r\n\" id=\"ma8cd2600a0\" style=\"stroke:#000000;stroke-width:0.8;\"/>\r\n      </defs>\r\n      <g>\r\n       <use style=\"stroke:#000000;stroke-width:0.8;\" x=\"50.522869\" xlink:href=\"#ma8cd2600a0\" y=\"224.64\"/>\r\n      </g>\r\n     </g>\r\n     <g id=\"text_1\">\r\n      <!-- −100 -->\r\n      <g transform=\"translate(36.789276 239.238437)scale(0.1 -0.1)\">\r\n       <defs>\r\n        <path d=\"M 678 2272 \r\nL 4684 2272 \r\nL 4684 1741 \r\nL 678 1741 \r\nL 678 2272 \r\nz\r\n\" id=\"DejaVuSans-2212\" transform=\"scale(0.015625)\"/>\r\n        <path d=\"M 794 531 \r\nL 1825 531 \r\nL 1825 4091 \r\nL 703 3866 \r\nL 703 4441 \r\nL 1819 4666 \r\nL 2450 4666 \r\nL 2450 531 \r\nL 3481 531 \r\nL 3481 0 \r\nL 794 0 \r\nL 794 531 \r\nz\r\n\" id=\"DejaVuSans-31\" transform=\"scale(0.015625)\"/>\r\n        <path d=\"M 2034 4250 \r\nQ 1547 4250 1301 3770 \r\nQ 1056 3291 1056 2328 \r\nQ 1056 1369 1301 889 \r\nQ 1547 409 2034 409 \r\nQ 2525 409 2770 889 \r\nQ 3016 1369 3016 2328 \r\nQ 3016 3291 2770 3770 \r\nQ 2525 4250 2034 4250 \r\nz\r\nM 2034 4750 \r\nQ 2819 4750 3233 4129 \r\nQ 3647 3509 3647 2328 \r\nQ 3647 1150 3233 529 \r\nQ 2819 -91 2034 -91 \r\nQ 1250 -91 836 529 \r\nQ 422 1150 422 2328 \r\nQ 422 3509 836 4129 \r\nQ 1250 4750 2034 4750 \r\nz\r\n\" id=\"DejaVuSans-30\" transform=\"scale(0.015625)\"/>\r\n       </defs>\r\n       <use xlink:href=\"#DejaVuSans-2212\"/>\r\n       <use x=\"83.789062\" xlink:href=\"#DejaVuSans-31\"/>\r\n       <use x=\"147.412109\" xlink:href=\"#DejaVuSans-30\"/>\r\n       <use x=\"211.035156\" xlink:href=\"#DejaVuSans-30\"/>\r\n      </g>\r\n     </g>\r\n    </g>\r\n    <g id=\"xtick_2\">\r\n     <g id=\"line2d_2\">\r\n      <g>\r\n       <use style=\"stroke:#000000;stroke-width:0.8;\" x=\"89.344762\" xlink:href=\"#ma8cd2600a0\" y=\"224.64\"/>\r\n      </g>\r\n     </g>\r\n     <g id=\"text_2\">\r\n      <!-- −75 -->\r\n      <g transform=\"translate(78.792418 239.238437)scale(0.1 -0.1)\">\r\n       <defs>\r\n        <path d=\"M 525 4666 \r\nL 3525 4666 \r\nL 3525 4397 \r\nL 1831 0 \r\nL 1172 0 \r\nL 2766 4134 \r\nL 525 4134 \r\nL 525 4666 \r\nz\r\n\" id=\"DejaVuSans-37\" transform=\"scale(0.015625)\"/>\r\n        <path d=\"M 691 4666 \r\nL 3169 4666 \r\nL 3169 4134 \r\nL 1269 4134 \r\nL 1269 2991 \r\nQ 1406 3038 1543 3061 \r\nQ 1681 3084 1819 3084 \r\nQ 2600 3084 3056 2656 \r\nQ 3513 2228 3513 1497 \r\nQ 3513 744 3044 326 \r\nQ 2575 -91 1722 -91 \r\nQ 1428 -91 1123 -41 \r\nQ 819 9 494 109 \r\nL 494 744 \r\nQ 775 591 1075 516 \r\nQ 1375 441 1709 441 \r\nQ 2250 441 2565 725 \r\nQ 2881 1009 2881 1497 \r\nQ 2881 1984 2565 2268 \r\nQ 2250 2553 1709 2553 \r\nQ 1456 2553 1204 2497 \r\nQ 953 2441 691 2322 \r\nL 691 4666 \r\nz\r\n\" id=\"DejaVuSans-35\" transform=\"scale(0.015625)\"/>\r\n       </defs>\r\n       <use xlink:href=\"#DejaVuSans-2212\"/>\r\n       <use x=\"83.789062\" xlink:href=\"#DejaVuSans-37\"/>\r\n       <use x=\"147.412109\" xlink:href=\"#DejaVuSans-35\"/>\r\n      </g>\r\n     </g>\r\n    </g>\r\n    <g id=\"xtick_3\">\r\n     <g id=\"line2d_3\">\r\n      <g>\r\n       <use style=\"stroke:#000000;stroke-width:0.8;\" x=\"128.166654\" xlink:href=\"#ma8cd2600a0\" y=\"224.64\"/>\r\n      </g>\r\n     </g>\r\n     <g id=\"text_3\">\r\n      <!-- −50 -->\r\n      <g transform=\"translate(117.61431 239.238437)scale(0.1 -0.1)\">\r\n       <use xlink:href=\"#DejaVuSans-2212\"/>\r\n       <use x=\"83.789062\" xlink:href=\"#DejaVuSans-35\"/>\r\n       <use x=\"147.412109\" xlink:href=\"#DejaVuSans-30\"/>\r\n      </g>\r\n     </g>\r\n    </g>\r\n    <g id=\"xtick_4\">\r\n     <g id=\"line2d_4\">\r\n      <g>\r\n       <use style=\"stroke:#000000;stroke-width:0.8;\" x=\"166.988546\" xlink:href=\"#ma8cd2600a0\" y=\"224.64\"/>\r\n      </g>\r\n     </g>\r\n     <g id=\"text_4\">\r\n      <!-- −25 -->\r\n      <g transform=\"translate(156.436203 239.238437)scale(0.1 -0.1)\">\r\n       <defs>\r\n        <path d=\"M 1228 531 \r\nL 3431 531 \r\nL 3431 0 \r\nL 469 0 \r\nL 469 531 \r\nQ 828 903 1448 1529 \r\nQ 2069 2156 2228 2338 \r\nQ 2531 2678 2651 2914 \r\nQ 2772 3150 2772 3378 \r\nQ 2772 3750 2511 3984 \r\nQ 2250 4219 1831 4219 \r\nQ 1534 4219 1204 4116 \r\nQ 875 4013 500 3803 \r\nL 500 4441 \r\nQ 881 4594 1212 4672 \r\nQ 1544 4750 1819 4750 \r\nQ 2544 4750 2975 4387 \r\nQ 3406 4025 3406 3419 \r\nQ 3406 3131 3298 2873 \r\nQ 3191 2616 2906 2266 \r\nQ 2828 2175 2409 1742 \r\nQ 1991 1309 1228 531 \r\nz\r\n\" id=\"DejaVuSans-32\" transform=\"scale(0.015625)\"/>\r\n       </defs>\r\n       <use xlink:href=\"#DejaVuSans-2212\"/>\r\n       <use x=\"83.789062\" xlink:href=\"#DejaVuSans-32\"/>\r\n       <use x=\"147.412109\" xlink:href=\"#DejaVuSans-35\"/>\r\n      </g>\r\n     </g>\r\n    </g>\r\n    <g id=\"xtick_5\">\r\n     <g id=\"line2d_5\">\r\n      <g>\r\n       <use style=\"stroke:#000000;stroke-width:0.8;\" x=\"205.810439\" xlink:href=\"#ma8cd2600a0\" y=\"224.64\"/>\r\n      </g>\r\n     </g>\r\n     <g id=\"text_5\">\r\n      <!-- 0 -->\r\n      <g transform=\"translate(202.629189 239.238437)scale(0.1 -0.1)\">\r\n       <use xlink:href=\"#DejaVuSans-30\"/>\r\n      </g>\r\n     </g>\r\n    </g>\r\n    <g id=\"xtick_6\">\r\n     <g id=\"line2d_6\">\r\n      <g>\r\n       <use style=\"stroke:#000000;stroke-width:0.8;\" x=\"244.632331\" xlink:href=\"#ma8cd2600a0\" y=\"224.64\"/>\r\n      </g>\r\n     </g>\r\n     <g id=\"text_6\">\r\n      <!-- 25 -->\r\n      <g transform=\"translate(238.269831 239.238437)scale(0.1 -0.1)\">\r\n       <use xlink:href=\"#DejaVuSans-32\"/>\r\n       <use x=\"63.623047\" xlink:href=\"#DejaVuSans-35\"/>\r\n      </g>\r\n     </g>\r\n    </g>\r\n    <g id=\"xtick_7\">\r\n     <g id=\"line2d_7\">\r\n      <g>\r\n       <use style=\"stroke:#000000;stroke-width:0.8;\" x=\"283.454224\" xlink:href=\"#ma8cd2600a0\" y=\"224.64\"/>\r\n      </g>\r\n     </g>\r\n     <g id=\"text_7\">\r\n      <!-- 50 -->\r\n      <g transform=\"translate(277.091724 239.238437)scale(0.1 -0.1)\">\r\n       <use xlink:href=\"#DejaVuSans-35\"/>\r\n       <use x=\"63.623047\" xlink:href=\"#DejaVuSans-30\"/>\r\n      </g>\r\n     </g>\r\n    </g>\r\n    <g id=\"xtick_8\">\r\n     <g id=\"line2d_8\">\r\n      <g>\r\n       <use style=\"stroke:#000000;stroke-width:0.8;\" x=\"322.276116\" xlink:href=\"#ma8cd2600a0\" y=\"224.64\"/>\r\n      </g>\r\n     </g>\r\n     <g id=\"text_8\">\r\n      <!-- 75 -->\r\n      <g transform=\"translate(315.913616 239.238437)scale(0.1 -0.1)\">\r\n       <use xlink:href=\"#DejaVuSans-37\"/>\r\n       <use x=\"63.623047\" xlink:href=\"#DejaVuSans-35\"/>\r\n      </g>\r\n     </g>\r\n    </g>\r\n    <g id=\"xtick_9\">\r\n     <g id=\"line2d_9\">\r\n      <g>\r\n       <use style=\"stroke:#000000;stroke-width:0.8;\" x=\"361.098008\" xlink:href=\"#ma8cd2600a0\" y=\"224.64\"/>\r\n      </g>\r\n     </g>\r\n     <g id=\"text_9\">\r\n      <!-- 100 -->\r\n      <g transform=\"translate(351.554258 239.238437)scale(0.1 -0.1)\">\r\n       <use xlink:href=\"#DejaVuSans-31\"/>\r\n       <use x=\"63.623047\" xlink:href=\"#DejaVuSans-30\"/>\r\n       <use x=\"127.246094\" xlink:href=\"#DejaVuSans-30\"/>\r\n      </g>\r\n     </g>\r\n    </g>\r\n   </g>\r\n   <g id=\"matplotlib.axis_2\">\r\n    <g id=\"ytick_1\">\r\n     <g id=\"line2d_10\">\r\n      <defs>\r\n       <path d=\"M 0 0 \r\nL -3.5 0 \r\n\" id=\"mf7e0969536\" style=\"stroke:#000000;stroke-width:0.8;\"/>\r\n      </defs>\r\n      <g>\r\n       <use style=\"stroke:#000000;stroke-width:0.8;\" x=\"35.304688\" xlink:href=\"#mf7e0969536\" y=\"199.628349\"/>\r\n      </g>\r\n     </g>\r\n     <g id=\"text_10\">\r\n      <!-- −75 -->\r\n      <g transform=\"translate(7.2 203.427568)scale(0.1 -0.1)\">\r\n       <use xlink:href=\"#DejaVuSans-2212\"/>\r\n       <use x=\"83.789062\" xlink:href=\"#DejaVuSans-37\"/>\r\n       <use x=\"147.412109\" xlink:href=\"#DejaVuSans-35\"/>\r\n      </g>\r\n     </g>\r\n    </g>\r\n    <g id=\"ytick_2\">\r\n     <g id=\"line2d_11\">\r\n      <g>\r\n       <use style=\"stroke:#000000;stroke-width:0.8;\" x=\"35.304688\" xlink:href=\"#mf7e0969536\" y=\"174.414991\"/>\r\n      </g>\r\n     </g>\r\n     <g id=\"text_11\">\r\n      <!-- −50 -->\r\n      <g transform=\"translate(7.2 178.214209)scale(0.1 -0.1)\">\r\n       <use xlink:href=\"#DejaVuSans-2212\"/>\r\n       <use x=\"83.789062\" xlink:href=\"#DejaVuSans-35\"/>\r\n       <use x=\"147.412109\" xlink:href=\"#DejaVuSans-30\"/>\r\n      </g>\r\n     </g>\r\n    </g>\r\n    <g id=\"ytick_3\">\r\n     <g id=\"line2d_12\">\r\n      <g>\r\n       <use style=\"stroke:#000000;stroke-width:0.8;\" x=\"35.304688\" xlink:href=\"#mf7e0969536\" y=\"149.201633\"/>\r\n      </g>\r\n     </g>\r\n     <g id=\"text_12\">\r\n      <!-- −25 -->\r\n      <g transform=\"translate(7.2 153.000851)scale(0.1 -0.1)\">\r\n       <use xlink:href=\"#DejaVuSans-2212\"/>\r\n       <use x=\"83.789062\" xlink:href=\"#DejaVuSans-32\"/>\r\n       <use x=\"147.412109\" xlink:href=\"#DejaVuSans-35\"/>\r\n      </g>\r\n     </g>\r\n    </g>\r\n    <g id=\"ytick_4\">\r\n     <g id=\"line2d_13\">\r\n      <g>\r\n       <use style=\"stroke:#000000;stroke-width:0.8;\" x=\"35.304688\" xlink:href=\"#mf7e0969536\" y=\"123.988275\"/>\r\n      </g>\r\n     </g>\r\n     <g id=\"text_13\">\r\n      <!-- 0 -->\r\n      <g transform=\"translate(21.942188 127.787493)scale(0.1 -0.1)\">\r\n       <use xlink:href=\"#DejaVuSans-30\"/>\r\n      </g>\r\n     </g>\r\n    </g>\r\n    <g id=\"ytick_5\">\r\n     <g id=\"line2d_14\">\r\n      <g>\r\n       <use style=\"stroke:#000000;stroke-width:0.8;\" x=\"35.304688\" xlink:href=\"#mf7e0969536\" y=\"98.774917\"/>\r\n      </g>\r\n     </g>\r\n     <g id=\"text_14\">\r\n      <!-- 25 -->\r\n      <g transform=\"translate(15.579688 102.574135)scale(0.1 -0.1)\">\r\n       <use xlink:href=\"#DejaVuSans-32\"/>\r\n       <use x=\"63.623047\" xlink:href=\"#DejaVuSans-35\"/>\r\n      </g>\r\n     </g>\r\n    </g>\r\n    <g id=\"ytick_6\">\r\n     <g id=\"line2d_15\">\r\n      <g>\r\n       <use style=\"stroke:#000000;stroke-width:0.8;\" x=\"35.304688\" xlink:href=\"#mf7e0969536\" y=\"73.561558\"/>\r\n      </g>\r\n     </g>\r\n     <g id=\"text_15\">\r\n      <!-- 50 -->\r\n      <g transform=\"translate(15.579688 77.360777)scale(0.1 -0.1)\">\r\n       <use xlink:href=\"#DejaVuSans-35\"/>\r\n       <use x=\"63.623047\" xlink:href=\"#DejaVuSans-30\"/>\r\n      </g>\r\n     </g>\r\n    </g>\r\n    <g id=\"ytick_7\">\r\n     <g id=\"line2d_16\">\r\n      <g>\r\n       <use style=\"stroke:#000000;stroke-width:0.8;\" x=\"35.304688\" xlink:href=\"#mf7e0969536\" y=\"48.3482\"/>\r\n      </g>\r\n     </g>\r\n     <g id=\"text_16\">\r\n      <!-- 75 -->\r\n      <g transform=\"translate(15.579688 52.147419)scale(0.1 -0.1)\">\r\n       <use xlink:href=\"#DejaVuSans-37\"/>\r\n       <use x=\"63.623047\" xlink:href=\"#DejaVuSans-35\"/>\r\n      </g>\r\n     </g>\r\n    </g>\r\n    <g id=\"ytick_8\">\r\n     <g id=\"line2d_17\">\r\n      <g>\r\n       <use style=\"stroke:#000000;stroke-width:0.8;\" x=\"35.304688\" xlink:href=\"#mf7e0969536\" y=\"23.134842\"/>\r\n      </g>\r\n     </g>\r\n     <g id=\"text_17\">\r\n      <!-- 100 -->\r\n      <g transform=\"translate(9.217188 26.934061)scale(0.1 -0.1)\">\r\n       <use xlink:href=\"#DejaVuSans-31\"/>\r\n       <use x=\"63.623047\" xlink:href=\"#DejaVuSans-30\"/>\r\n       <use x=\"127.246094\" xlink:href=\"#DejaVuSans-30\"/>\r\n      </g>\r\n     </g>\r\n    </g>\r\n   </g>\r\n   <g id=\"patch_3\">\r\n    <path d=\"M 35.304688 224.64 \r\nL 35.304688 7.2 \r\n\" style=\"fill:none;stroke:#000000;stroke-linecap:square;stroke-linejoin:miter;stroke-width:0.8;\"/>\r\n   </g>\r\n   <g id=\"patch_4\">\r\n    <path d=\"M 370.104688 224.64 \r\nL 370.104688 7.2 \r\n\" style=\"fill:none;stroke:#000000;stroke-linecap:square;stroke-linejoin:miter;stroke-width:0.8;\"/>\r\n   </g>\r\n   <g id=\"patch_5\">\r\n    <path d=\"M 35.304688 224.64 \r\nL 370.104688 224.64 \r\n\" style=\"fill:none;stroke:#000000;stroke-linecap:square;stroke-linejoin:miter;stroke-width:0.8;\"/>\r\n   </g>\r\n   <g id=\"patch_6\">\r\n    <path d=\"M 35.304688 7.2 \r\nL 370.104688 7.2 \r\n\" style=\"fill:none;stroke:#000000;stroke-linecap:square;stroke-linejoin:miter;stroke-width:0.8;\"/>\r\n   </g>\r\n  </g>\r\n </g>\r\n <defs>\r\n  <clipPath id=\"p9417a09e25\">\r\n   <rect height=\"217.44\" width=\"334.8\" x=\"35.304688\" y=\"7.2\"/>\r\n  </clipPath>\r\n </defs>\r\n</svg>\r\n",
      "image/png": "[encoded data removed]"
     },
     "metadata": {
      "needs_background": "light"
     }
    }
   ],
   "metadata": {}
  },
  {
   "cell_type": "markdown",
   "source": [
    "## The 3 sets:\r\n",
    "* **Training set** - the model learns from this data\r\n",
    "* **Validation set** - the model gets tuned on this data (10%-15% of the data available)\r\n",
    "* **Test set** - the model gets evaluated on this data to test what it has learned (10%-15% of the total data available)\r\n"
   ],
   "metadata": {}
  },
  {
   "cell_type": "code",
   "execution_count": 274,
   "source": [
    "# Split the data into train and test sets\r\n",
    "X_train = X[:40]\r\n",
    "y_train = y[:40]\r\n",
    "\r\n",
    "X_test = X[40:]\r\n",
    "y_test = y[40:]\r\n",
    "\r\n",
    "len(X_train), len(X_test)"
   ],
   "outputs": [
    {
     "output_type": "execute_result",
     "data": {
      "text/plain": [
       "(40, 10)"
      ]
     },
     "metadata": {},
     "execution_count": 274
    }
   ],
   "metadata": {}
  },
  {
   "cell_type": "code",
   "execution_count": 275,
   "source": [
    "# Visualizing the data\r\n",
    "plt.figure(figsize=(10,7))\r\n",
    "plt.scatter(X_test, y_test)\r\n",
    "plt.legend(['Training Data','Test Data'])"
   ],
   "outputs": [
    {
     "output_type": "execute_result",
     "data": {
      "text/plain": [
       "<matplotlib.legend.Legend at 0x1856d455b50>"
      ]
     },
     "metadata": {},
     "execution_count": 275
    },
    {
     "output_type": "display_data",
     "data": {
      "text/plain": [
       "<Figure size 720x504 with 1 Axes>"
      ],
      "image/svg+xml": "<?xml version=\"1.0\" encoding=\"utf-8\" standalone=\"no\"?>\r\n<!DOCTYPE svg PUBLIC \"-//W3C//DTD SVG 1.1//EN\"\r\n  \"http://www.w3.org/Graphics/SVG/1.1/DTD/svg11.dtd\">\r\n<svg height=\"411.598125pt\" version=\"1.1\" viewBox=\"0 0 598.4875 411.598125\" width=\"598.4875pt\" xmlns=\"http://www.w3.org/2000/svg\" xmlns:xlink=\"http://www.w3.org/1999/xlink\">\r\n <metadata>\r\n  <rdf:RDF xmlns:cc=\"http://creativecommons.org/ns#\" xmlns:dc=\"http://purl.org/dc/elements/1.1/\" xmlns:rdf=\"http://www.w3.org/1999/02/22-rdf-syntax-ns#\">\r\n   <cc:Work>\r\n    <dc:type rdf:resource=\"http://purl.org/dc/dcmitype/StillImage\"/>\r\n    <dc:date>2021-08-10T10:59:54.352911</dc:date>\r\n    <dc:format>image/svg+xml</dc:format>\r\n    <dc:creator>\r\n     <cc:Agent>\r\n      <dc:title>Matplotlib v3.4.2, https://matplotlib.org/</dc:title>\r\n     </cc:Agent>\r\n    </dc:creator>\r\n   </cc:Work>\r\n  </rdf:RDF>\r\n </metadata>\r\n <defs>\r\n  <style type=\"text/css\">*{stroke-linecap:butt;stroke-linejoin:round;}</style>\r\n </defs>\r\n <g id=\"figure_1\">\r\n  <g id=\"patch_1\">\r\n   <path d=\"M 0 411.598125 \r\nL 598.4875 411.598125 \r\nL 598.4875 0 \r\nL 0 0 \r\nz\r\n\" style=\"fill:none;\"/>\r\n  </g>\r\n  <g id=\"axes_1\">\r\n   <g id=\"patch_2\">\r\n    <path d=\"M 33.2875 387.72 \r\nL 591.2875 387.72 \r\nL 591.2875 7.2 \r\nL 33.2875 7.2 \r\nz\r\n\" style=\"fill:#ffffff;\"/>\r\n   </g>\r\n   <g id=\"PathCollection_1\">\r\n    <defs>\r\n     <path d=\"M 0 3 \r\nC 0.795609 3 1.55874 2.683901 2.12132 2.12132 \r\nC 2.683901 1.55874 3 0.795609 3 0 \r\nC 3 -0.795609 2.683901 -1.55874 2.12132 -2.12132 \r\nC 1.55874 -2.683901 0.795609 -3 0 -3 \r\nC -0.795609 -3 -1.55874 -2.683901 -2.12132 -2.12132 \r\nC -2.683901 -1.55874 -3 -0.795609 -3 0 \r\nC -3 0.795609 -2.683901 1.55874 -2.12132 2.12132 \r\nC -1.55874 2.683901 -0.795609 3 0 3 \r\nz\r\n\" id=\"m4b4863434e\" style=\"stroke:#1f77b4;\"/>\r\n    </defs>\r\n    <g clip-path=\"url(#p060e5d3f35)\">\r\n     <use style=\"fill:#1f77b4;stroke:#1f77b4;\" x=\"58.651136\" xlink:href=\"#m4b4863434e\" y=\"370.423636\"/>\r\n     <use style=\"fill:#1f77b4;stroke:#1f77b4;\" x=\"115.014773\" xlink:href=\"#m4b4863434e\" y=\"331.987273\"/>\r\n     <use style=\"fill:#1f77b4;stroke:#1f77b4;\" x=\"171.378409\" xlink:href=\"#m4b4863434e\" y=\"293.550909\"/>\r\n     <use style=\"fill:#1f77b4;stroke:#1f77b4;\" x=\"227.742045\" xlink:href=\"#m4b4863434e\" y=\"255.114545\"/>\r\n     <use style=\"fill:#1f77b4;stroke:#1f77b4;\" x=\"284.105682\" xlink:href=\"#m4b4863434e\" y=\"216.678182\"/>\r\n     <use style=\"fill:#1f77b4;stroke:#1f77b4;\" x=\"340.469318\" xlink:href=\"#m4b4863434e\" y=\"178.241818\"/>\r\n     <use style=\"fill:#1f77b4;stroke:#1f77b4;\" x=\"396.832955\" xlink:href=\"#m4b4863434e\" y=\"139.805455\"/>\r\n     <use style=\"fill:#1f77b4;stroke:#1f77b4;\" x=\"453.196591\" xlink:href=\"#m4b4863434e\" y=\"101.369091\"/>\r\n     <use style=\"fill:#1f77b4;stroke:#1f77b4;\" x=\"509.560227\" xlink:href=\"#m4b4863434e\" y=\"62.932727\"/>\r\n     <use style=\"fill:#1f77b4;stroke:#1f77b4;\" x=\"565.923864\" xlink:href=\"#m4b4863434e\" y=\"24.496364\"/>\r\n    </g>\r\n   </g>\r\n   <g id=\"matplotlib.axis_1\">\r\n    <g id=\"xtick_1\">\r\n     <g id=\"line2d_1\">\r\n      <defs>\r\n       <path d=\"M 0 0 \r\nL 0 3.5 \r\n\" id=\"mc2ac15c21d\" style=\"stroke:#000000;stroke-width:0.8;\"/>\r\n      </defs>\r\n      <g>\r\n       <use style=\"stroke:#000000;stroke-width:0.8;\" x=\"58.651136\" xlink:href=\"#mc2ac15c21d\" y=\"387.72\"/>\r\n      </g>\r\n     </g>\r\n     <g id=\"text_1\">\r\n      <!-- 60 -->\r\n      <g transform=\"translate(52.288636 402.318437)scale(0.1 -0.1)\">\r\n       <defs>\r\n        <path d=\"M 2113 2584 \r\nQ 1688 2584 1439 2293 \r\nQ 1191 2003 1191 1497 \r\nQ 1191 994 1439 701 \r\nQ 1688 409 2113 409 \r\nQ 2538 409 2786 701 \r\nQ 3034 994 3034 1497 \r\nQ 3034 2003 2786 2293 \r\nQ 2538 2584 2113 2584 \r\nz\r\nM 3366 4563 \r\nL 3366 3988 \r\nQ 3128 4100 2886 4159 \r\nQ 2644 4219 2406 4219 \r\nQ 1781 4219 1451 3797 \r\nQ 1122 3375 1075 2522 \r\nQ 1259 2794 1537 2939 \r\nQ 1816 3084 2150 3084 \r\nQ 2853 3084 3261 2657 \r\nQ 3669 2231 3669 1497 \r\nQ 3669 778 3244 343 \r\nQ 2819 -91 2113 -91 \r\nQ 1303 -91 875 529 \r\nQ 447 1150 447 2328 \r\nQ 447 3434 972 4092 \r\nQ 1497 4750 2381 4750 \r\nQ 2619 4750 2861 4703 \r\nQ 3103 4656 3366 4563 \r\nz\r\n\" id=\"DejaVuSans-36\" transform=\"scale(0.015625)\"/>\r\n        <path d=\"M 2034 4250 \r\nQ 1547 4250 1301 3770 \r\nQ 1056 3291 1056 2328 \r\nQ 1056 1369 1301 889 \r\nQ 1547 409 2034 409 \r\nQ 2525 409 2770 889 \r\nQ 3016 1369 3016 2328 \r\nQ 3016 3291 2770 3770 \r\nQ 2525 4250 2034 4250 \r\nz\r\nM 2034 4750 \r\nQ 2819 4750 3233 4129 \r\nQ 3647 3509 3647 2328 \r\nQ 3647 1150 3233 529 \r\nQ 2819 -91 2034 -91 \r\nQ 1250 -91 836 529 \r\nQ 422 1150 422 2328 \r\nQ 422 3509 836 4129 \r\nQ 1250 4750 2034 4750 \r\nz\r\n\" id=\"DejaVuSans-30\" transform=\"scale(0.015625)\"/>\r\n       </defs>\r\n       <use xlink:href=\"#DejaVuSans-36\"/>\r\n       <use x=\"63.623047\" xlink:href=\"#DejaVuSans-30\"/>\r\n      </g>\r\n     </g>\r\n    </g>\r\n    <g id=\"xtick_2\">\r\n     <g id=\"line2d_2\">\r\n      <g>\r\n       <use style=\"stroke:#000000;stroke-width:0.8;\" x=\"129.105682\" xlink:href=\"#mc2ac15c21d\" y=\"387.72\"/>\r\n      </g>\r\n     </g>\r\n     <g id=\"text_2\">\r\n      <!-- 65 -->\r\n      <g transform=\"translate(122.743182 402.318437)scale(0.1 -0.1)\">\r\n       <defs>\r\n        <path d=\"M 691 4666 \r\nL 3169 4666 \r\nL 3169 4134 \r\nL 1269 4134 \r\nL 1269 2991 \r\nQ 1406 3038 1543 3061 \r\nQ 1681 3084 1819 3084 \r\nQ 2600 3084 3056 2656 \r\nQ 3513 2228 3513 1497 \r\nQ 3513 744 3044 326 \r\nQ 2575 -91 1722 -91 \r\nQ 1428 -91 1123 -41 \r\nQ 819 9 494 109 \r\nL 494 744 \r\nQ 775 591 1075 516 \r\nQ 1375 441 1709 441 \r\nQ 2250 441 2565 725 \r\nQ 2881 1009 2881 1497 \r\nQ 2881 1984 2565 2268 \r\nQ 2250 2553 1709 2553 \r\nQ 1456 2553 1204 2497 \r\nQ 953 2441 691 2322 \r\nL 691 4666 \r\nz\r\n\" id=\"DejaVuSans-35\" transform=\"scale(0.015625)\"/>\r\n       </defs>\r\n       <use xlink:href=\"#DejaVuSans-36\"/>\r\n       <use x=\"63.623047\" xlink:href=\"#DejaVuSans-35\"/>\r\n      </g>\r\n     </g>\r\n    </g>\r\n    <g id=\"xtick_3\">\r\n     <g id=\"line2d_3\">\r\n      <g>\r\n       <use style=\"stroke:#000000;stroke-width:0.8;\" x=\"199.560227\" xlink:href=\"#mc2ac15c21d\" y=\"387.72\"/>\r\n      </g>\r\n     </g>\r\n     <g id=\"text_3\">\r\n      <!-- 70 -->\r\n      <g transform=\"translate(193.197727 402.318437)scale(0.1 -0.1)\">\r\n       <defs>\r\n        <path d=\"M 525 4666 \r\nL 3525 4666 \r\nL 3525 4397 \r\nL 1831 0 \r\nL 1172 0 \r\nL 2766 4134 \r\nL 525 4134 \r\nL 525 4666 \r\nz\r\n\" id=\"DejaVuSans-37\" transform=\"scale(0.015625)\"/>\r\n       </defs>\r\n       <use xlink:href=\"#DejaVuSans-37\"/>\r\n       <use x=\"63.623047\" xlink:href=\"#DejaVuSans-30\"/>\r\n      </g>\r\n     </g>\r\n    </g>\r\n    <g id=\"xtick_4\">\r\n     <g id=\"line2d_4\">\r\n      <g>\r\n       <use style=\"stroke:#000000;stroke-width:0.8;\" x=\"270.014773\" xlink:href=\"#mc2ac15c21d\" y=\"387.72\"/>\r\n      </g>\r\n     </g>\r\n     <g id=\"text_4\">\r\n      <!-- 75 -->\r\n      <g transform=\"translate(263.652273 402.318437)scale(0.1 -0.1)\">\r\n       <use xlink:href=\"#DejaVuSans-37\"/>\r\n       <use x=\"63.623047\" xlink:href=\"#DejaVuSans-35\"/>\r\n      </g>\r\n     </g>\r\n    </g>\r\n    <g id=\"xtick_5\">\r\n     <g id=\"line2d_5\">\r\n      <g>\r\n       <use style=\"stroke:#000000;stroke-width:0.8;\" x=\"340.469318\" xlink:href=\"#mc2ac15c21d\" y=\"387.72\"/>\r\n      </g>\r\n     </g>\r\n     <g id=\"text_5\">\r\n      <!-- 80 -->\r\n      <g transform=\"translate(334.106818 402.318437)scale(0.1 -0.1)\">\r\n       <defs>\r\n        <path d=\"M 2034 2216 \r\nQ 1584 2216 1326 1975 \r\nQ 1069 1734 1069 1313 \r\nQ 1069 891 1326 650 \r\nQ 1584 409 2034 409 \r\nQ 2484 409 2743 651 \r\nQ 3003 894 3003 1313 \r\nQ 3003 1734 2745 1975 \r\nQ 2488 2216 2034 2216 \r\nz\r\nM 1403 2484 \r\nQ 997 2584 770 2862 \r\nQ 544 3141 544 3541 \r\nQ 544 4100 942 4425 \r\nQ 1341 4750 2034 4750 \r\nQ 2731 4750 3128 4425 \r\nQ 3525 4100 3525 3541 \r\nQ 3525 3141 3298 2862 \r\nQ 3072 2584 2669 2484 \r\nQ 3125 2378 3379 2068 \r\nQ 3634 1759 3634 1313 \r\nQ 3634 634 3220 271 \r\nQ 2806 -91 2034 -91 \r\nQ 1263 -91 848 271 \r\nQ 434 634 434 1313 \r\nQ 434 1759 690 2068 \r\nQ 947 2378 1403 2484 \r\nz\r\nM 1172 3481 \r\nQ 1172 3119 1398 2916 \r\nQ 1625 2713 2034 2713 \r\nQ 2441 2713 2670 2916 \r\nQ 2900 3119 2900 3481 \r\nQ 2900 3844 2670 4047 \r\nQ 2441 4250 2034 4250 \r\nQ 1625 4250 1398 4047 \r\nQ 1172 3844 1172 3481 \r\nz\r\n\" id=\"DejaVuSans-38\" transform=\"scale(0.015625)\"/>\r\n       </defs>\r\n       <use xlink:href=\"#DejaVuSans-38\"/>\r\n       <use x=\"63.623047\" xlink:href=\"#DejaVuSans-30\"/>\r\n      </g>\r\n     </g>\r\n    </g>\r\n    <g id=\"xtick_6\">\r\n     <g id=\"line2d_6\">\r\n      <g>\r\n       <use style=\"stroke:#000000;stroke-width:0.8;\" x=\"410.923864\" xlink:href=\"#mc2ac15c21d\" y=\"387.72\"/>\r\n      </g>\r\n     </g>\r\n     <g id=\"text_6\">\r\n      <!-- 85 -->\r\n      <g transform=\"translate(404.561364 402.318437)scale(0.1 -0.1)\">\r\n       <use xlink:href=\"#DejaVuSans-38\"/>\r\n       <use x=\"63.623047\" xlink:href=\"#DejaVuSans-35\"/>\r\n      </g>\r\n     </g>\r\n    </g>\r\n    <g id=\"xtick_7\">\r\n     <g id=\"line2d_7\">\r\n      <g>\r\n       <use style=\"stroke:#000000;stroke-width:0.8;\" x=\"481.378409\" xlink:href=\"#mc2ac15c21d\" y=\"387.72\"/>\r\n      </g>\r\n     </g>\r\n     <g id=\"text_7\">\r\n      <!-- 90 -->\r\n      <g transform=\"translate(475.015909 402.318437)scale(0.1 -0.1)\">\r\n       <defs>\r\n        <path d=\"M 703 97 \r\nL 703 672 \r\nQ 941 559 1184 500 \r\nQ 1428 441 1663 441 \r\nQ 2288 441 2617 861 \r\nQ 2947 1281 2994 2138 \r\nQ 2813 1869 2534 1725 \r\nQ 2256 1581 1919 1581 \r\nQ 1219 1581 811 2004 \r\nQ 403 2428 403 3163 \r\nQ 403 3881 828 4315 \r\nQ 1253 4750 1959 4750 \r\nQ 2769 4750 3195 4129 \r\nQ 3622 3509 3622 2328 \r\nQ 3622 1225 3098 567 \r\nQ 2575 -91 1691 -91 \r\nQ 1453 -91 1209 -44 \r\nQ 966 3 703 97 \r\nz\r\nM 1959 2075 \r\nQ 2384 2075 2632 2365 \r\nQ 2881 2656 2881 3163 \r\nQ 2881 3666 2632 3958 \r\nQ 2384 4250 1959 4250 \r\nQ 1534 4250 1286 3958 \r\nQ 1038 3666 1038 3163 \r\nQ 1038 2656 1286 2365 \r\nQ 1534 2075 1959 2075 \r\nz\r\n\" id=\"DejaVuSans-39\" transform=\"scale(0.015625)\"/>\r\n       </defs>\r\n       <use xlink:href=\"#DejaVuSans-39\"/>\r\n       <use x=\"63.623047\" xlink:href=\"#DejaVuSans-30\"/>\r\n      </g>\r\n     </g>\r\n    </g>\r\n    <g id=\"xtick_8\">\r\n     <g id=\"line2d_8\">\r\n      <g>\r\n       <use style=\"stroke:#000000;stroke-width:0.8;\" x=\"551.832955\" xlink:href=\"#mc2ac15c21d\" y=\"387.72\"/>\r\n      </g>\r\n     </g>\r\n     <g id=\"text_8\">\r\n      <!-- 95 -->\r\n      <g transform=\"translate(545.470455 402.318437)scale(0.1 -0.1)\">\r\n       <use xlink:href=\"#DejaVuSans-39\"/>\r\n       <use x=\"63.623047\" xlink:href=\"#DejaVuSans-35\"/>\r\n      </g>\r\n     </g>\r\n    </g>\r\n   </g>\r\n   <g id=\"matplotlib.axis_2\">\r\n    <g id=\"ytick_1\">\r\n     <g id=\"line2d_9\">\r\n      <defs>\r\n       <path d=\"M 0 0 \r\nL -3.5 0 \r\n\" id=\"mca8c8d2ebf\" style=\"stroke:#000000;stroke-width:0.8;\"/>\r\n      </defs>\r\n      <g>\r\n       <use style=\"stroke:#000000;stroke-width:0.8;\" x=\"33.2875\" xlink:href=\"#mca8c8d2ebf\" y=\"370.423636\"/>\r\n      </g>\r\n     </g>\r\n     <g id=\"text_9\">\r\n      <!-- 70 -->\r\n      <g transform=\"translate(13.5625 374.222855)scale(0.1 -0.1)\">\r\n       <use xlink:href=\"#DejaVuSans-37\"/>\r\n       <use x=\"63.623047\" xlink:href=\"#DejaVuSans-30\"/>\r\n      </g>\r\n     </g>\r\n    </g>\r\n    <g id=\"ytick_2\">\r\n     <g id=\"line2d_10\">\r\n      <g>\r\n       <use style=\"stroke:#000000;stroke-width:0.8;\" x=\"33.2875\" xlink:href=\"#mca8c8d2ebf\" y=\"322.378182\"/>\r\n      </g>\r\n     </g>\r\n     <g id=\"text_10\">\r\n      <!-- 75 -->\r\n      <g transform=\"translate(13.5625 326.177401)scale(0.1 -0.1)\">\r\n       <use xlink:href=\"#DejaVuSans-37\"/>\r\n       <use x=\"63.623047\" xlink:href=\"#DejaVuSans-35\"/>\r\n      </g>\r\n     </g>\r\n    </g>\r\n    <g id=\"ytick_3\">\r\n     <g id=\"line2d_11\">\r\n      <g>\r\n       <use style=\"stroke:#000000;stroke-width:0.8;\" x=\"33.2875\" xlink:href=\"#mca8c8d2ebf\" y=\"274.332727\"/>\r\n      </g>\r\n     </g>\r\n     <g id=\"text_11\">\r\n      <!-- 80 -->\r\n      <g transform=\"translate(13.5625 278.131946)scale(0.1 -0.1)\">\r\n       <use xlink:href=\"#DejaVuSans-38\"/>\r\n       <use x=\"63.623047\" xlink:href=\"#DejaVuSans-30\"/>\r\n      </g>\r\n     </g>\r\n    </g>\r\n    <g id=\"ytick_4\">\r\n     <g id=\"line2d_12\">\r\n      <g>\r\n       <use style=\"stroke:#000000;stroke-width:0.8;\" x=\"33.2875\" xlink:href=\"#mca8c8d2ebf\" y=\"226.287273\"/>\r\n      </g>\r\n     </g>\r\n     <g id=\"text_12\">\r\n      <!-- 85 -->\r\n      <g transform=\"translate(13.5625 230.086491)scale(0.1 -0.1)\">\r\n       <use xlink:href=\"#DejaVuSans-38\"/>\r\n       <use x=\"63.623047\" xlink:href=\"#DejaVuSans-35\"/>\r\n      </g>\r\n     </g>\r\n    </g>\r\n    <g id=\"ytick_5\">\r\n     <g id=\"line2d_13\">\r\n      <g>\r\n       <use style=\"stroke:#000000;stroke-width:0.8;\" x=\"33.2875\" xlink:href=\"#mca8c8d2ebf\" y=\"178.241818\"/>\r\n      </g>\r\n     </g>\r\n     <g id=\"text_13\">\r\n      <!-- 90 -->\r\n      <g transform=\"translate(13.5625 182.041037)scale(0.1 -0.1)\">\r\n       <use xlink:href=\"#DejaVuSans-39\"/>\r\n       <use x=\"63.623047\" xlink:href=\"#DejaVuSans-30\"/>\r\n      </g>\r\n     </g>\r\n    </g>\r\n    <g id=\"ytick_6\">\r\n     <g id=\"line2d_14\">\r\n      <g>\r\n       <use style=\"stroke:#000000;stroke-width:0.8;\" x=\"33.2875\" xlink:href=\"#mca8c8d2ebf\" y=\"130.196364\"/>\r\n      </g>\r\n     </g>\r\n     <g id=\"text_14\">\r\n      <!-- 95 -->\r\n      <g transform=\"translate(13.5625 133.995582)scale(0.1 -0.1)\">\r\n       <use xlink:href=\"#DejaVuSans-39\"/>\r\n       <use x=\"63.623047\" xlink:href=\"#DejaVuSans-35\"/>\r\n      </g>\r\n     </g>\r\n    </g>\r\n    <g id=\"ytick_7\">\r\n     <g id=\"line2d_15\">\r\n      <g>\r\n       <use style=\"stroke:#000000;stroke-width:0.8;\" x=\"33.2875\" xlink:href=\"#mca8c8d2ebf\" y=\"82.150909\"/>\r\n      </g>\r\n     </g>\r\n     <g id=\"text_15\">\r\n      <!-- 100 -->\r\n      <g transform=\"translate(7.2 85.950128)scale(0.1 -0.1)\">\r\n       <defs>\r\n        <path d=\"M 794 531 \r\nL 1825 531 \r\nL 1825 4091 \r\nL 703 3866 \r\nL 703 4441 \r\nL 1819 4666 \r\nL 2450 4666 \r\nL 2450 531 \r\nL 3481 531 \r\nL 3481 0 \r\nL 794 0 \r\nL 794 531 \r\nz\r\n\" id=\"DejaVuSans-31\" transform=\"scale(0.015625)\"/>\r\n       </defs>\r\n       <use xlink:href=\"#DejaVuSans-31\"/>\r\n       <use x=\"63.623047\" xlink:href=\"#DejaVuSans-30\"/>\r\n       <use x=\"127.246094\" xlink:href=\"#DejaVuSans-30\"/>\r\n      </g>\r\n     </g>\r\n    </g>\r\n    <g id=\"ytick_8\">\r\n     <g id=\"line2d_16\">\r\n      <g>\r\n       <use style=\"stroke:#000000;stroke-width:0.8;\" x=\"33.2875\" xlink:href=\"#mca8c8d2ebf\" y=\"34.105455\"/>\r\n      </g>\r\n     </g>\r\n     <g id=\"text_16\">\r\n      <!-- 105 -->\r\n      <g transform=\"translate(7.2 37.904673)scale(0.1 -0.1)\">\r\n       <use xlink:href=\"#DejaVuSans-31\"/>\r\n       <use x=\"63.623047\" xlink:href=\"#DejaVuSans-30\"/>\r\n       <use x=\"127.246094\" xlink:href=\"#DejaVuSans-35\"/>\r\n      </g>\r\n     </g>\r\n    </g>\r\n   </g>\r\n   <g id=\"patch_3\">\r\n    <path d=\"M 33.2875 387.72 \r\nL 33.2875 7.2 \r\n\" style=\"fill:none;stroke:#000000;stroke-linecap:square;stroke-linejoin:miter;stroke-width:0.8;\"/>\r\n   </g>\r\n   <g id=\"patch_4\">\r\n    <path d=\"M 591.2875 387.72 \r\nL 591.2875 7.2 \r\n\" style=\"fill:none;stroke:#000000;stroke-linecap:square;stroke-linejoin:miter;stroke-width:0.8;\"/>\r\n   </g>\r\n   <g id=\"patch_5\">\r\n    <path d=\"M 33.2875 387.72 \r\nL 591.2875 387.72 \r\n\" style=\"fill:none;stroke:#000000;stroke-linecap:square;stroke-linejoin:miter;stroke-width:0.8;\"/>\r\n   </g>\r\n   <g id=\"patch_6\">\r\n    <path d=\"M 33.2875 7.2 \r\nL 591.2875 7.2 \r\n\" style=\"fill:none;stroke:#000000;stroke-linecap:square;stroke-linejoin:miter;stroke-width:0.8;\"/>\r\n   </g>\r\n   <g id=\"legend_1\">\r\n    <g id=\"patch_7\">\r\n     <path d=\"M 40.2875 29.878125 \r\nL 138.79375 29.878125 \r\nQ 140.79375 29.878125 140.79375 27.878125 \r\nL 140.79375 14.2 \r\nQ 140.79375 12.2 138.79375 12.2 \r\nL 40.2875 12.2 \r\nQ 38.2875 12.2 38.2875 14.2 \r\nL 38.2875 27.878125 \r\nQ 38.2875 29.878125 40.2875 29.878125 \r\nz\r\n\" style=\"fill:#ffffff;opacity:0.8;stroke:#cccccc;stroke-linejoin:miter;\"/>\r\n    </g>\r\n    <g id=\"PathCollection_2\">\r\n     <g>\r\n      <use style=\"fill:#1f77b4;stroke:#1f77b4;\" x=\"52.2875\" xlink:href=\"#m4b4863434e\" y=\"21.173437\"/>\r\n     </g>\r\n    </g>\r\n    <g id=\"text_17\">\r\n     <!-- Training Data -->\r\n     <g transform=\"translate(70.2875 23.798437)scale(0.1 -0.1)\">\r\n      <defs>\r\n       <path d=\"M -19 4666 \r\nL 3928 4666 \r\nL 3928 4134 \r\nL 2272 4134 \r\nL 2272 0 \r\nL 1638 0 \r\nL 1638 4134 \r\nL -19 4134 \r\nL -19 4666 \r\nz\r\n\" id=\"DejaVuSans-54\" transform=\"scale(0.015625)\"/>\r\n       <path d=\"M 2631 2963 \r\nQ 2534 3019 2420 3045 \r\nQ 2306 3072 2169 3072 \r\nQ 1681 3072 1420 2755 \r\nQ 1159 2438 1159 1844 \r\nL 1159 0 \r\nL 581 0 \r\nL 581 3500 \r\nL 1159 3500 \r\nL 1159 2956 \r\nQ 1341 3275 1631 3429 \r\nQ 1922 3584 2338 3584 \r\nQ 2397 3584 2469 3576 \r\nQ 2541 3569 2628 3553 \r\nL 2631 2963 \r\nz\r\n\" id=\"DejaVuSans-72\" transform=\"scale(0.015625)\"/>\r\n       <path d=\"M 2194 1759 \r\nQ 1497 1759 1228 1600 \r\nQ 959 1441 959 1056 \r\nQ 959 750 1161 570 \r\nQ 1363 391 1709 391 \r\nQ 2188 391 2477 730 \r\nQ 2766 1069 2766 1631 \r\nL 2766 1759 \r\nL 2194 1759 \r\nz\r\nM 3341 1997 \r\nL 3341 0 \r\nL 2766 0 \r\nL 2766 531 \r\nQ 2569 213 2275 61 \r\nQ 1981 -91 1556 -91 \r\nQ 1019 -91 701 211 \r\nQ 384 513 384 1019 \r\nQ 384 1609 779 1909 \r\nQ 1175 2209 1959 2209 \r\nL 2766 2209 \r\nL 2766 2266 \r\nQ 2766 2663 2505 2880 \r\nQ 2244 3097 1772 3097 \r\nQ 1472 3097 1187 3025 \r\nQ 903 2953 641 2809 \r\nL 641 3341 \r\nQ 956 3463 1253 3523 \r\nQ 1550 3584 1831 3584 \r\nQ 2591 3584 2966 3190 \r\nQ 3341 2797 3341 1997 \r\nz\r\n\" id=\"DejaVuSans-61\" transform=\"scale(0.015625)\"/>\r\n       <path d=\"M 603 3500 \r\nL 1178 3500 \r\nL 1178 0 \r\nL 603 0 \r\nL 603 3500 \r\nz\r\nM 603 4863 \r\nL 1178 4863 \r\nL 1178 4134 \r\nL 603 4134 \r\nL 603 4863 \r\nz\r\n\" id=\"DejaVuSans-69\" transform=\"scale(0.015625)\"/>\r\n       <path d=\"M 3513 2113 \r\nL 3513 0 \r\nL 2938 0 \r\nL 2938 2094 \r\nQ 2938 2591 2744 2837 \r\nQ 2550 3084 2163 3084 \r\nQ 1697 3084 1428 2787 \r\nQ 1159 2491 1159 1978 \r\nL 1159 0 \r\nL 581 0 \r\nL 581 3500 \r\nL 1159 3500 \r\nL 1159 2956 \r\nQ 1366 3272 1645 3428 \r\nQ 1925 3584 2291 3584 \r\nQ 2894 3584 3203 3211 \r\nQ 3513 2838 3513 2113 \r\nz\r\n\" id=\"DejaVuSans-6e\" transform=\"scale(0.015625)\"/>\r\n       <path d=\"M 2906 1791 \r\nQ 2906 2416 2648 2759 \r\nQ 2391 3103 1925 3103 \r\nQ 1463 3103 1205 2759 \r\nQ 947 2416 947 1791 \r\nQ 947 1169 1205 825 \r\nQ 1463 481 1925 481 \r\nQ 2391 481 2648 825 \r\nQ 2906 1169 2906 1791 \r\nz\r\nM 3481 434 \r\nQ 3481 -459 3084 -895 \r\nQ 2688 -1331 1869 -1331 \r\nQ 1566 -1331 1297 -1286 \r\nQ 1028 -1241 775 -1147 \r\nL 775 -588 \r\nQ 1028 -725 1275 -790 \r\nQ 1522 -856 1778 -856 \r\nQ 2344 -856 2625 -561 \r\nQ 2906 -266 2906 331 \r\nL 2906 616 \r\nQ 2728 306 2450 153 \r\nQ 2172 0 1784 0 \r\nQ 1141 0 747 490 \r\nQ 353 981 353 1791 \r\nQ 353 2603 747 3093 \r\nQ 1141 3584 1784 3584 \r\nQ 2172 3584 2450 3431 \r\nQ 2728 3278 2906 2969 \r\nL 2906 3500 \r\nL 3481 3500 \r\nL 3481 434 \r\nz\r\n\" id=\"DejaVuSans-67\" transform=\"scale(0.015625)\"/>\r\n       <path id=\"DejaVuSans-20\" transform=\"scale(0.015625)\"/>\r\n       <path d=\"M 1259 4147 \r\nL 1259 519 \r\nL 2022 519 \r\nQ 2988 519 3436 956 \r\nQ 3884 1394 3884 2338 \r\nQ 3884 3275 3436 3711 \r\nQ 2988 4147 2022 4147 \r\nL 1259 4147 \r\nz\r\nM 628 4666 \r\nL 1925 4666 \r\nQ 3281 4666 3915 4102 \r\nQ 4550 3538 4550 2338 \r\nQ 4550 1131 3912 565 \r\nQ 3275 0 1925 0 \r\nL 628 0 \r\nL 628 4666 \r\nz\r\n\" id=\"DejaVuSans-44\" transform=\"scale(0.015625)\"/>\r\n       <path d=\"M 1172 4494 \r\nL 1172 3500 \r\nL 2356 3500 \r\nL 2356 3053 \r\nL 1172 3053 \r\nL 1172 1153 \r\nQ 1172 725 1289 603 \r\nQ 1406 481 1766 481 \r\nL 2356 481 \r\nL 2356 0 \r\nL 1766 0 \r\nQ 1100 0 847 248 \r\nQ 594 497 594 1153 \r\nL 594 3053 \r\nL 172 3053 \r\nL 172 3500 \r\nL 594 3500 \r\nL 594 4494 \r\nL 1172 4494 \r\nz\r\n\" id=\"DejaVuSans-74\" transform=\"scale(0.015625)\"/>\r\n      </defs>\r\n      <use xlink:href=\"#DejaVuSans-54\"/>\r\n      <use x=\"46.333984\" xlink:href=\"#DejaVuSans-72\"/>\r\n      <use x=\"87.447266\" xlink:href=\"#DejaVuSans-61\"/>\r\n      <use x=\"148.726562\" xlink:href=\"#DejaVuSans-69\"/>\r\n      <use x=\"176.509766\" xlink:href=\"#DejaVuSans-6e\"/>\r\n      <use x=\"239.888672\" xlink:href=\"#DejaVuSans-69\"/>\r\n      <use x=\"267.671875\" xlink:href=\"#DejaVuSans-6e\"/>\r\n      <use x=\"331.050781\" xlink:href=\"#DejaVuSans-67\"/>\r\n      <use x=\"394.527344\" xlink:href=\"#DejaVuSans-20\"/>\r\n      <use x=\"426.314453\" xlink:href=\"#DejaVuSans-44\"/>\r\n      <use x=\"503.316406\" xlink:href=\"#DejaVuSans-61\"/>\r\n      <use x=\"564.595703\" xlink:href=\"#DejaVuSans-74\"/>\r\n      <use x=\"603.804688\" xlink:href=\"#DejaVuSans-61\"/>\r\n     </g>\r\n    </g>\r\n   </g>\r\n  </g>\r\n </g>\r\n <defs>\r\n  <clipPath id=\"p060e5d3f35\">\r\n   <rect height=\"380.52\" width=\"558\" x=\"33.2875\" y=\"7.2\"/>\r\n  </clipPath>\r\n </defs>\r\n</svg>\r\n",
      "image/png": "[encoded data removed]"
     },
     "metadata": {
      "needs_background": "light"
     }
    }
   ],
   "metadata": {}
  },
  {
   "cell_type": "code",
   "execution_count": 276,
   "source": [
    "# Build a neural network for the available data\r\n",
    "\r\n",
    "# model = tf.keras.Sequential()\r\n",
    "# model.add(tf.keras.layers.Dense(1), input_shape=)\r\n",
    "\r\n",
    "# # 2. Compile the model\r\n",
    "\r\n",
    "# model.compile(optimizer=tf.keras.optimizers.SGD(), metrics=['mae'], loss=tf.keras.losses.mae)\r\n",
    "\r\n",
    "# # 3. Fit the model\r\n",
    "# # model.fit(X_train, y_train, epochs=100)\r\n"
   ],
   "outputs": [],
   "metadata": {}
  },
  {
   "cell_type": "markdown",
   "source": [
    "# Visualizing the model\r\n",
    "model.summary()"
   ],
   "metadata": {}
  },
  {
   "cell_type": "code",
   "execution_count": 277,
   "source": [
    "tf.random.set_seed(42)\r\n",
    "\r\n",
    "model = tf.keras.Sequential()\r\n",
    "model.add(tf.keras.layers.Dense(10, input_shape=[1]))\r\n",
    "model.add(tf.keras.layers.Dense(1))\r\n",
    "\r\n",
    "model.compile(loss=tf.keras.losses.mae, optimizer=tf.keras.optimizers.SGD(), metrics=['mae'])\r\n",
    "\r\n",
    "model.summary()"
   ],
   "outputs": [
    {
     "output_type": "stream",
     "name": "stdout",
     "text": [
      "Model: \"sequential_22\"\n",
      "_________________________________________________________________\n",
      "Layer (type)                 Output Shape              Param #   \n",
      "=================================================================\n",
      "dense_54 (Dense)             (None, 10)                20        \n",
      "_________________________________________________________________\n",
      "dense_55 (Dense)             (None, 1)                 11        \n",
      "=================================================================\n",
      "Total params: 31\n",
      "Trainable params: 31\n",
      "Non-trainable params: 0\n",
      "_________________________________________________________________\n"
     ]
    }
   ],
   "metadata": {}
  },
  {
   "cell_type": "code",
   "execution_count": 278,
   "source": [
    "from tensorflow.keras.utils import plot_model\r\n",
    "plot_model(model=model, show_shapes='True')"
   ],
   "outputs": [
    {
     "output_type": "execute_result",
     "data": {
      "text/plain": [
       "<IPython.core.display.Image object>"
      ],
      "image/png": "[encoded data removed]"
     },
     "metadata": {},
     "execution_count": 278
    }
   ],
   "metadata": {}
  },
  {
   "cell_type": "code",
   "execution_count": 279,
   "source": [
    "model.summary()"
   ],
   "outputs": [
    {
     "output_type": "stream",
     "name": "stdout",
     "text": [
      "Model: \"sequential_22\"\n",
      "_________________________________________________________________\n",
      "Layer (type)                 Output Shape              Param #   \n",
      "=================================================================\n",
      "dense_54 (Dense)             (None, 10)                20        \n",
      "_________________________________________________________________\n",
      "dense_55 (Dense)             (None, 1)                 11        \n",
      "=================================================================\n",
      "Total params: 31\n",
      "Trainable params: 31\n",
      "Non-trainable params: 0\n",
      "_________________________________________________________________\n"
     ]
    }
   ],
   "metadata": {}
  },
  {
   "cell_type": "code",
   "execution_count": 280,
   "source": [
    "model. fit(X_train, y_train, epochs=100, verbose=1)"
   ],
   "outputs": [
    {
     "output_type": "stream",
     "name": "stdout",
     "text": [
      "Epoch 1/100\n",
      "2/2 [==============================] - 0s 4ms/step - loss: 27.4058 - mae: 27.4058\n",
      "Epoch 2/100\n",
      "2/2 [==============================] - 0s 4ms/step - loss: 24.6339 - mae: 24.6339\n",
      "Epoch 3/100\n",
      "2/2 [==============================] - 0s 4ms/step - loss: 29.8935 - mae: 29.8935\n",
      "Epoch 4/100\n",
      "2/2 [==============================] - 0s 4ms/step - loss: 27.4055 - mae: 27.4055\n",
      "Epoch 5/100\n",
      "2/2 [==============================] - 0s 4ms/step - loss: 14.9463 - mae: 14.9463\n",
      "Epoch 6/100\n",
      "2/2 [==============================] - 0s 5ms/step - loss: 11.8819 - mae: 11.8819\n",
      "Epoch 7/100\n",
      "2/2 [==============================] - 0s 4ms/step - loss: 11.1988 - mae: 11.1988\n",
      "Epoch 8/100\n",
      "2/2 [==============================] - 0s 5ms/step - loss: 11.0910 - mae: 11.0910\n",
      "Epoch 9/100\n",
      "2/2 [==============================] - 0s 5ms/step - loss: 40.4763 - mae: 40.4763\n",
      "Epoch 10/100\n",
      "2/2 [==============================] - 0s 6ms/step - loss: 27.8688 - mae: 27.8688\n",
      "Epoch 11/100\n",
      "2/2 [==============================] - 0s 4ms/step - loss: 10.2473 - mae: 10.2473\n",
      "Epoch 12/100\n",
      "2/2 [==============================] - 0s 4ms/step - loss: 25.2803 - mae: 25.2803\n",
      "Epoch 13/100\n",
      "2/2 [==============================] - 0s 5ms/step - loss: 16.9897 - mae: 16.9897\n",
      "Epoch 14/100\n",
      "2/2 [==============================] - 0s 5ms/step - loss: 25.9217 - mae: 25.9217\n",
      "Epoch 15/100\n",
      "2/2 [==============================] - 0s 5ms/step - loss: 17.9948 - mae: 17.9948\n",
      "Epoch 16/100\n",
      "2/2 [==============================] - 0s 4ms/step - loss: 7.3510 - mae: 7.3510\n",
      "Epoch 17/100\n",
      "2/2 [==============================] - 0s 5ms/step - loss: 10.8636 - mae: 10.8636\n",
      "Epoch 18/100\n",
      "2/2 [==============================] - 0s 3ms/step - loss: 19.5304 - mae: 19.5304\n",
      "Epoch 19/100\n",
      "2/2 [==============================] - 0s 5ms/step - loss: 10.3469 - mae: 10.3469\n",
      "Epoch 20/100\n",
      "2/2 [==============================] - 0s 4ms/step - loss: 17.6985 - mae: 17.6985\n",
      "Epoch 21/100\n",
      "2/2 [==============================] - 0s 4ms/step - loss: 15.8984 - mae: 15.8984\n",
      "Epoch 22/100\n",
      "2/2 [==============================] - 0s 4ms/step - loss: 14.1991 - mae: 14.1991\n",
      "Epoch 23/100\n",
      "2/2 [==============================] - 0s 5ms/step - loss: 8.7720 - mae: 8.7720\n",
      "Epoch 24/100\n",
      "2/2 [==============================] - 0s 5ms/step - loss: 11.0570 - mae: 11.0570\n",
      "Epoch 25/100\n",
      "2/2 [==============================] - 0s 4ms/step - loss: 12.6838 - mae: 12.6838\n",
      "Epoch 26/100\n",
      "2/2 [==============================] - 0s 5ms/step - loss: 26.1877 - mae: 26.1877\n",
      "Epoch 27/100\n",
      "2/2 [==============================] - 0s 4ms/step - loss: 11.7432 - mae: 11.7432\n",
      "Epoch 28/100\n",
      "2/2 [==============================] - 0s 5ms/step - loss: 22.8730 - mae: 22.8730\n",
      "Epoch 29/100\n",
      "2/2 [==============================] - 0s 5ms/step - loss: 9.2459 - mae: 9.2459\n",
      "Epoch 30/100\n",
      "2/2 [==============================] - 0s 4ms/step - loss: 29.2641 - mae: 29.2641\n",
      "Epoch 31/100\n",
      "2/2 [==============================] - 0s 5ms/step - loss: 53.0225 - mae: 53.0225\n",
      "Epoch 32/100\n",
      "2/2 [==============================] - 0s 5ms/step - loss: 11.9951 - mae: 11.9951\n",
      "Epoch 33/100\n",
      "2/2 [==============================] - 0s 5ms/step - loss: 15.6357 - mae: 15.6357\n",
      "Epoch 34/100\n",
      "2/2 [==============================] - 0s 5ms/step - loss: 12.6925 - mae: 12.6925\n",
      "Epoch 35/100\n",
      "2/2 [==============================] - 0s 3ms/step - loss: 9.2398 - mae: 9.2398\n",
      "Epoch 36/100\n",
      "2/2 [==============================] - 0s 5ms/step - loss: 16.6497 - mae: 16.6497\n",
      "Epoch 37/100\n",
      "2/2 [==============================] - 0s 4ms/step - loss: 11.0382 - mae: 11.0382\n",
      "Epoch 38/100\n",
      "2/2 [==============================] - 0s 4ms/step - loss: 18.1634 - mae: 18.1634\n",
      "Epoch 39/100\n",
      "2/2 [==============================] - 0s 5ms/step - loss: 19.1013 - mae: 19.1013\n",
      "Epoch 40/100\n",
      "2/2 [==============================] - 0s 4ms/step - loss: 20.4324 - mae: 20.4324\n",
      "Epoch 41/100\n",
      "2/2 [==============================] - 0s 4ms/step - loss: 14.9102 - mae: 14.9102\n",
      "Epoch 42/100\n",
      "2/2 [==============================] - 0s 5ms/step - loss: 12.2809 - mae: 12.2809\n",
      "Epoch 43/100\n",
      "2/2 [==============================] - 0s 5ms/step - loss: 10.7333 - mae: 10.7333\n",
      "Epoch 44/100\n",
      "2/2 [==============================] - 0s 4ms/step - loss: 23.0260 - mae: 23.0260\n",
      "Epoch 45/100\n",
      "2/2 [==============================] - 0s 4ms/step - loss: 10.3897 - mae: 10.3897\n",
      "Epoch 46/100\n",
      "2/2 [==============================] - 0s 5ms/step - loss: 11.7904 - mae: 11.7904\n",
      "Epoch 47/100\n",
      "2/2 [==============================] - 0s 5ms/step - loss: 9.6438 - mae: 9.6438\n",
      "Epoch 48/100\n",
      "2/2 [==============================] - 0s 5ms/step - loss: 17.2335 - mae: 17.2335\n",
      "Epoch 49/100\n",
      "2/2 [==============================] - 0s 4ms/step - loss: 9.5729 - mae: 9.5729\n",
      "Epoch 50/100\n",
      "2/2 [==============================] - 0s 5ms/step - loss: 13.8185 - mae: 13.8185\n",
      "Epoch 51/100\n",
      "2/2 [==============================] - 0s 5ms/step - loss: 11.5958 - mae: 11.5958\n",
      "Epoch 52/100\n",
      "2/2 [==============================] - 0s 5ms/step - loss: 30.5538 - mae: 30.5538\n",
      "Epoch 53/100\n",
      "2/2 [==============================] - 0s 4ms/step - loss: 14.3541 - mae: 14.3541\n",
      "Epoch 54/100\n",
      "2/2 [==============================] - 0s 4ms/step - loss: 23.9713 - mae: 23.9713\n",
      "Epoch 55/100\n",
      "2/2 [==============================] - 0s 6ms/step - loss: 23.1938 - mae: 23.1938\n",
      "Epoch 56/100\n",
      "2/2 [==============================] - 0s 4ms/step - loss: 10.8837 - mae: 10.8837\n",
      "Epoch 57/100\n",
      "2/2 [==============================] - 0s 4ms/step - loss: 12.7445 - mae: 12.7445\n",
      "Epoch 58/100\n",
      "2/2 [==============================] - 0s 4ms/step - loss: 9.5995 - mae: 9.5995\n",
      "Epoch 59/100\n",
      "2/2 [==============================] - 0s 4ms/step - loss: 12.5172 - mae: 12.5172\n",
      "Epoch 60/100\n",
      "2/2 [==============================] - 0s 4ms/step - loss: 12.3200 - mae: 12.3200\n",
      "Epoch 61/100\n",
      "2/2 [==============================] - 0s 4ms/step - loss: 17.4604 - mae: 17.4604\n",
      "Epoch 62/100\n",
      "2/2 [==============================] - 0s 5ms/step - loss: 10.6052 - mae: 10.6052\n",
      "Epoch 63/100\n",
      "2/2 [==============================] - 0s 5ms/step - loss: 10.4893 - mae: 10.4893\n",
      "Epoch 64/100\n",
      "2/2 [==============================] - 0s 4ms/step - loss: 24.8450 - mae: 24.8450\n",
      "Epoch 65/100\n",
      "2/2 [==============================] - 0s 4ms/step - loss: 10.6761 - mae: 10.6761\n",
      "Epoch 66/100\n",
      "2/2 [==============================] - 0s 4ms/step - loss: 21.7809 - mae: 21.7809\n",
      "Epoch 67/100\n",
      "2/2 [==============================] - 0s 5ms/step - loss: 10.7136 - mae: 10.7136\n",
      "Epoch 68/100\n",
      "2/2 [==============================] - 0s 5ms/step - loss: 10.6397 - mae: 10.6397\n",
      "Epoch 69/100\n",
      "2/2 [==============================] - 0s 4ms/step - loss: 22.6914 - mae: 22.6914\n",
      "Epoch 70/100\n",
      "2/2 [==============================] - 0s 5ms/step - loss: 9.3316 - mae: 9.3316\n",
      "Epoch 71/100\n",
      "2/2 [==============================] - 0s 4ms/step - loss: 15.4355 - mae: 15.4355\n",
      "Epoch 72/100\n",
      "2/2 [==============================] - 0s 4ms/step - loss: 6.7437 - mae: 6.7437\n",
      "Epoch 73/100\n",
      "2/2 [==============================] - 0s 4ms/step - loss: 11.6891 - mae: 11.6891\n",
      "Epoch 74/100\n",
      "2/2 [==============================] - 0s 4ms/step - loss: 24.0400 - mae: 24.0400\n",
      "Epoch 75/100\n",
      "2/2 [==============================] - 0s 4ms/step - loss: 9.5896 - mae: 9.5896\n",
      "Epoch 76/100\n",
      "2/2 [==============================] - 0s 4ms/step - loss: 12.4371 - mae: 12.4371\n",
      "Epoch 77/100\n",
      "2/2 [==============================] - 0s 5ms/step - loss: 16.6489 - mae: 16.6489\n",
      "Epoch 78/100\n",
      "2/2 [==============================] - 0s 4ms/step - loss: 9.0614 - mae: 9.0614\n",
      "Epoch 79/100\n",
      "2/2 [==============================] - 0s 4ms/step - loss: 23.9675 - mae: 23.9675\n",
      "Epoch 80/100\n",
      "2/2 [==============================] - 0s 4ms/step - loss: 26.7463 - mae: 26.7463\n",
      "Epoch 81/100\n",
      "2/2 [==============================] - 0s 4ms/step - loss: 11.6714 - mae: 11.6714\n",
      "Epoch 82/100\n",
      "2/2 [==============================] - 0s 4ms/step - loss: 12.0228 - mae: 12.0228\n",
      "Epoch 83/100\n",
      "2/2 [==============================] - 0s 5ms/step - loss: 17.4218 - mae: 17.4218\n",
      "Epoch 84/100\n",
      "2/2 [==============================] - 0s 5ms/step - loss: 7.2629 - mae: 7.2629\n",
      "Epoch 85/100\n",
      "2/2 [==============================] - 0s 4ms/step - loss: 14.9650 - mae: 14.9650\n",
      "Epoch 86/100\n",
      "2/2 [==============================] - 0s 4ms/step - loss: 15.2862 - mae: 15.2862\n",
      "Epoch 87/100\n",
      "2/2 [==============================] - 0s 4ms/step - loss: 19.1086 - mae: 19.1086\n",
      "Epoch 88/100\n",
      "2/2 [==============================] - 0s 4ms/step - loss: 29.8229 - mae: 29.8229\n",
      "Epoch 89/100\n",
      "2/2 [==============================] - 0s 4ms/step - loss: 10.1742 - mae: 10.1742\n",
      "Epoch 90/100\n",
      "2/2 [==============================] - 0s 4ms/step - loss: 21.5240 - mae: 21.5240\n",
      "Epoch 91/100\n",
      "2/2 [==============================] - 0s 5ms/step - loss: 10.5716 - mae: 10.5716\n",
      "Epoch 92/100\n",
      "2/2 [==============================] - 0s 5ms/step - loss: 18.3977 - mae: 18.3977\n",
      "Epoch 93/100\n",
      "2/2 [==============================] - 0s 5ms/step - loss: 7.4138 - mae: 7.4138\n",
      "Epoch 94/100\n",
      "2/2 [==============================] - 0s 5ms/step - loss: 17.7380 - mae: 17.7380\n",
      "Epoch 95/100\n",
      "2/2 [==============================] - 0s 5ms/step - loss: 11.1144 - mae: 11.1144\n",
      "Epoch 96/100\n",
      "2/2 [==============================] - 0s 4ms/step - loss: 19.4346 - mae: 19.4346\n",
      "Epoch 97/100\n",
      "2/2 [==============================] - 0s 5ms/step - loss: 12.1593 - mae: 12.1593\n",
      "Epoch 98/100\n",
      "2/2 [==============================] - 0s 5ms/step - loss: 11.5653 - mae: 11.5653\n",
      "Epoch 99/100\n",
      "2/2 [==============================] - 0s 4ms/step - loss: 13.8827 - mae: 13.8827\n",
      "Epoch 100/100\n",
      "2/2 [==============================] - 0s 4ms/step - loss: 20.2277 - mae: 20.2277\n"
     ]
    },
    {
     "output_type": "execute_result",
     "data": {
      "text/plain": [
       "<tensorflow.python.keras.callbacks.History at 0x1856d53a130>"
      ]
     },
     "metadata": {},
     "execution_count": 280
    }
   ],
   "metadata": {}
  },
  {
   "cell_type": "markdown",
   "source": [
    "# Visualizing the model predictions"
   ],
   "metadata": {}
  },
  {
   "cell_type": "code",
   "execution_count": 281,
   "source": [
    "y_pred = model.predict(y_test)\r\n",
    "y_pred"
   ],
   "outputs": [
    {
     "output_type": "execute_result",
     "data": {
      "text/plain": [
       "array([[ 82.02151 ],\n",
       "       [ 86.60922 ],\n",
       "       [ 91.19695 ],\n",
       "       [ 95.78468 ],\n",
       "       [100.372406],\n",
       "       [104.96012 ],\n",
       "       [109.54786 ],\n",
       "       [114.13558 ],\n",
       "       [118.723305],\n",
       "       [123.31103 ]], dtype=float32)"
      ]
     },
     "metadata": {},
     "execution_count": 281
    }
   ],
   "metadata": {}
  },
  {
   "cell_type": "code",
   "execution_count": 282,
   "source": [
    "y_test"
   ],
   "outputs": [
    {
     "output_type": "execute_result",
     "data": {
      "text/plain": [
       "<tf.Tensor: shape=(10,), dtype=int32, numpy=array([ 70,  74,  78,  82,  86,  90,  94,  98, 102, 106])>"
      ]
     },
     "metadata": {},
     "execution_count": 282
    }
   ],
   "metadata": {}
  },
  {
   "cell_type": "code",
   "execution_count": 283,
   "source": [
    "# Create a plotting function\r\n",
    "def plot_prediction(train_data=X_train,\r\n",
    "                    train_labels=y_train,\r\n",
    "                    test_data=X_test,\r\n",
    "                    test_labels=y_test,\r\n",
    "                    predictions=y_pred):\r\n",
    "    plt.figure(figsize=(10,7))\r\n",
    "    plt.scatter(train_data, train_labels, label='Training Data')\r\n",
    "    plt.scatter(test_data, test_labels, label='Testing Data')\r\n",
    "    plt.scatter(test_data, predictions, label='Predictions')\r\n",
    "    plt.legend()"
   ],
   "outputs": [],
   "metadata": {}
  },
  {
   "cell_type": "code",
   "execution_count": 284,
   "source": [
    "plot_prediction()"
   ],
   "outputs": [
    {
     "output_type": "display_data",
     "data": {
      "text/plain": [
       "<Figure size 720x504 with 1 Axes>"
      ],
      "image/svg+xml": "<?xml version=\"1.0\" encoding=\"utf-8\" standalone=\"no\"?>\r\n<!DOCTYPE svg PUBLIC \"-//W3C//DTD SVG 1.1//EN\"\r\n  \"http://www.w3.org/Graphics/SVG/1.1/DTD/svg11.dtd\">\r\n<svg height=\"411.598125pt\" version=\"1.1\" viewBox=\"0 0 606.867188 411.598125\" width=\"606.867188pt\" xmlns=\"http://www.w3.org/2000/svg\" xmlns:xlink=\"http://www.w3.org/1999/xlink\">\r\n <metadata>\r\n  <rdf:RDF xmlns:cc=\"http://creativecommons.org/ns#\" xmlns:dc=\"http://purl.org/dc/elements/1.1/\" xmlns:rdf=\"http://www.w3.org/1999/02/22-rdf-syntax-ns#\">\r\n   <cc:Work>\r\n    <dc:type rdf:resource=\"http://purl.org/dc/dcmitype/StillImage\"/>\r\n    <dc:date>2021-08-10T10:59:59.309266</dc:date>\r\n    <dc:format>image/svg+xml</dc:format>\r\n    <dc:creator>\r\n     <cc:Agent>\r\n      <dc:title>Matplotlib v3.4.2, https://matplotlib.org/</dc:title>\r\n     </cc:Agent>\r\n    </dc:creator>\r\n   </cc:Work>\r\n  </rdf:RDF>\r\n </metadata>\r\n <defs>\r\n  <style type=\"text/css\">*{stroke-linecap:butt;stroke-linejoin:round;}</style>\r\n </defs>\r\n <g id=\"figure_1\">\r\n  <g id=\"patch_1\">\r\n   <path d=\"M 0 411.598125 \r\nL 606.867188 411.598125 \r\nL 606.867188 0 \r\nL 0 0 \r\nz\r\n\" style=\"fill:none;\"/>\r\n  </g>\r\n  <g id=\"axes_1\">\r\n   <g id=\"patch_2\">\r\n    <path d=\"M 41.667188 387.72 \r\nL 599.667187 387.72 \r\nL 599.667187 7.2 \r\nL 41.667188 7.2 \r\nz\r\n\" style=\"fill:#ffffff;\"/>\r\n   </g>\r\n   <g id=\"PathCollection_1\">\r\n    <defs>\r\n     <path d=\"M 0 3 \r\nC 0.795609 3 1.55874 2.683901 2.12132 2.12132 \r\nC 2.683901 1.55874 3 0.795609 3 0 \r\nC 3 -0.795609 2.683901 -1.55874 2.12132 -2.12132 \r\nC 1.55874 -2.683901 0.795609 -3 0 -3 \r\nC -0.795609 -3 -1.55874 -2.683901 -2.12132 -2.12132 \r\nC -2.683901 -1.55874 -3 -0.795609 -3 0 \r\nC -3 0.795609 -2.683901 1.55874 -2.12132 2.12132 \r\nC -1.55874 2.683901 -0.795609 3 0 3 \r\nz\r\n\" id=\"m7aec84311d\" style=\"stroke:#1f77b4;\"/>\r\n    </defs>\r\n    <g clip-path=\"url(#p99c446b578)\">\r\n     <use style=\"fill:#1f77b4;stroke:#1f77b4;\" x=\"67.030824\" xlink:href=\"#m7aec84311d\" y=\"370.423636\"/>\r\n     <use style=\"fill:#1f77b4;stroke:#1f77b4;\" x=\"77.383329\" xlink:href=\"#m7aec84311d\" y=\"363.936822\"/>\r\n     <use style=\"fill:#1f77b4;stroke:#1f77b4;\" x=\"87.735833\" xlink:href=\"#m7aec84311d\" y=\"357.450007\"/>\r\n     <use style=\"fill:#1f77b4;stroke:#1f77b4;\" x=\"98.088338\" xlink:href=\"#m7aec84311d\" y=\"350.963193\"/>\r\n     <use style=\"fill:#1f77b4;stroke:#1f77b4;\" x=\"108.440842\" xlink:href=\"#m7aec84311d\" y=\"344.476378\"/>\r\n     <use style=\"fill:#1f77b4;stroke:#1f77b4;\" x=\"118.793347\" xlink:href=\"#m7aec84311d\" y=\"337.989563\"/>\r\n     <use style=\"fill:#1f77b4;stroke:#1f77b4;\" x=\"129.145852\" xlink:href=\"#m7aec84311d\" y=\"331.502749\"/>\r\n     <use style=\"fill:#1f77b4;stroke:#1f77b4;\" x=\"139.498356\" xlink:href=\"#m7aec84311d\" y=\"325.015934\"/>\r\n     <use style=\"fill:#1f77b4;stroke:#1f77b4;\" x=\"149.850861\" xlink:href=\"#m7aec84311d\" y=\"318.529119\"/>\r\n     <use style=\"fill:#1f77b4;stroke:#1f77b4;\" x=\"160.203366\" xlink:href=\"#m7aec84311d\" y=\"312.042305\"/>\r\n     <use style=\"fill:#1f77b4;stroke:#1f77b4;\" x=\"170.55587\" xlink:href=\"#m7aec84311d\" y=\"305.55549\"/>\r\n     <use style=\"fill:#1f77b4;stroke:#1f77b4;\" x=\"180.908375\" xlink:href=\"#m7aec84311d\" y=\"299.068676\"/>\r\n     <use style=\"fill:#1f77b4;stroke:#1f77b4;\" x=\"191.26088\" xlink:href=\"#m7aec84311d\" y=\"292.581861\"/>\r\n     <use style=\"fill:#1f77b4;stroke:#1f77b4;\" x=\"201.613384\" xlink:href=\"#m7aec84311d\" y=\"286.095046\"/>\r\n     <use style=\"fill:#1f77b4;stroke:#1f77b4;\" x=\"211.965889\" xlink:href=\"#m7aec84311d\" y=\"279.608232\"/>\r\n     <use style=\"fill:#1f77b4;stroke:#1f77b4;\" x=\"222.318393\" xlink:href=\"#m7aec84311d\" y=\"273.121417\"/>\r\n     <use style=\"fill:#1f77b4;stroke:#1f77b4;\" x=\"232.670898\" xlink:href=\"#m7aec84311d\" y=\"266.634603\"/>\r\n     <use style=\"fill:#1f77b4;stroke:#1f77b4;\" x=\"243.023403\" xlink:href=\"#m7aec84311d\" y=\"260.147788\"/>\r\n     <use style=\"fill:#1f77b4;stroke:#1f77b4;\" x=\"253.375907\" xlink:href=\"#m7aec84311d\" y=\"253.660973\"/>\r\n     <use style=\"fill:#1f77b4;stroke:#1f77b4;\" x=\"263.728412\" xlink:href=\"#m7aec84311d\" y=\"247.174159\"/>\r\n     <use style=\"fill:#1f77b4;stroke:#1f77b4;\" x=\"274.080917\" xlink:href=\"#m7aec84311d\" y=\"240.687344\"/>\r\n     <use style=\"fill:#1f77b4;stroke:#1f77b4;\" x=\"284.433421\" xlink:href=\"#m7aec84311d\" y=\"234.200529\"/>\r\n     <use style=\"fill:#1f77b4;stroke:#1f77b4;\" x=\"294.785926\" xlink:href=\"#m7aec84311d\" y=\"227.713715\"/>\r\n     <use style=\"fill:#1f77b4;stroke:#1f77b4;\" x=\"305.138431\" xlink:href=\"#m7aec84311d\" y=\"221.2269\"/>\r\n     <use style=\"fill:#1f77b4;stroke:#1f77b4;\" x=\"315.490935\" xlink:href=\"#m7aec84311d\" y=\"214.740086\"/>\r\n     <use style=\"fill:#1f77b4;stroke:#1f77b4;\" x=\"325.84344\" xlink:href=\"#m7aec84311d\" y=\"208.253271\"/>\r\n     <use style=\"fill:#1f77b4;stroke:#1f77b4;\" x=\"336.195944\" xlink:href=\"#m7aec84311d\" y=\"201.766456\"/>\r\n     <use style=\"fill:#1f77b4;stroke:#1f77b4;\" x=\"346.548449\" xlink:href=\"#m7aec84311d\" y=\"195.279642\"/>\r\n     <use style=\"fill:#1f77b4;stroke:#1f77b4;\" x=\"356.900954\" xlink:href=\"#m7aec84311d\" y=\"188.792827\"/>\r\n     <use style=\"fill:#1f77b4;stroke:#1f77b4;\" x=\"367.253458\" xlink:href=\"#m7aec84311d\" y=\"182.306013\"/>\r\n     <use style=\"fill:#1f77b4;stroke:#1f77b4;\" x=\"377.605963\" xlink:href=\"#m7aec84311d\" y=\"175.819198\"/>\r\n     <use style=\"fill:#1f77b4;stroke:#1f77b4;\" x=\"387.958468\" xlink:href=\"#m7aec84311d\" y=\"169.332383\"/>\r\n     <use style=\"fill:#1f77b4;stroke:#1f77b4;\" x=\"398.310972\" xlink:href=\"#m7aec84311d\" y=\"162.845569\"/>\r\n     <use style=\"fill:#1f77b4;stroke:#1f77b4;\" x=\"408.663477\" xlink:href=\"#m7aec84311d\" y=\"156.358754\"/>\r\n     <use style=\"fill:#1f77b4;stroke:#1f77b4;\" x=\"419.015982\" xlink:href=\"#m7aec84311d\" y=\"149.871939\"/>\r\n     <use style=\"fill:#1f77b4;stroke:#1f77b4;\" x=\"429.368486\" xlink:href=\"#m7aec84311d\" y=\"143.385125\"/>\r\n     <use style=\"fill:#1f77b4;stroke:#1f77b4;\" x=\"439.720991\" xlink:href=\"#m7aec84311d\" y=\"136.89831\"/>\r\n     <use style=\"fill:#1f77b4;stroke:#1f77b4;\" x=\"450.073495\" xlink:href=\"#m7aec84311d\" y=\"130.411496\"/>\r\n     <use style=\"fill:#1f77b4;stroke:#1f77b4;\" x=\"460.426\" xlink:href=\"#m7aec84311d\" y=\"123.924681\"/>\r\n     <use style=\"fill:#1f77b4;stroke:#1f77b4;\" x=\"470.778505\" xlink:href=\"#m7aec84311d\" y=\"117.437866\"/>\r\n    </g>\r\n   </g>\r\n   <g id=\"PathCollection_2\">\r\n    <defs>\r\n     <path d=\"M 0 3 \r\nC 0.795609 3 1.55874 2.683901 2.12132 2.12132 \r\nC 2.683901 1.55874 3 0.795609 3 0 \r\nC 3 -0.795609 2.683901 -1.55874 2.12132 -2.12132 \r\nC 1.55874 -2.683901 0.795609 -3 0 -3 \r\nC -0.795609 -3 -1.55874 -2.683901 -2.12132 -2.12132 \r\nC -2.683901 -1.55874 -3 -0.795609 -3 0 \r\nC -3 0.795609 -2.683901 1.55874 -2.12132 2.12132 \r\nC -1.55874 2.683901 -0.795609 3 0 3 \r\nz\r\n\" id=\"m6004f0348e\" style=\"stroke:#ff7f0e;\"/>\r\n    </defs>\r\n    <g clip-path=\"url(#p99c446b578)\">\r\n     <use style=\"fill:#ff7f0e;stroke:#ff7f0e;\" x=\"481.131009\" xlink:href=\"#m6004f0348e\" y=\"110.951052\"/>\r\n     <use style=\"fill:#ff7f0e;stroke:#ff7f0e;\" x=\"491.483514\" xlink:href=\"#m6004f0348e\" y=\"104.464237\"/>\r\n     <use style=\"fill:#ff7f0e;stroke:#ff7f0e;\" x=\"501.836019\" xlink:href=\"#m6004f0348e\" y=\"97.977423\"/>\r\n     <use style=\"fill:#ff7f0e;stroke:#ff7f0e;\" x=\"512.188523\" xlink:href=\"#m6004f0348e\" y=\"91.490608\"/>\r\n     <use style=\"fill:#ff7f0e;stroke:#ff7f0e;\" x=\"522.541028\" xlink:href=\"#m6004f0348e\" y=\"85.003793\"/>\r\n     <use style=\"fill:#ff7f0e;stroke:#ff7f0e;\" x=\"532.893533\" xlink:href=\"#m6004f0348e\" y=\"78.516979\"/>\r\n     <use style=\"fill:#ff7f0e;stroke:#ff7f0e;\" x=\"543.246037\" xlink:href=\"#m6004f0348e\" y=\"72.030164\"/>\r\n     <use style=\"fill:#ff7f0e;stroke:#ff7f0e;\" x=\"553.598542\" xlink:href=\"#m6004f0348e\" y=\"65.543349\"/>\r\n     <use style=\"fill:#ff7f0e;stroke:#ff7f0e;\" x=\"563.951046\" xlink:href=\"#m6004f0348e\" y=\"59.056535\"/>\r\n     <use style=\"fill:#ff7f0e;stroke:#ff7f0e;\" x=\"574.303551\" xlink:href=\"#m6004f0348e\" y=\"52.56972\"/>\r\n    </g>\r\n   </g>\r\n   <g id=\"PathCollection_3\">\r\n    <defs>\r\n     <path d=\"M 0 3 \r\nC 0.795609 3 1.55874 2.683901 2.12132 2.12132 \r\nC 2.683901 1.55874 3 0.795609 3 0 \r\nC 3 -0.795609 2.683901 -1.55874 2.12132 -2.12132 \r\nC 1.55874 -2.683901 0.795609 -3 0 -3 \r\nC -0.795609 -3 -1.55874 -2.683901 -2.12132 -2.12132 \r\nC -2.683901 -1.55874 -3 -0.795609 -3 0 \r\nC -3 0.795609 -2.683901 1.55874 -2.12132 2.12132 \r\nC -1.55874 2.683901 -0.795609 3 0 3 \r\nz\r\n\" id=\"m1421df9890\" style=\"stroke:#2ca02c;\"/>\r\n    </defs>\r\n    <g clip-path=\"url(#p99c446b578)\">\r\n     <use style=\"fill:#2ca02c;stroke:#2ca02c;\" x=\"481.131009\" xlink:href=\"#m1421df9890\" y=\"91.45573\"/>\r\n     <use style=\"fill:#2ca02c;stroke:#2ca02c;\" x=\"491.483514\" xlink:href=\"#m1421df9890\" y=\"84.015815\"/>\r\n     <use style=\"fill:#2ca02c;stroke:#2ca02c;\" x=\"501.836019\" xlink:href=\"#m1421df9890\" y=\"76.575876\"/>\r\n     <use style=\"fill:#2ca02c;stroke:#2ca02c;\" x=\"512.188523\" xlink:href=\"#m1421df9890\" y=\"69.135937\"/>\r\n     <use style=\"fill:#2ca02c;stroke:#2ca02c;\" x=\"522.541028\" xlink:href=\"#m1421df9890\" y=\"61.69601\"/>\r\n     <use style=\"fill:#2ca02c;stroke:#2ca02c;\" x=\"532.893533\" xlink:href=\"#m1421df9890\" y=\"54.256096\"/>\r\n     <use style=\"fill:#2ca02c;stroke:#2ca02c;\" x=\"543.246037\" xlink:href=\"#m1421df9890\" y=\"46.816144\"/>\r\n     <use style=\"fill:#2ca02c;stroke:#2ca02c;\" x=\"553.598542\" xlink:href=\"#m1421df9890\" y=\"39.376217\"/>\r\n     <use style=\"fill:#2ca02c;stroke:#2ca02c;\" x=\"563.951046\" xlink:href=\"#m1421df9890\" y=\"31.93629\"/>\r\n     <use style=\"fill:#2ca02c;stroke:#2ca02c;\" x=\"574.303551\" xlink:href=\"#m1421df9890\" y=\"24.496364\"/>\r\n    </g>\r\n   </g>\r\n   <g id=\"matplotlib.axis_1\">\r\n    <g id=\"xtick_1\">\r\n     <g id=\"line2d_1\">\r\n      <defs>\r\n       <path d=\"M 0 0 \r\nL 0 3.5 \r\n\" id=\"m328ae44e98\" style=\"stroke:#000000;stroke-width:0.8;\"/>\r\n      </defs>\r\n      <g>\r\n       <use style=\"stroke:#000000;stroke-width:0.8;\" x=\"67.030824\" xlink:href=\"#m328ae44e98\" y=\"387.72\"/>\r\n      </g>\r\n     </g>\r\n     <g id=\"text_1\">\r\n      <!-- −100 -->\r\n      <g transform=\"translate(53.29723 402.318437)scale(0.1 -0.1)\">\r\n       <defs>\r\n        <path d=\"M 678 2272 \r\nL 4684 2272 \r\nL 4684 1741 \r\nL 678 1741 \r\nL 678 2272 \r\nz\r\n\" id=\"DejaVuSans-2212\" transform=\"scale(0.015625)\"/>\r\n        <path d=\"M 794 531 \r\nL 1825 531 \r\nL 1825 4091 \r\nL 703 3866 \r\nL 703 4441 \r\nL 1819 4666 \r\nL 2450 4666 \r\nL 2450 531 \r\nL 3481 531 \r\nL 3481 0 \r\nL 794 0 \r\nL 794 531 \r\nz\r\n\" id=\"DejaVuSans-31\" transform=\"scale(0.015625)\"/>\r\n        <path d=\"M 2034 4250 \r\nQ 1547 4250 1301 3770 \r\nQ 1056 3291 1056 2328 \r\nQ 1056 1369 1301 889 \r\nQ 1547 409 2034 409 \r\nQ 2525 409 2770 889 \r\nQ 3016 1369 3016 2328 \r\nQ 3016 3291 2770 3770 \r\nQ 2525 4250 2034 4250 \r\nz\r\nM 2034 4750 \r\nQ 2819 4750 3233 4129 \r\nQ 3647 3509 3647 2328 \r\nQ 3647 1150 3233 529 \r\nQ 2819 -91 2034 -91 \r\nQ 1250 -91 836 529 \r\nQ 422 1150 422 2328 \r\nQ 422 3509 836 4129 \r\nQ 1250 4750 2034 4750 \r\nz\r\n\" id=\"DejaVuSans-30\" transform=\"scale(0.015625)\"/>\r\n       </defs>\r\n       <use xlink:href=\"#DejaVuSans-2212\"/>\r\n       <use x=\"83.789062\" xlink:href=\"#DejaVuSans-31\"/>\r\n       <use x=\"147.412109\" xlink:href=\"#DejaVuSans-30\"/>\r\n       <use x=\"211.035156\" xlink:href=\"#DejaVuSans-30\"/>\r\n      </g>\r\n     </g>\r\n    </g>\r\n    <g id=\"xtick_2\">\r\n     <g id=\"line2d_2\">\r\n      <g>\r\n       <use style=\"stroke:#000000;stroke-width:0.8;\" x=\"131.733978\" xlink:href=\"#m328ae44e98\" y=\"387.72\"/>\r\n      </g>\r\n     </g>\r\n     <g id=\"text_2\">\r\n      <!-- −75 -->\r\n      <g transform=\"translate(121.181634 402.318437)scale(0.1 -0.1)\">\r\n       <defs>\r\n        <path d=\"M 525 4666 \r\nL 3525 4666 \r\nL 3525 4397 \r\nL 1831 0 \r\nL 1172 0 \r\nL 2766 4134 \r\nL 525 4134 \r\nL 525 4666 \r\nz\r\n\" id=\"DejaVuSans-37\" transform=\"scale(0.015625)\"/>\r\n        <path d=\"M 691 4666 \r\nL 3169 4666 \r\nL 3169 4134 \r\nL 1269 4134 \r\nL 1269 2991 \r\nQ 1406 3038 1543 3061 \r\nQ 1681 3084 1819 3084 \r\nQ 2600 3084 3056 2656 \r\nQ 3513 2228 3513 1497 \r\nQ 3513 744 3044 326 \r\nQ 2575 -91 1722 -91 \r\nQ 1428 -91 1123 -41 \r\nQ 819 9 494 109 \r\nL 494 744 \r\nQ 775 591 1075 516 \r\nQ 1375 441 1709 441 \r\nQ 2250 441 2565 725 \r\nQ 2881 1009 2881 1497 \r\nQ 2881 1984 2565 2268 \r\nQ 2250 2553 1709 2553 \r\nQ 1456 2553 1204 2497 \r\nQ 953 2441 691 2322 \r\nL 691 4666 \r\nz\r\n\" id=\"DejaVuSans-35\" transform=\"scale(0.015625)\"/>\r\n       </defs>\r\n       <use xlink:href=\"#DejaVuSans-2212\"/>\r\n       <use x=\"83.789062\" xlink:href=\"#DejaVuSans-37\"/>\r\n       <use x=\"147.412109\" xlink:href=\"#DejaVuSans-35\"/>\r\n      </g>\r\n     </g>\r\n    </g>\r\n    <g id=\"xtick_3\">\r\n     <g id=\"line2d_3\">\r\n      <g>\r\n       <use style=\"stroke:#000000;stroke-width:0.8;\" x=\"196.437132\" xlink:href=\"#m328ae44e98\" y=\"387.72\"/>\r\n      </g>\r\n     </g>\r\n     <g id=\"text_3\">\r\n      <!-- −50 -->\r\n      <g transform=\"translate(185.884788 402.318437)scale(0.1 -0.1)\">\r\n       <use xlink:href=\"#DejaVuSans-2212\"/>\r\n       <use x=\"83.789062\" xlink:href=\"#DejaVuSans-35\"/>\r\n       <use x=\"147.412109\" xlink:href=\"#DejaVuSans-30\"/>\r\n      </g>\r\n     </g>\r\n    </g>\r\n    <g id=\"xtick_4\">\r\n     <g id=\"line2d_4\">\r\n      <g>\r\n       <use style=\"stroke:#000000;stroke-width:0.8;\" x=\"261.140286\" xlink:href=\"#m328ae44e98\" y=\"387.72\"/>\r\n      </g>\r\n     </g>\r\n     <g id=\"text_4\">\r\n      <!-- −25 -->\r\n      <g transform=\"translate(250.587942 402.318437)scale(0.1 -0.1)\">\r\n       <defs>\r\n        <path d=\"M 1228 531 \r\nL 3431 531 \r\nL 3431 0 \r\nL 469 0 \r\nL 469 531 \r\nQ 828 903 1448 1529 \r\nQ 2069 2156 2228 2338 \r\nQ 2531 2678 2651 2914 \r\nQ 2772 3150 2772 3378 \r\nQ 2772 3750 2511 3984 \r\nQ 2250 4219 1831 4219 \r\nQ 1534 4219 1204 4116 \r\nQ 875 4013 500 3803 \r\nL 500 4441 \r\nQ 881 4594 1212 4672 \r\nQ 1544 4750 1819 4750 \r\nQ 2544 4750 2975 4387 \r\nQ 3406 4025 3406 3419 \r\nQ 3406 3131 3298 2873 \r\nQ 3191 2616 2906 2266 \r\nQ 2828 2175 2409 1742 \r\nQ 1991 1309 1228 531 \r\nz\r\n\" id=\"DejaVuSans-32\" transform=\"scale(0.015625)\"/>\r\n       </defs>\r\n       <use xlink:href=\"#DejaVuSans-2212\"/>\r\n       <use x=\"83.789062\" xlink:href=\"#DejaVuSans-32\"/>\r\n       <use x=\"147.412109\" xlink:href=\"#DejaVuSans-35\"/>\r\n      </g>\r\n     </g>\r\n    </g>\r\n    <g id=\"xtick_5\">\r\n     <g id=\"line2d_5\">\r\n      <g>\r\n       <use style=\"stroke:#000000;stroke-width:0.8;\" x=\"325.84344\" xlink:href=\"#m328ae44e98\" y=\"387.72\"/>\r\n      </g>\r\n     </g>\r\n     <g id=\"text_5\">\r\n      <!-- 0 -->\r\n      <g transform=\"translate(322.66219 402.318437)scale(0.1 -0.1)\">\r\n       <use xlink:href=\"#DejaVuSans-30\"/>\r\n      </g>\r\n     </g>\r\n    </g>\r\n    <g id=\"xtick_6\">\r\n     <g id=\"line2d_6\">\r\n      <g>\r\n       <use style=\"stroke:#000000;stroke-width:0.8;\" x=\"390.546594\" xlink:href=\"#m328ae44e98\" y=\"387.72\"/>\r\n      </g>\r\n     </g>\r\n     <g id=\"text_6\">\r\n      <!-- 25 -->\r\n      <g transform=\"translate(384.184094 402.318437)scale(0.1 -0.1)\">\r\n       <use xlink:href=\"#DejaVuSans-32\"/>\r\n       <use x=\"63.623047\" xlink:href=\"#DejaVuSans-35\"/>\r\n      </g>\r\n     </g>\r\n    </g>\r\n    <g id=\"xtick_7\">\r\n     <g id=\"line2d_7\">\r\n      <g>\r\n       <use style=\"stroke:#000000;stroke-width:0.8;\" x=\"455.249748\" xlink:href=\"#m328ae44e98\" y=\"387.72\"/>\r\n      </g>\r\n     </g>\r\n     <g id=\"text_7\">\r\n      <!-- 50 -->\r\n      <g transform=\"translate(448.887248 402.318437)scale(0.1 -0.1)\">\r\n       <use xlink:href=\"#DejaVuSans-35\"/>\r\n       <use x=\"63.623047\" xlink:href=\"#DejaVuSans-30\"/>\r\n      </g>\r\n     </g>\r\n    </g>\r\n    <g id=\"xtick_8\">\r\n     <g id=\"line2d_8\">\r\n      <g>\r\n       <use style=\"stroke:#000000;stroke-width:0.8;\" x=\"519.952902\" xlink:href=\"#m328ae44e98\" y=\"387.72\"/>\r\n      </g>\r\n     </g>\r\n     <g id=\"text_8\">\r\n      <!-- 75 -->\r\n      <g transform=\"translate(513.590402 402.318437)scale(0.1 -0.1)\">\r\n       <use xlink:href=\"#DejaVuSans-37\"/>\r\n       <use x=\"63.623047\" xlink:href=\"#DejaVuSans-35\"/>\r\n      </g>\r\n     </g>\r\n    </g>\r\n    <g id=\"xtick_9\">\r\n     <g id=\"line2d_9\">\r\n      <g>\r\n       <use style=\"stroke:#000000;stroke-width:0.8;\" x=\"584.656056\" xlink:href=\"#m328ae44e98\" y=\"387.72\"/>\r\n      </g>\r\n     </g>\r\n     <g id=\"text_9\">\r\n      <!-- 100 -->\r\n      <g transform=\"translate(575.112306 402.318437)scale(0.1 -0.1)\">\r\n       <use xlink:href=\"#DejaVuSans-31\"/>\r\n       <use x=\"63.623047\" xlink:href=\"#DejaVuSans-30\"/>\r\n       <use x=\"127.246094\" xlink:href=\"#DejaVuSans-30\"/>\r\n      </g>\r\n     </g>\r\n    </g>\r\n   </g>\r\n   <g id=\"matplotlib.axis_2\">\r\n    <g id=\"ytick_1\">\r\n     <g id=\"line2d_10\">\r\n      <defs>\r\n       <path d=\"M 0 0 \r\nL -3.5 0 \r\n\" id=\"m7e4f25d0ff\" style=\"stroke:#000000;stroke-width:0.8;\"/>\r\n      </defs>\r\n      <g>\r\n       <use style=\"stroke:#000000;stroke-width:0.8;\" x=\"41.667188\" xlink:href=\"#m7e4f25d0ff\" y=\"386.640673\"/>\r\n      </g>\r\n     </g>\r\n     <g id=\"text_10\">\r\n      <!-- −100 -->\r\n      <g transform=\"translate(7.2 390.439892)scale(0.1 -0.1)\">\r\n       <use xlink:href=\"#DejaVuSans-2212\"/>\r\n       <use x=\"83.789062\" xlink:href=\"#DejaVuSans-31\"/>\r\n       <use x=\"147.412109\" xlink:href=\"#DejaVuSans-30\"/>\r\n       <use x=\"211.035156\" xlink:href=\"#DejaVuSans-30\"/>\r\n      </g>\r\n     </g>\r\n    </g>\r\n    <g id=\"ytick_2\">\r\n     <g id=\"line2d_11\">\r\n      <g>\r\n       <use style=\"stroke:#000000;stroke-width:0.8;\" x=\"41.667188\" xlink:href=\"#m7e4f25d0ff\" y=\"305.55549\"/>\r\n      </g>\r\n     </g>\r\n     <g id=\"text_11\">\r\n      <!-- −50 -->\r\n      <g transform=\"translate(13.5625 309.354709)scale(0.1 -0.1)\">\r\n       <use xlink:href=\"#DejaVuSans-2212\"/>\r\n       <use x=\"83.789062\" xlink:href=\"#DejaVuSans-35\"/>\r\n       <use x=\"147.412109\" xlink:href=\"#DejaVuSans-30\"/>\r\n      </g>\r\n     </g>\r\n    </g>\r\n    <g id=\"ytick_3\">\r\n     <g id=\"line2d_12\">\r\n      <g>\r\n       <use style=\"stroke:#000000;stroke-width:0.8;\" x=\"41.667188\" xlink:href=\"#m7e4f25d0ff\" y=\"224.470308\"/>\r\n      </g>\r\n     </g>\r\n     <g id=\"text_12\">\r\n      <!-- 0 -->\r\n      <g transform=\"translate(28.304688 228.269526)scale(0.1 -0.1)\">\r\n       <use xlink:href=\"#DejaVuSans-30\"/>\r\n      </g>\r\n     </g>\r\n    </g>\r\n    <g id=\"ytick_4\">\r\n     <g id=\"line2d_13\">\r\n      <g>\r\n       <use style=\"stroke:#000000;stroke-width:0.8;\" x=\"41.667188\" xlink:href=\"#m7e4f25d0ff\" y=\"143.385125\"/>\r\n      </g>\r\n     </g>\r\n     <g id=\"text_13\">\r\n      <!-- 50 -->\r\n      <g transform=\"translate(21.942188 147.184344)scale(0.1 -0.1)\">\r\n       <use xlink:href=\"#DejaVuSans-35\"/>\r\n       <use x=\"63.623047\" xlink:href=\"#DejaVuSans-30\"/>\r\n      </g>\r\n     </g>\r\n    </g>\r\n    <g id=\"ytick_5\">\r\n     <g id=\"line2d_14\">\r\n      <g>\r\n       <use style=\"stroke:#000000;stroke-width:0.8;\" x=\"41.667188\" xlink:href=\"#m7e4f25d0ff\" y=\"62.299942\"/>\r\n      </g>\r\n     </g>\r\n     <g id=\"text_14\">\r\n      <!-- 100 -->\r\n      <g transform=\"translate(15.579688 66.099161)scale(0.1 -0.1)\">\r\n       <use xlink:href=\"#DejaVuSans-31\"/>\r\n       <use x=\"63.623047\" xlink:href=\"#DejaVuSans-30\"/>\r\n       <use x=\"127.246094\" xlink:href=\"#DejaVuSans-30\"/>\r\n      </g>\r\n     </g>\r\n    </g>\r\n   </g>\r\n   <g id=\"patch_3\">\r\n    <path d=\"M 41.667188 387.72 \r\nL 41.667188 7.2 \r\n\" style=\"fill:none;stroke:#000000;stroke-linecap:square;stroke-linejoin:miter;stroke-width:0.8;\"/>\r\n   </g>\r\n   <g id=\"patch_4\">\r\n    <path d=\"M 599.667187 387.72 \r\nL 599.667187 7.2 \r\n\" style=\"fill:none;stroke:#000000;stroke-linecap:square;stroke-linejoin:miter;stroke-width:0.8;\"/>\r\n   </g>\r\n   <g id=\"patch_5\">\r\n    <path d=\"M 41.667188 387.72 \r\nL 599.667188 387.72 \r\n\" style=\"fill:none;stroke:#000000;stroke-linecap:square;stroke-linejoin:miter;stroke-width:0.8;\"/>\r\n   </g>\r\n   <g id=\"patch_6\">\r\n    <path d=\"M 41.667188 7.2 \r\nL 599.667188 7.2 \r\n\" style=\"fill:none;stroke:#000000;stroke-linecap:square;stroke-linejoin:miter;stroke-width:0.8;\"/>\r\n   </g>\r\n   <g id=\"legend_1\">\r\n    <g id=\"patch_7\">\r\n     <path d=\"M 48.667188 59.234375 \r\nL 147.173438 59.234375 \r\nQ 149.173438 59.234375 149.173438 57.234375 \r\nL 149.173438 14.2 \r\nQ 149.173438 12.2 147.173438 12.2 \r\nL 48.667188 12.2 \r\nQ 46.667188 12.2 46.667188 14.2 \r\nL 46.667188 57.234375 \r\nQ 46.667188 59.234375 48.667188 59.234375 \r\nz\r\n\" style=\"fill:#ffffff;opacity:0.8;stroke:#cccccc;stroke-linejoin:miter;\"/>\r\n    </g>\r\n    <g id=\"PathCollection_4\">\r\n     <g>\r\n      <use style=\"fill:#1f77b4;stroke:#1f77b4;\" x=\"60.667188\" xlink:href=\"#m7aec84311d\" y=\"21.173437\"/>\r\n     </g>\r\n    </g>\r\n    <g id=\"text_15\">\r\n     <!-- Training Data -->\r\n     <g transform=\"translate(78.667188 23.798437)scale(0.1 -0.1)\">\r\n      <defs>\r\n       <path d=\"M -19 4666 \r\nL 3928 4666 \r\nL 3928 4134 \r\nL 2272 4134 \r\nL 2272 0 \r\nL 1638 0 \r\nL 1638 4134 \r\nL -19 4134 \r\nL -19 4666 \r\nz\r\n\" id=\"DejaVuSans-54\" transform=\"scale(0.015625)\"/>\r\n       <path d=\"M 2631 2963 \r\nQ 2534 3019 2420 3045 \r\nQ 2306 3072 2169 3072 \r\nQ 1681 3072 1420 2755 \r\nQ 1159 2438 1159 1844 \r\nL 1159 0 \r\nL 581 0 \r\nL 581 3500 \r\nL 1159 3500 \r\nL 1159 2956 \r\nQ 1341 3275 1631 3429 \r\nQ 1922 3584 2338 3584 \r\nQ 2397 3584 2469 3576 \r\nQ 2541 3569 2628 3553 \r\nL 2631 2963 \r\nz\r\n\" id=\"DejaVuSans-72\" transform=\"scale(0.015625)\"/>\r\n       <path d=\"M 2194 1759 \r\nQ 1497 1759 1228 1600 \r\nQ 959 1441 959 1056 \r\nQ 959 750 1161 570 \r\nQ 1363 391 1709 391 \r\nQ 2188 391 2477 730 \r\nQ 2766 1069 2766 1631 \r\nL 2766 1759 \r\nL 2194 1759 \r\nz\r\nM 3341 1997 \r\nL 3341 0 \r\nL 2766 0 \r\nL 2766 531 \r\nQ 2569 213 2275 61 \r\nQ 1981 -91 1556 -91 \r\nQ 1019 -91 701 211 \r\nQ 384 513 384 1019 \r\nQ 384 1609 779 1909 \r\nQ 1175 2209 1959 2209 \r\nL 2766 2209 \r\nL 2766 2266 \r\nQ 2766 2663 2505 2880 \r\nQ 2244 3097 1772 3097 \r\nQ 1472 3097 1187 3025 \r\nQ 903 2953 641 2809 \r\nL 641 3341 \r\nQ 956 3463 1253 3523 \r\nQ 1550 3584 1831 3584 \r\nQ 2591 3584 2966 3190 \r\nQ 3341 2797 3341 1997 \r\nz\r\n\" id=\"DejaVuSans-61\" transform=\"scale(0.015625)\"/>\r\n       <path d=\"M 603 3500 \r\nL 1178 3500 \r\nL 1178 0 \r\nL 603 0 \r\nL 603 3500 \r\nz\r\nM 603 4863 \r\nL 1178 4863 \r\nL 1178 4134 \r\nL 603 4134 \r\nL 603 4863 \r\nz\r\n\" id=\"DejaVuSans-69\" transform=\"scale(0.015625)\"/>\r\n       <path d=\"M 3513 2113 \r\nL 3513 0 \r\nL 2938 0 \r\nL 2938 2094 \r\nQ 2938 2591 2744 2837 \r\nQ 2550 3084 2163 3084 \r\nQ 1697 3084 1428 2787 \r\nQ 1159 2491 1159 1978 \r\nL 1159 0 \r\nL 581 0 \r\nL 581 3500 \r\nL 1159 3500 \r\nL 1159 2956 \r\nQ 1366 3272 1645 3428 \r\nQ 1925 3584 2291 3584 \r\nQ 2894 3584 3203 3211 \r\nQ 3513 2838 3513 2113 \r\nz\r\n\" id=\"DejaVuSans-6e\" transform=\"scale(0.015625)\"/>\r\n       <path d=\"M 2906 1791 \r\nQ 2906 2416 2648 2759 \r\nQ 2391 3103 1925 3103 \r\nQ 1463 3103 1205 2759 \r\nQ 947 2416 947 1791 \r\nQ 947 1169 1205 825 \r\nQ 1463 481 1925 481 \r\nQ 2391 481 2648 825 \r\nQ 2906 1169 2906 1791 \r\nz\r\nM 3481 434 \r\nQ 3481 -459 3084 -895 \r\nQ 2688 -1331 1869 -1331 \r\nQ 1566 -1331 1297 -1286 \r\nQ 1028 -1241 775 -1147 \r\nL 775 -588 \r\nQ 1028 -725 1275 -790 \r\nQ 1522 -856 1778 -856 \r\nQ 2344 -856 2625 -561 \r\nQ 2906 -266 2906 331 \r\nL 2906 616 \r\nQ 2728 306 2450 153 \r\nQ 2172 0 1784 0 \r\nQ 1141 0 747 490 \r\nQ 353 981 353 1791 \r\nQ 353 2603 747 3093 \r\nQ 1141 3584 1784 3584 \r\nQ 2172 3584 2450 3431 \r\nQ 2728 3278 2906 2969 \r\nL 2906 3500 \r\nL 3481 3500 \r\nL 3481 434 \r\nz\r\n\" id=\"DejaVuSans-67\" transform=\"scale(0.015625)\"/>\r\n       <path id=\"DejaVuSans-20\" transform=\"scale(0.015625)\"/>\r\n       <path d=\"M 1259 4147 \r\nL 1259 519 \r\nL 2022 519 \r\nQ 2988 519 3436 956 \r\nQ 3884 1394 3884 2338 \r\nQ 3884 3275 3436 3711 \r\nQ 2988 4147 2022 4147 \r\nL 1259 4147 \r\nz\r\nM 628 4666 \r\nL 1925 4666 \r\nQ 3281 4666 3915 4102 \r\nQ 4550 3538 4550 2338 \r\nQ 4550 1131 3912 565 \r\nQ 3275 0 1925 0 \r\nL 628 0 \r\nL 628 4666 \r\nz\r\n\" id=\"DejaVuSans-44\" transform=\"scale(0.015625)\"/>\r\n       <path d=\"M 1172 4494 \r\nL 1172 3500 \r\nL 2356 3500 \r\nL 2356 3053 \r\nL 1172 3053 \r\nL 1172 1153 \r\nQ 1172 725 1289 603 \r\nQ 1406 481 1766 481 \r\nL 2356 481 \r\nL 2356 0 \r\nL 1766 0 \r\nQ 1100 0 847 248 \r\nQ 594 497 594 1153 \r\nL 594 3053 \r\nL 172 3053 \r\nL 172 3500 \r\nL 594 3500 \r\nL 594 4494 \r\nL 1172 4494 \r\nz\r\n\" id=\"DejaVuSans-74\" transform=\"scale(0.015625)\"/>\r\n      </defs>\r\n      <use xlink:href=\"#DejaVuSans-54\"/>\r\n      <use x=\"46.333984\" xlink:href=\"#DejaVuSans-72\"/>\r\n      <use x=\"87.447266\" xlink:href=\"#DejaVuSans-61\"/>\r\n      <use x=\"148.726562\" xlink:href=\"#DejaVuSans-69\"/>\r\n      <use x=\"176.509766\" xlink:href=\"#DejaVuSans-6e\"/>\r\n      <use x=\"239.888672\" xlink:href=\"#DejaVuSans-69\"/>\r\n      <use x=\"267.671875\" xlink:href=\"#DejaVuSans-6e\"/>\r\n      <use x=\"331.050781\" xlink:href=\"#DejaVuSans-67\"/>\r\n      <use x=\"394.527344\" xlink:href=\"#DejaVuSans-20\"/>\r\n      <use x=\"426.314453\" xlink:href=\"#DejaVuSans-44\"/>\r\n      <use x=\"503.316406\" xlink:href=\"#DejaVuSans-61\"/>\r\n      <use x=\"564.595703\" xlink:href=\"#DejaVuSans-74\"/>\r\n      <use x=\"603.804688\" xlink:href=\"#DejaVuSans-61\"/>\r\n     </g>\r\n    </g>\r\n    <g id=\"PathCollection_5\">\r\n     <g>\r\n      <use style=\"fill:#ff7f0e;stroke:#ff7f0e;\" x=\"60.667188\" xlink:href=\"#m6004f0348e\" y=\"35.851562\"/>\r\n     </g>\r\n    </g>\r\n    <g id=\"text_16\">\r\n     <!-- Testing Data -->\r\n     <g transform=\"translate(78.667188 38.476562)scale(0.1 -0.1)\">\r\n      <defs>\r\n       <path d=\"M 3597 1894 \r\nL 3597 1613 \r\nL 953 1613 \r\nQ 991 1019 1311 708 \r\nQ 1631 397 2203 397 \r\nQ 2534 397 2845 478 \r\nQ 3156 559 3463 722 \r\nL 3463 178 \r\nQ 3153 47 2828 -22 \r\nQ 2503 -91 2169 -91 \r\nQ 1331 -91 842 396 \r\nQ 353 884 353 1716 \r\nQ 353 2575 817 3079 \r\nQ 1281 3584 2069 3584 \r\nQ 2775 3584 3186 3129 \r\nQ 3597 2675 3597 1894 \r\nz\r\nM 3022 2063 \r\nQ 3016 2534 2758 2815 \r\nQ 2500 3097 2075 3097 \r\nQ 1594 3097 1305 2825 \r\nQ 1016 2553 972 2059 \r\nL 3022 2063 \r\nz\r\n\" id=\"DejaVuSans-65\" transform=\"scale(0.015625)\"/>\r\n       <path d=\"M 2834 3397 \r\nL 2834 2853 \r\nQ 2591 2978 2328 3040 \r\nQ 2066 3103 1784 3103 \r\nQ 1356 3103 1142 2972 \r\nQ 928 2841 928 2578 \r\nQ 928 2378 1081 2264 \r\nQ 1234 2150 1697 2047 \r\nL 1894 2003 \r\nQ 2506 1872 2764 1633 \r\nQ 3022 1394 3022 966 \r\nQ 3022 478 2636 193 \r\nQ 2250 -91 1575 -91 \r\nQ 1294 -91 989 -36 \r\nQ 684 19 347 128 \r\nL 347 722 \r\nQ 666 556 975 473 \r\nQ 1284 391 1588 391 \r\nQ 1994 391 2212 530 \r\nQ 2431 669 2431 922 \r\nQ 2431 1156 2273 1281 \r\nQ 2116 1406 1581 1522 \r\nL 1381 1569 \r\nQ 847 1681 609 1914 \r\nQ 372 2147 372 2553 \r\nQ 372 3047 722 3315 \r\nQ 1072 3584 1716 3584 \r\nQ 2034 3584 2315 3537 \r\nQ 2597 3491 2834 3397 \r\nz\r\n\" id=\"DejaVuSans-73\" transform=\"scale(0.015625)\"/>\r\n      </defs>\r\n      <use xlink:href=\"#DejaVuSans-54\"/>\r\n      <use x=\"44.083984\" xlink:href=\"#DejaVuSans-65\"/>\r\n      <use x=\"105.607422\" xlink:href=\"#DejaVuSans-73\"/>\r\n      <use x=\"157.707031\" xlink:href=\"#DejaVuSans-74\"/>\r\n      <use x=\"196.916016\" xlink:href=\"#DejaVuSans-69\"/>\r\n      <use x=\"224.699219\" xlink:href=\"#DejaVuSans-6e\"/>\r\n      <use x=\"288.078125\" xlink:href=\"#DejaVuSans-67\"/>\r\n      <use x=\"351.554688\" xlink:href=\"#DejaVuSans-20\"/>\r\n      <use x=\"383.341797\" xlink:href=\"#DejaVuSans-44\"/>\r\n      <use x=\"460.34375\" xlink:href=\"#DejaVuSans-61\"/>\r\n      <use x=\"521.623047\" xlink:href=\"#DejaVuSans-74\"/>\r\n      <use x=\"560.832031\" xlink:href=\"#DejaVuSans-61\"/>\r\n     </g>\r\n    </g>\r\n    <g id=\"PathCollection_6\">\r\n     <g>\r\n      <use style=\"fill:#2ca02c;stroke:#2ca02c;\" x=\"60.667188\" xlink:href=\"#m1421df9890\" y=\"50.529687\"/>\r\n     </g>\r\n    </g>\r\n    <g id=\"text_17\">\r\n     <!-- Predictions -->\r\n     <g transform=\"translate(78.667188 53.154687)scale(0.1 -0.1)\">\r\n      <defs>\r\n       <path d=\"M 1259 4147 \r\nL 1259 2394 \r\nL 2053 2394 \r\nQ 2494 2394 2734 2622 \r\nQ 2975 2850 2975 3272 \r\nQ 2975 3691 2734 3919 \r\nQ 2494 4147 2053 4147 \r\nL 1259 4147 \r\nz\r\nM 628 4666 \r\nL 2053 4666 \r\nQ 2838 4666 3239 4311 \r\nQ 3641 3956 3641 3272 \r\nQ 3641 2581 3239 2228 \r\nQ 2838 1875 2053 1875 \r\nL 1259 1875 \r\nL 1259 0 \r\nL 628 0 \r\nL 628 4666 \r\nz\r\n\" id=\"DejaVuSans-50\" transform=\"scale(0.015625)\"/>\r\n       <path d=\"M 2906 2969 \r\nL 2906 4863 \r\nL 3481 4863 \r\nL 3481 0 \r\nL 2906 0 \r\nL 2906 525 \r\nQ 2725 213 2448 61 \r\nQ 2172 -91 1784 -91 \r\nQ 1150 -91 751 415 \r\nQ 353 922 353 1747 \r\nQ 353 2572 751 3078 \r\nQ 1150 3584 1784 3584 \r\nQ 2172 3584 2448 3432 \r\nQ 2725 3281 2906 2969 \r\nz\r\nM 947 1747 \r\nQ 947 1113 1208 752 \r\nQ 1469 391 1925 391 \r\nQ 2381 391 2643 752 \r\nQ 2906 1113 2906 1747 \r\nQ 2906 2381 2643 2742 \r\nQ 2381 3103 1925 3103 \r\nQ 1469 3103 1208 2742 \r\nQ 947 2381 947 1747 \r\nz\r\n\" id=\"DejaVuSans-64\" transform=\"scale(0.015625)\"/>\r\n       <path d=\"M 3122 3366 \r\nL 3122 2828 \r\nQ 2878 2963 2633 3030 \r\nQ 2388 3097 2138 3097 \r\nQ 1578 3097 1268 2742 \r\nQ 959 2388 959 1747 \r\nQ 959 1106 1268 751 \r\nQ 1578 397 2138 397 \r\nQ 2388 397 2633 464 \r\nQ 2878 531 3122 666 \r\nL 3122 134 \r\nQ 2881 22 2623 -34 \r\nQ 2366 -91 2075 -91 \r\nQ 1284 -91 818 406 \r\nQ 353 903 353 1747 \r\nQ 353 2603 823 3093 \r\nQ 1294 3584 2113 3584 \r\nQ 2378 3584 2631 3529 \r\nQ 2884 3475 3122 3366 \r\nz\r\n\" id=\"DejaVuSans-63\" transform=\"scale(0.015625)\"/>\r\n       <path d=\"M 1959 3097 \r\nQ 1497 3097 1228 2736 \r\nQ 959 2375 959 1747 \r\nQ 959 1119 1226 758 \r\nQ 1494 397 1959 397 \r\nQ 2419 397 2687 759 \r\nQ 2956 1122 2956 1747 \r\nQ 2956 2369 2687 2733 \r\nQ 2419 3097 1959 3097 \r\nz\r\nM 1959 3584 \r\nQ 2709 3584 3137 3096 \r\nQ 3566 2609 3566 1747 \r\nQ 3566 888 3137 398 \r\nQ 2709 -91 1959 -91 \r\nQ 1206 -91 779 398 \r\nQ 353 888 353 1747 \r\nQ 353 2609 779 3096 \r\nQ 1206 3584 1959 3584 \r\nz\r\n\" id=\"DejaVuSans-6f\" transform=\"scale(0.015625)\"/>\r\n      </defs>\r\n      <use xlink:href=\"#DejaVuSans-50\"/>\r\n      <use x=\"58.552734\" xlink:href=\"#DejaVuSans-72\"/>\r\n      <use x=\"97.416016\" xlink:href=\"#DejaVuSans-65\"/>\r\n      <use x=\"158.939453\" xlink:href=\"#DejaVuSans-64\"/>\r\n      <use x=\"222.416016\" xlink:href=\"#DejaVuSans-69\"/>\r\n      <use x=\"250.199219\" xlink:href=\"#DejaVuSans-63\"/>\r\n      <use x=\"305.179688\" xlink:href=\"#DejaVuSans-74\"/>\r\n      <use x=\"344.388672\" xlink:href=\"#DejaVuSans-69\"/>\r\n      <use x=\"372.171875\" xlink:href=\"#DejaVuSans-6f\"/>\r\n      <use x=\"433.353516\" xlink:href=\"#DejaVuSans-6e\"/>\r\n      <use x=\"496.732422\" xlink:href=\"#DejaVuSans-73\"/>\r\n     </g>\r\n    </g>\r\n   </g>\r\n  </g>\r\n </g>\r\n <defs>\r\n  <clipPath id=\"p99c446b578\">\r\n   <rect height=\"380.52\" width=\"558\" x=\"41.667188\" y=\"7.2\"/>\r\n  </clipPath>\r\n </defs>\r\n</svg>\r\n",
      "image/png": "[encoded data removed]"
     },
     "metadata": {
      "needs_background": "light"
     }
    }
   ],
   "metadata": {}
  },
  {
   "cell_type": "markdown",
   "source": [
    "## Evaluating model predictions with regression evaluation metrics\r\n",
    "* MAE - Mean Absolute Error, on average, how wrong is each of the model's predictions\r\n",
    "* MSE - Mean Square Error, square the average errors"
   ],
   "metadata": {}
  },
  {
   "cell_type": "code",
   "execution_count": 285,
   "source": [
    "model.evaluate(X_test, y_test)"
   ],
   "outputs": [
    {
     "output_type": "stream",
     "name": "stdout",
     "text": [
      "1/1 [==============================] - 0s 101ms/step - loss: 3.1970 - mae: 3.1970\n"
     ]
    },
    {
     "output_type": "execute_result",
     "data": {
      "text/plain": [
       "[3.196955919265747, 3.196955919265747]"
      ]
     },
     "metadata": {},
     "execution_count": 285
    }
   ],
   "metadata": {}
  },
  {
   "cell_type": "code",
   "execution_count": 286,
   "source": [
    "tf.squeeze(y_pred)"
   ],
   "outputs": [
    {
     "output_type": "execute_result",
     "data": {
      "text/plain": [
       "<tf.Tensor: shape=(10,), dtype=float32, numpy=\n",
       "array([ 82.02151 ,  86.60922 ,  91.19695 ,  95.78468 , 100.372406,\n",
       "       104.96012 , 109.54786 , 114.13558 , 118.723305, 123.31103 ],\n",
       "      dtype=float32)>"
      ]
     },
     "metadata": {},
     "execution_count": 286
    }
   ],
   "metadata": {}
  },
  {
   "cell_type": "code",
   "execution_count": 287,
   "source": [
    "# Calculate the mean absolute error\r\n",
    "mae = tf.metrics.mean_absolute_error(y_test,tf.squeeze(y_pred))\r\n",
    "mae"
   ],
   "outputs": [
    {
     "output_type": "execute_result",
     "data": {
      "text/plain": [
       "<tf.Tensor: shape=(), dtype=float32, numpy=14.6662655>"
      ]
     },
     "metadata": {},
     "execution_count": 287
    }
   ],
   "metadata": {}
  },
  {
   "cell_type": "code",
   "execution_count": 288,
   "source": [
    "# Calculate the mean square error\r\n",
    "mse = tf.metrics.mean_squared_error(y_test, tf.squeeze(y_pred))\r\n",
    "mse"
   ],
   "outputs": [
    {
     "output_type": "execute_result",
     "data": {
      "text/plain": [
       "<tf.Tensor: shape=(), dtype=float32, numpy=217.9491>"
      ]
     },
     "metadata": {},
     "execution_count": 288
    }
   ],
   "metadata": {}
  },
  {
   "cell_type": "code",
   "execution_count": 289,
   "source": [
    "# Make function to reuse MAE and MSE\r\n",
    "def mae(y_true,y_pred):\r\n",
    "    return tf.metrics.mean_absolute_error(y_true, tf.squeeze(y_pred))\r\n",
    "\r\n",
    "def mse(y_true,y_pred):\r\n",
    "    return tf.metrics.mean_squared_error(y_true, tf.squeeze(y_pred))\r\n"
   ],
   "outputs": [],
   "metadata": {}
  },
  {
   "cell_type": "markdown",
   "source": [
    "## Running experiments to impove the model"
   ],
   "metadata": {}
  },
  {
   "cell_type": "code",
   "execution_count": 290,
   "source": [
    "tf.random.set_seed(42)\r\n",
    "\r\n",
    "model.add(tf.keras.layers.Dense(10))\r\n",
    "model.add(tf.keras.layers.Dense(1))\r\n",
    "\r\n",
    "\r\n",
    "model.compile(\r\n",
    "    loss=tf.keras.losses.mae, optimizer=tf.keras.optimizers.SGD(learning_rate=0.01), metrics=[\"mae\"]\r\n",
    ")\r\n",
    "\r\n",
    "model.fit(X_train, y_train, epochs=100)\r\n"
   ],
   "outputs": [
    {
     "output_type": "stream",
     "name": "stdout",
     "text": [
      "Epoch 1/100\n",
      "2/2 [==============================] - 0s 5ms/step - loss: 34.3231 - mae: 34.3231\n",
      "Epoch 2/100\n",
      "2/2 [==============================] - 0s 5ms/step - loss: 40.9378 - mae: 40.9378\n",
      "Epoch 3/100\n",
      "2/2 [==============================] - 0s 4ms/step - loss: 40.3816 - mae: 40.3816\n",
      "Epoch 4/100\n",
      "2/2 [==============================] - 0s 4ms/step - loss: 39.4056 - mae: 39.4056\n",
      "Epoch 5/100\n",
      "2/2 [==============================] - 0s 6ms/step - loss: 36.3837 - mae: 36.3837\n",
      "Epoch 6/100\n",
      "2/2 [==============================] - 0s 5ms/step - loss: 23.4526 - mae: 23.4526\n",
      "Epoch 7/100\n",
      "2/2 [==============================] - 0s 5ms/step - loss: 22.9751 - mae: 22.9751\n",
      "Epoch 8/100\n",
      "2/2 [==============================] - 0s 4ms/step - loss: 21.3616 - mae: 21.3616\n",
      "Epoch 9/100\n",
      "2/2 [==============================] - 0s 4ms/step - loss: 125.9845 - mae: 125.9845\n",
      "Epoch 10/100\n",
      "2/2 [==============================] - 0s 6ms/step - loss: 40.9056 - mae: 40.9056\n",
      "Epoch 11/100\n",
      "2/2 [==============================] - 0s 5ms/step - loss: 40.9056 - mae: 40.9056\n",
      "Epoch 12/100\n",
      "2/2 [==============================] - 0s 4ms/step - loss: 40.9039 - mae: 40.9039\n",
      "Epoch 13/100\n",
      "2/2 [==============================] - 0s 5ms/step - loss: 40.9034 - mae: 40.9034\n",
      "Epoch 14/100\n",
      "2/2 [==============================] - 0s 4ms/step - loss: 40.9026 - mae: 40.9026\n",
      "Epoch 15/100\n",
      "2/2 [==============================] - 0s 5ms/step - loss: 40.9020 - mae: 40.9020\n",
      "Epoch 16/100\n",
      "2/2 [==============================] - 0s 5ms/step - loss: 40.9018 - mae: 40.9018\n",
      "Epoch 17/100\n",
      "2/2 [==============================] - 0s 5ms/step - loss: 40.9012 - mae: 40.9012\n",
      "Epoch 18/100\n",
      "2/2 [==============================] - 0s 6ms/step - loss: 40.9011 - mae: 40.9011\n",
      "Epoch 19/100\n",
      "2/2 [==============================] - 0s 6ms/step - loss: 40.8994 - mae: 40.8994\n",
      "Epoch 20/100\n",
      "2/2 [==============================] - 0s 5ms/step - loss: 40.8983 - mae: 40.8983\n",
      "Epoch 21/100\n",
      "2/2 [==============================] - 0s 5ms/step - loss: 40.8978 - mae: 40.8978\n",
      "Epoch 22/100\n",
      "2/2 [==============================] - 0s 5ms/step - loss: 40.8973 - mae: 40.8973\n",
      "Epoch 23/100\n",
      "2/2 [==============================] - 0s 4ms/step - loss: 40.8970 - mae: 40.8970\n",
      "Epoch 24/100\n",
      "2/2 [==============================] - 0s 5ms/step - loss: 40.8959 - mae: 40.8959\n",
      "Epoch 25/100\n",
      "2/2 [==============================] - 0s 5ms/step - loss: 40.8955 - mae: 40.8955\n",
      "Epoch 26/100\n",
      "2/2 [==============================] - 0s 5ms/step - loss: 40.8944 - mae: 40.8944\n",
      "Epoch 27/100\n",
      "2/2 [==============================] - 0s 6ms/step - loss: 40.8940 - mae: 40.8940\n",
      "Epoch 28/100\n",
      "2/2 [==============================] - 0s 6ms/step - loss: 40.8928 - mae: 40.8928\n",
      "Epoch 29/100\n",
      "2/2 [==============================] - 0s 4ms/step - loss: 40.8918 - mae: 40.8918\n",
      "Epoch 30/100\n",
      "2/2 [==============================] - 0s 6ms/step - loss: 40.8903 - mae: 40.8903\n",
      "Epoch 31/100\n",
      "2/2 [==============================] - 0s 5ms/step - loss: 40.8886 - mae: 40.8886\n",
      "Epoch 32/100\n",
      "2/2 [==============================] - 0s 4ms/step - loss: 40.8876 - mae: 40.8876\n",
      "Epoch 33/100\n",
      "2/2 [==============================] - 0s 5ms/step - loss: 40.8861 - mae: 40.8861\n",
      "Epoch 34/100\n",
      "2/2 [==============================] - 0s 4ms/step - loss: 40.8856 - mae: 40.8856\n",
      "Epoch 35/100\n",
      "2/2 [==============================] - 0s 5ms/step - loss: 40.8850 - mae: 40.8850\n",
      "Epoch 36/100\n",
      "2/2 [==============================] - 0s 5ms/step - loss: 40.8835 - mae: 40.8835\n",
      "Epoch 37/100\n",
      "2/2 [==============================] - 0s 5ms/step - loss: 40.8831 - mae: 40.8831\n",
      "Epoch 38/100\n",
      "2/2 [==============================] - 0s 6ms/step - loss: 40.8827 - mae: 40.8827\n",
      "Epoch 39/100\n",
      "2/2 [==============================] - 0s 5ms/step - loss: 40.8815 - mae: 40.8815\n",
      "Epoch 40/100\n",
      "2/2 [==============================] - 0s 5ms/step - loss: 40.8809 - mae: 40.8809\n",
      "Epoch 41/100\n",
      "2/2 [==============================] - 0s 5ms/step - loss: 40.8807 - mae: 40.8807\n",
      "Epoch 42/100\n",
      "2/2 [==============================] - 0s 5ms/step - loss: 40.8808 - mae: 40.8808\n",
      "Epoch 43/100\n",
      "2/2 [==============================] - 0s 5ms/step - loss: 40.8805 - mae: 40.8805\n",
      "Epoch 44/100\n",
      "2/2 [==============================] - 0s 5ms/step - loss: 40.8794 - mae: 40.8794\n",
      "Epoch 45/100\n",
      "2/2 [==============================] - 0s 5ms/step - loss: 40.8782 - mae: 40.8782\n",
      "Epoch 46/100\n",
      "2/2 [==============================] - 0s 5ms/step - loss: 40.8776 - mae: 40.8776\n",
      "Epoch 47/100\n",
      "2/2 [==============================] - 0s 5ms/step - loss: 40.8772 - mae: 40.8772\n",
      "Epoch 48/100\n",
      "2/2 [==============================] - 0s 4ms/step - loss: 40.8768 - mae: 40.8768\n",
      "Epoch 49/100\n",
      "2/2 [==============================] - 0s 5ms/step - loss: 40.8764 - mae: 40.8764\n",
      "Epoch 50/100\n",
      "2/2 [==============================] - 0s 5ms/step - loss: 40.8753 - mae: 40.8753\n",
      "Epoch 51/100\n",
      "2/2 [==============================] - 0s 4ms/step - loss: 40.8749 - mae: 40.8749\n",
      "Epoch 52/100\n",
      "2/2 [==============================] - 0s 6ms/step - loss: 40.8742 - mae: 40.8742\n",
      "Epoch 53/100\n",
      "2/2 [==============================] - 0s 5ms/step - loss: 40.8726 - mae: 40.8726\n",
      "Epoch 54/100\n",
      "2/2 [==============================] - 0s 5ms/step - loss: 40.8710 - mae: 40.8710\n",
      "Epoch 55/100\n",
      "2/2 [==============================] - 0s 5ms/step - loss: 40.8698 - mae: 40.8698\n",
      "Epoch 56/100\n",
      "2/2 [==============================] - 0s 6ms/step - loss: 40.8696 - mae: 40.8696\n",
      "Epoch 57/100\n",
      "2/2 [==============================] - 0s 4ms/step - loss: 40.8696 - mae: 40.8696\n",
      "Epoch 58/100\n",
      "2/2 [==============================] - 0s 5ms/step - loss: 40.8694 - mae: 40.8694\n",
      "Epoch 59/100\n",
      "2/2 [==============================] - 0s 4ms/step - loss: 40.8686 - mae: 40.8686\n",
      "Epoch 60/100\n",
      "2/2 [==============================] - 0s 4ms/step - loss: 40.8678 - mae: 40.8678\n",
      "Epoch 61/100\n",
      "2/2 [==============================] - 0s 5ms/step - loss: 40.8670 - mae: 40.8670\n",
      "Epoch 62/100\n",
      "2/2 [==============================] - 0s 5ms/step - loss: 40.8665 - mae: 40.8665\n",
      "Epoch 63/100\n",
      "2/2 [==============================] - 0s 4ms/step - loss: 40.8657 - mae: 40.8657\n",
      "Epoch 64/100\n",
      "2/2 [==============================] - 0s 4ms/step - loss: 40.8650 - mae: 40.8650\n",
      "Epoch 65/100\n",
      "2/2 [==============================] - 0s 5ms/step - loss: 40.8645 - mae: 40.8645\n",
      "Epoch 66/100\n",
      "2/2 [==============================] - 0s 5ms/step - loss: 40.8636 - mae: 40.8636\n",
      "Epoch 67/100\n",
      "2/2 [==============================] - 0s 5ms/step - loss: 40.8628 - mae: 40.8628\n",
      "Epoch 68/100\n",
      "2/2 [==============================] - 0s 5ms/step - loss: 40.8619 - mae: 40.8619\n",
      "Epoch 69/100\n",
      "2/2 [==============================] - 0s 5ms/step - loss: 40.8612 - mae: 40.8612\n",
      "Epoch 70/100\n",
      "2/2 [==============================] - 0s 5ms/step - loss: 40.8607 - mae: 40.8607\n",
      "Epoch 71/100\n",
      "2/2 [==============================] - 0s 5ms/step - loss: 40.8603 - mae: 40.8603\n",
      "Epoch 72/100\n",
      "2/2 [==============================] - 0s 4ms/step - loss: 40.8598 - mae: 40.8598\n",
      "Epoch 73/100\n",
      "2/2 [==============================] - 0s 5ms/step - loss: 40.8594 - mae: 40.8594\n",
      "Epoch 74/100\n",
      "2/2 [==============================] - 0s 5ms/step - loss: 40.8588 - mae: 40.8588\n",
      "Epoch 75/100\n",
      "2/2 [==============================] - 0s 4ms/step - loss: 40.8579 - mae: 40.8579\n",
      "Epoch 76/100\n",
      "2/2 [==============================] - 0s 4ms/step - loss: 40.8573 - mae: 40.8573\n",
      "Epoch 77/100\n",
      "2/2 [==============================] - 0s 6ms/step - loss: 40.8570 - mae: 40.8570\n",
      "Epoch 78/100\n",
      "2/2 [==============================] - 0s 5ms/step - loss: 40.8558 - mae: 40.8558\n",
      "Epoch 79/100\n",
      "2/2 [==============================] - 0s 4ms/step - loss: 40.8538 - mae: 40.8538\n",
      "Epoch 80/100\n",
      "2/2 [==============================] - 0s 5ms/step - loss: 40.8525 - mae: 40.8525\n",
      "Epoch 81/100\n",
      "2/2 [==============================] - 0s 5ms/step - loss: 40.8521 - mae: 40.8521\n",
      "Epoch 82/100\n",
      "2/2 [==============================] - 0s 5ms/step - loss: 40.8520 - mae: 40.8520\n",
      "Epoch 83/100\n",
      "2/2 [==============================] - 0s 6ms/step - loss: 40.8514 - mae: 40.8514\n",
      "Epoch 84/100\n",
      "2/2 [==============================] - 0s 5ms/step - loss: 40.8506 - mae: 40.8506\n",
      "Epoch 85/100\n",
      "2/2 [==============================] - 0s 5ms/step - loss: 40.8499 - mae: 40.8499\n",
      "Epoch 86/100\n",
      "2/2 [==============================] - 0s 5ms/step - loss: 40.8491 - mae: 40.8491\n",
      "Epoch 87/100\n",
      "2/2 [==============================] - 0s 6ms/step - loss: 40.8485 - mae: 40.8485\n",
      "Epoch 88/100\n",
      "2/2 [==============================] - 0s 5ms/step - loss: 40.8480 - mae: 40.8480\n",
      "Epoch 89/100\n",
      "2/2 [==============================] - 0s 6ms/step - loss: 40.8474 - mae: 40.8474\n",
      "Epoch 90/100\n",
      "2/2 [==============================] - 0s 7ms/step - loss: 40.8464 - mae: 40.8464\n",
      "Epoch 91/100\n",
      "2/2 [==============================] - 0s 7ms/step - loss: 40.8459 - mae: 40.8459\n",
      "Epoch 92/100\n",
      "2/2 [==============================] - 0s 6ms/step - loss: 40.8453 - mae: 40.8453\n",
      "Epoch 93/100\n",
      "2/2 [==============================] - 0s 7ms/step - loss: 40.8446 - mae: 40.8446\n",
      "Epoch 94/100\n",
      "2/2 [==============================] - 0s 7ms/step - loss: 40.8431 - mae: 40.8431\n",
      "Epoch 95/100\n",
      "2/2 [==============================] - 0s 6ms/step - loss: 40.8420 - mae: 40.8420\n",
      "Epoch 96/100\n",
      "2/2 [==============================] - 0s 7ms/step - loss: 40.8412 - mae: 40.8412\n",
      "Epoch 97/100\n",
      "2/2 [==============================] - 0s 5ms/step - loss: 40.8406 - mae: 40.8406\n",
      "Epoch 98/100\n",
      "2/2 [==============================] - 0s 6ms/step - loss: 40.8396 - mae: 40.8396\n",
      "Epoch 99/100\n",
      "2/2 [==============================] - 0s 5ms/step - loss: 40.8388 - mae: 40.8388\n",
      "Epoch 100/100\n",
      "2/2 [==============================] - 0s 6ms/step - loss: 40.8376 - mae: 40.8376\n"
     ]
    },
    {
     "output_type": "execute_result",
     "data": {
      "text/plain": [
       "<tensorflow.python.keras.callbacks.History at 0x1856e662ac0>"
      ]
     },
     "metadata": {},
     "execution_count": 290
    }
   ],
   "metadata": {}
  },
  {
   "cell_type": "code",
   "execution_count": 291,
   "source": [
    "y_preds_1 = model.predict(X_test)\r\n",
    "plot_prediction(predictions=y_preds_1)"
   ],
   "outputs": [
    {
     "output_type": "display_data",
     "data": {
      "text/plain": [
       "<Figure size 720x504 with 1 Axes>"
      ],
      "image/svg+xml": "<?xml version=\"1.0\" encoding=\"utf-8\" standalone=\"no\"?>\r\n<!DOCTYPE svg PUBLIC \"-//W3C//DTD SVG 1.1//EN\"\r\n  \"http://www.w3.org/Graphics/SVG/1.1/DTD/svg11.dtd\">\r\n<svg height=\"411.598125pt\" version=\"1.1\" viewBox=\"0 0 600.504688 411.598125\" width=\"600.504688pt\" xmlns=\"http://www.w3.org/2000/svg\" xmlns:xlink=\"http://www.w3.org/1999/xlink\">\r\n <metadata>\r\n  <rdf:RDF xmlns:cc=\"http://creativecommons.org/ns#\" xmlns:dc=\"http://purl.org/dc/elements/1.1/\" xmlns:rdf=\"http://www.w3.org/1999/02/22-rdf-syntax-ns#\">\r\n   <cc:Work>\r\n    <dc:type rdf:resource=\"http://purl.org/dc/dcmitype/StillImage\"/>\r\n    <dc:date>2021-08-10T11:00:04.322955</dc:date>\r\n    <dc:format>image/svg+xml</dc:format>\r\n    <dc:creator>\r\n     <cc:Agent>\r\n      <dc:title>Matplotlib v3.4.2, https://matplotlib.org/</dc:title>\r\n     </cc:Agent>\r\n    </dc:creator>\r\n   </cc:Work>\r\n  </rdf:RDF>\r\n </metadata>\r\n <defs>\r\n  <style type=\"text/css\">*{stroke-linecap:butt;stroke-linejoin:round;}</style>\r\n </defs>\r\n <g id=\"figure_1\">\r\n  <g id=\"patch_1\">\r\n   <path d=\"M 0 411.598125 \r\nL 600.504688 411.598125 \r\nL 600.504688 0 \r\nL 0 0 \r\nz\r\n\" style=\"fill:none;\"/>\r\n  </g>\r\n  <g id=\"axes_1\">\r\n   <g id=\"patch_2\">\r\n    <path d=\"M 35.304688 387.72 \r\nL 593.304688 387.72 \r\nL 593.304688 7.2 \r\nL 35.304688 7.2 \r\nz\r\n\" style=\"fill:#ffffff;\"/>\r\n   </g>\r\n   <g id=\"PathCollection_1\">\r\n    <defs>\r\n     <path d=\"M 0 3 \r\nC 0.795609 3 1.55874 2.683901 2.12132 2.12132 \r\nC 2.683901 1.55874 3 0.795609 3 0 \r\nC 3 -0.795609 2.683901 -1.55874 2.12132 -2.12132 \r\nC 1.55874 -2.683901 0.795609 -3 0 -3 \r\nC -0.795609 -3 -1.55874 -2.683901 -2.12132 -2.12132 \r\nC -2.683901 -1.55874 -3 -0.795609 -3 0 \r\nC -3 0.795609 -2.683901 1.55874 -2.12132 2.12132 \r\nC -1.55874 2.683901 -0.795609 3 0 3 \r\nz\r\n\" id=\"mdb7f7099c4\" style=\"stroke:#1f77b4;\"/>\r\n    </defs>\r\n    <g clip-path=\"url(#pdf65d9008c)\">\r\n     <use style=\"fill:#1f77b4;stroke:#1f77b4;\" x=\"60.668324\" xlink:href=\"#mdb7f7099c4\" y=\"370.423636\"/>\r\n     <use style=\"fill:#1f77b4;stroke:#1f77b4;\" x=\"71.020829\" xlink:href=\"#mdb7f7099c4\" y=\"363.363896\"/>\r\n     <use style=\"fill:#1f77b4;stroke:#1f77b4;\" x=\"81.373333\" xlink:href=\"#mdb7f7099c4\" y=\"356.304156\"/>\r\n     <use style=\"fill:#1f77b4;stroke:#1f77b4;\" x=\"91.725838\" xlink:href=\"#mdb7f7099c4\" y=\"349.244416\"/>\r\n     <use style=\"fill:#1f77b4;stroke:#1f77b4;\" x=\"102.078342\" xlink:href=\"#mdb7f7099c4\" y=\"342.184675\"/>\r\n     <use style=\"fill:#1f77b4;stroke:#1f77b4;\" x=\"112.430847\" xlink:href=\"#mdb7f7099c4\" y=\"335.124935\"/>\r\n     <use style=\"fill:#1f77b4;stroke:#1f77b4;\" x=\"122.783352\" xlink:href=\"#mdb7f7099c4\" y=\"328.065195\"/>\r\n     <use style=\"fill:#1f77b4;stroke:#1f77b4;\" x=\"133.135856\" xlink:href=\"#mdb7f7099c4\" y=\"321.005455\"/>\r\n     <use style=\"fill:#1f77b4;stroke:#1f77b4;\" x=\"143.488361\" xlink:href=\"#mdb7f7099c4\" y=\"313.945714\"/>\r\n     <use style=\"fill:#1f77b4;stroke:#1f77b4;\" x=\"153.840866\" xlink:href=\"#mdb7f7099c4\" y=\"306.885974\"/>\r\n     <use style=\"fill:#1f77b4;stroke:#1f77b4;\" x=\"164.19337\" xlink:href=\"#mdb7f7099c4\" y=\"299.826234\"/>\r\n     <use style=\"fill:#1f77b4;stroke:#1f77b4;\" x=\"174.545875\" xlink:href=\"#mdb7f7099c4\" y=\"292.766494\"/>\r\n     <use style=\"fill:#1f77b4;stroke:#1f77b4;\" x=\"184.89838\" xlink:href=\"#mdb7f7099c4\" y=\"285.706753\"/>\r\n     <use style=\"fill:#1f77b4;stroke:#1f77b4;\" x=\"195.250884\" xlink:href=\"#mdb7f7099c4\" y=\"278.647013\"/>\r\n     <use style=\"fill:#1f77b4;stroke:#1f77b4;\" x=\"205.603389\" xlink:href=\"#mdb7f7099c4\" y=\"271.587273\"/>\r\n     <use style=\"fill:#1f77b4;stroke:#1f77b4;\" x=\"215.955893\" xlink:href=\"#mdb7f7099c4\" y=\"264.527532\"/>\r\n     <use style=\"fill:#1f77b4;stroke:#1f77b4;\" x=\"226.308398\" xlink:href=\"#mdb7f7099c4\" y=\"257.467792\"/>\r\n     <use style=\"fill:#1f77b4;stroke:#1f77b4;\" x=\"236.660903\" xlink:href=\"#mdb7f7099c4\" y=\"250.408052\"/>\r\n     <use style=\"fill:#1f77b4;stroke:#1f77b4;\" x=\"247.013407\" xlink:href=\"#mdb7f7099c4\" y=\"243.348312\"/>\r\n     <use style=\"fill:#1f77b4;stroke:#1f77b4;\" x=\"257.365912\" xlink:href=\"#mdb7f7099c4\" y=\"236.288571\"/>\r\n     <use style=\"fill:#1f77b4;stroke:#1f77b4;\" x=\"267.718417\" xlink:href=\"#mdb7f7099c4\" y=\"229.228831\"/>\r\n     <use style=\"fill:#1f77b4;stroke:#1f77b4;\" x=\"278.070921\" xlink:href=\"#mdb7f7099c4\" y=\"222.169091\"/>\r\n     <use style=\"fill:#1f77b4;stroke:#1f77b4;\" x=\"288.423426\" xlink:href=\"#mdb7f7099c4\" y=\"215.109351\"/>\r\n     <use style=\"fill:#1f77b4;stroke:#1f77b4;\" x=\"298.775931\" xlink:href=\"#mdb7f7099c4\" y=\"208.04961\"/>\r\n     <use style=\"fill:#1f77b4;stroke:#1f77b4;\" x=\"309.128435\" xlink:href=\"#mdb7f7099c4\" y=\"200.98987\"/>\r\n     <use style=\"fill:#1f77b4;stroke:#1f77b4;\" x=\"319.48094\" xlink:href=\"#mdb7f7099c4\" y=\"193.93013\"/>\r\n     <use style=\"fill:#1f77b4;stroke:#1f77b4;\" x=\"329.833444\" xlink:href=\"#mdb7f7099c4\" y=\"186.87039\"/>\r\n     <use style=\"fill:#1f77b4;stroke:#1f77b4;\" x=\"340.185949\" xlink:href=\"#mdb7f7099c4\" y=\"179.810649\"/>\r\n     <use style=\"fill:#1f77b4;stroke:#1f77b4;\" x=\"350.538454\" xlink:href=\"#mdb7f7099c4\" y=\"172.750909\"/>\r\n     <use style=\"fill:#1f77b4;stroke:#1f77b4;\" x=\"360.890958\" xlink:href=\"#mdb7f7099c4\" y=\"165.691169\"/>\r\n     <use style=\"fill:#1f77b4;stroke:#1f77b4;\" x=\"371.243463\" xlink:href=\"#mdb7f7099c4\" y=\"158.631429\"/>\r\n     <use style=\"fill:#1f77b4;stroke:#1f77b4;\" x=\"381.595968\" xlink:href=\"#mdb7f7099c4\" y=\"151.571688\"/>\r\n     <use style=\"fill:#1f77b4;stroke:#1f77b4;\" x=\"391.948472\" xlink:href=\"#mdb7f7099c4\" y=\"144.511948\"/>\r\n     <use style=\"fill:#1f77b4;stroke:#1f77b4;\" x=\"402.300977\" xlink:href=\"#mdb7f7099c4\" y=\"137.452208\"/>\r\n     <use style=\"fill:#1f77b4;stroke:#1f77b4;\" x=\"412.653482\" xlink:href=\"#mdb7f7099c4\" y=\"130.392468\"/>\r\n     <use style=\"fill:#1f77b4;stroke:#1f77b4;\" x=\"423.005986\" xlink:href=\"#mdb7f7099c4\" y=\"123.332727\"/>\r\n     <use style=\"fill:#1f77b4;stroke:#1f77b4;\" x=\"433.358491\" xlink:href=\"#mdb7f7099c4\" y=\"116.272987\"/>\r\n     <use style=\"fill:#1f77b4;stroke:#1f77b4;\" x=\"443.710995\" xlink:href=\"#mdb7f7099c4\" y=\"109.213247\"/>\r\n     <use style=\"fill:#1f77b4;stroke:#1f77b4;\" x=\"454.0635\" xlink:href=\"#mdb7f7099c4\" y=\"102.153506\"/>\r\n     <use style=\"fill:#1f77b4;stroke:#1f77b4;\" x=\"464.416005\" xlink:href=\"#mdb7f7099c4\" y=\"95.093766\"/>\r\n    </g>\r\n   </g>\r\n   <g id=\"PathCollection_2\">\r\n    <defs>\r\n     <path d=\"M 0 3 \r\nC 0.795609 3 1.55874 2.683901 2.12132 2.12132 \r\nC 2.683901 1.55874 3 0.795609 3 0 \r\nC 3 -0.795609 2.683901 -1.55874 2.12132 -2.12132 \r\nC 1.55874 -2.683901 0.795609 -3 0 -3 \r\nC -0.795609 -3 -1.55874 -2.683901 -2.12132 -2.12132 \r\nC -2.683901 -1.55874 -3 -0.795609 -3 0 \r\nC -3 0.795609 -2.683901 1.55874 -2.12132 2.12132 \r\nC -1.55874 2.683901 -0.795609 3 0 3 \r\nz\r\n\" id=\"mf7a8ad1269\" style=\"stroke:#ff7f0e;\"/>\r\n    </defs>\r\n    <g clip-path=\"url(#pdf65d9008c)\">\r\n     <use style=\"fill:#ff7f0e;stroke:#ff7f0e;\" x=\"474.768509\" xlink:href=\"#mf7a8ad1269\" y=\"88.034026\"/>\r\n     <use style=\"fill:#ff7f0e;stroke:#ff7f0e;\" x=\"485.121014\" xlink:href=\"#mf7a8ad1269\" y=\"80.974286\"/>\r\n     <use style=\"fill:#ff7f0e;stroke:#ff7f0e;\" x=\"495.473519\" xlink:href=\"#mf7a8ad1269\" y=\"73.914545\"/>\r\n     <use style=\"fill:#ff7f0e;stroke:#ff7f0e;\" x=\"505.826023\" xlink:href=\"#mf7a8ad1269\" y=\"66.854805\"/>\r\n     <use style=\"fill:#ff7f0e;stroke:#ff7f0e;\" x=\"516.178528\" xlink:href=\"#mf7a8ad1269\" y=\"59.795065\"/>\r\n     <use style=\"fill:#ff7f0e;stroke:#ff7f0e;\" x=\"526.531033\" xlink:href=\"#mf7a8ad1269\" y=\"52.735325\"/>\r\n     <use style=\"fill:#ff7f0e;stroke:#ff7f0e;\" x=\"536.883537\" xlink:href=\"#mf7a8ad1269\" y=\"45.675584\"/>\r\n     <use style=\"fill:#ff7f0e;stroke:#ff7f0e;\" x=\"547.236042\" xlink:href=\"#mf7a8ad1269\" y=\"38.615844\"/>\r\n     <use style=\"fill:#ff7f0e;stroke:#ff7f0e;\" x=\"557.588546\" xlink:href=\"#mf7a8ad1269\" y=\"31.556104\"/>\r\n     <use style=\"fill:#ff7f0e;stroke:#ff7f0e;\" x=\"567.941051\" xlink:href=\"#mf7a8ad1269\" y=\"24.496364\"/>\r\n    </g>\r\n   </g>\r\n   <g id=\"PathCollection_3\">\r\n    <defs>\r\n     <path d=\"M 0 3 \r\nC 0.795609 3 1.55874 2.683901 2.12132 2.12132 \r\nC 2.683901 1.55874 3 0.795609 3 0 \r\nC 3 -0.795609 2.683901 -1.55874 2.12132 -2.12132 \r\nC 1.55874 -2.683901 0.795609 -3 0 -3 \r\nC -0.795609 -3 -1.55874 -2.683901 -2.12132 -2.12132 \r\nC -2.683901 -1.55874 -3 -0.795609 -3 0 \r\nC -3 0.795609 -2.683901 1.55874 -2.12132 2.12132 \r\nC -1.55874 2.683901 -0.795609 3 0 3 \r\nz\r\n\" id=\"m16b37640a2\" style=\"stroke:#2ca02c;\"/>\r\n    </defs>\r\n    <g clip-path=\"url(#pdf65d9008c)\">\r\n     <use style=\"fill:#2ca02c;stroke:#2ca02c;\" x=\"474.768509\" xlink:href=\"#m16b37640a2\" y=\"212.295895\"/>\r\n     <use style=\"fill:#2ca02c;stroke:#2ca02c;\" x=\"485.121014\" xlink:href=\"#m16b37640a2\" y=\"212.295582\"/>\r\n     <use style=\"fill:#2ca02c;stroke:#2ca02c;\" x=\"495.473519\" xlink:href=\"#m16b37640a2\" y=\"212.295268\"/>\r\n     <use style=\"fill:#2ca02c;stroke:#2ca02c;\" x=\"505.826023\" xlink:href=\"#m16b37640a2\" y=\"212.294954\"/>\r\n     <use style=\"fill:#2ca02c;stroke:#2ca02c;\" x=\"516.178528\" xlink:href=\"#m16b37640a2\" y=\"212.294641\"/>\r\n     <use style=\"fill:#2ca02c;stroke:#2ca02c;\" x=\"526.531033\" xlink:href=\"#m16b37640a2\" y=\"212.294327\"/>\r\n     <use style=\"fill:#2ca02c;stroke:#2ca02c;\" x=\"536.883537\" xlink:href=\"#m16b37640a2\" y=\"212.294013\"/>\r\n     <use style=\"fill:#2ca02c;stroke:#2ca02c;\" x=\"547.236042\" xlink:href=\"#m16b37640a2\" y=\"212.293699\"/>\r\n     <use style=\"fill:#2ca02c;stroke:#2ca02c;\" x=\"557.588546\" xlink:href=\"#m16b37640a2\" y=\"212.293386\"/>\r\n     <use style=\"fill:#2ca02c;stroke:#2ca02c;\" x=\"567.941051\" xlink:href=\"#m16b37640a2\" y=\"212.293072\"/>\r\n    </g>\r\n   </g>\r\n   <g id=\"matplotlib.axis_1\">\r\n    <g id=\"xtick_1\">\r\n     <g id=\"line2d_1\">\r\n      <defs>\r\n       <path d=\"M 0 0 \r\nL 0 3.5 \r\n\" id=\"ma0e7ed600b\" style=\"stroke:#000000;stroke-width:0.8;\"/>\r\n      </defs>\r\n      <g>\r\n       <use style=\"stroke:#000000;stroke-width:0.8;\" x=\"60.668324\" xlink:href=\"#ma0e7ed600b\" y=\"387.72\"/>\r\n      </g>\r\n     </g>\r\n     <g id=\"text_1\">\r\n      <!-- −100 -->\r\n      <g transform=\"translate(46.93473 402.318437)scale(0.1 -0.1)\">\r\n       <defs>\r\n        <path d=\"M 678 2272 \r\nL 4684 2272 \r\nL 4684 1741 \r\nL 678 1741 \r\nL 678 2272 \r\nz\r\n\" id=\"DejaVuSans-2212\" transform=\"scale(0.015625)\"/>\r\n        <path d=\"M 794 531 \r\nL 1825 531 \r\nL 1825 4091 \r\nL 703 3866 \r\nL 703 4441 \r\nL 1819 4666 \r\nL 2450 4666 \r\nL 2450 531 \r\nL 3481 531 \r\nL 3481 0 \r\nL 794 0 \r\nL 794 531 \r\nz\r\n\" id=\"DejaVuSans-31\" transform=\"scale(0.015625)\"/>\r\n        <path d=\"M 2034 4250 \r\nQ 1547 4250 1301 3770 \r\nQ 1056 3291 1056 2328 \r\nQ 1056 1369 1301 889 \r\nQ 1547 409 2034 409 \r\nQ 2525 409 2770 889 \r\nQ 3016 1369 3016 2328 \r\nQ 3016 3291 2770 3770 \r\nQ 2525 4250 2034 4250 \r\nz\r\nM 2034 4750 \r\nQ 2819 4750 3233 4129 \r\nQ 3647 3509 3647 2328 \r\nQ 3647 1150 3233 529 \r\nQ 2819 -91 2034 -91 \r\nQ 1250 -91 836 529 \r\nQ 422 1150 422 2328 \r\nQ 422 3509 836 4129 \r\nQ 1250 4750 2034 4750 \r\nz\r\n\" id=\"DejaVuSans-30\" transform=\"scale(0.015625)\"/>\r\n       </defs>\r\n       <use xlink:href=\"#DejaVuSans-2212\"/>\r\n       <use x=\"83.789062\" xlink:href=\"#DejaVuSans-31\"/>\r\n       <use x=\"147.412109\" xlink:href=\"#DejaVuSans-30\"/>\r\n       <use x=\"211.035156\" xlink:href=\"#DejaVuSans-30\"/>\r\n      </g>\r\n     </g>\r\n    </g>\r\n    <g id=\"xtick_2\">\r\n     <g id=\"line2d_2\">\r\n      <g>\r\n       <use style=\"stroke:#000000;stroke-width:0.8;\" x=\"125.371478\" xlink:href=\"#ma0e7ed600b\" y=\"387.72\"/>\r\n      </g>\r\n     </g>\r\n     <g id=\"text_2\">\r\n      <!-- −75 -->\r\n      <g transform=\"translate(114.819134 402.318437)scale(0.1 -0.1)\">\r\n       <defs>\r\n        <path d=\"M 525 4666 \r\nL 3525 4666 \r\nL 3525 4397 \r\nL 1831 0 \r\nL 1172 0 \r\nL 2766 4134 \r\nL 525 4134 \r\nL 525 4666 \r\nz\r\n\" id=\"DejaVuSans-37\" transform=\"scale(0.015625)\"/>\r\n        <path d=\"M 691 4666 \r\nL 3169 4666 \r\nL 3169 4134 \r\nL 1269 4134 \r\nL 1269 2991 \r\nQ 1406 3038 1543 3061 \r\nQ 1681 3084 1819 3084 \r\nQ 2600 3084 3056 2656 \r\nQ 3513 2228 3513 1497 \r\nQ 3513 744 3044 326 \r\nQ 2575 -91 1722 -91 \r\nQ 1428 -91 1123 -41 \r\nQ 819 9 494 109 \r\nL 494 744 \r\nQ 775 591 1075 516 \r\nQ 1375 441 1709 441 \r\nQ 2250 441 2565 725 \r\nQ 2881 1009 2881 1497 \r\nQ 2881 1984 2565 2268 \r\nQ 2250 2553 1709 2553 \r\nQ 1456 2553 1204 2497 \r\nQ 953 2441 691 2322 \r\nL 691 4666 \r\nz\r\n\" id=\"DejaVuSans-35\" transform=\"scale(0.015625)\"/>\r\n       </defs>\r\n       <use xlink:href=\"#DejaVuSans-2212\"/>\r\n       <use x=\"83.789062\" xlink:href=\"#DejaVuSans-37\"/>\r\n       <use x=\"147.412109\" xlink:href=\"#DejaVuSans-35\"/>\r\n      </g>\r\n     </g>\r\n    </g>\r\n    <g id=\"xtick_3\">\r\n     <g id=\"line2d_3\">\r\n      <g>\r\n       <use style=\"stroke:#000000;stroke-width:0.8;\" x=\"190.074632\" xlink:href=\"#ma0e7ed600b\" y=\"387.72\"/>\r\n      </g>\r\n     </g>\r\n     <g id=\"text_3\">\r\n      <!-- −50 -->\r\n      <g transform=\"translate(179.522288 402.318437)scale(0.1 -0.1)\">\r\n       <use xlink:href=\"#DejaVuSans-2212\"/>\r\n       <use x=\"83.789062\" xlink:href=\"#DejaVuSans-35\"/>\r\n       <use x=\"147.412109\" xlink:href=\"#DejaVuSans-30\"/>\r\n      </g>\r\n     </g>\r\n    </g>\r\n    <g id=\"xtick_4\">\r\n     <g id=\"line2d_4\">\r\n      <g>\r\n       <use style=\"stroke:#000000;stroke-width:0.8;\" x=\"254.777786\" xlink:href=\"#ma0e7ed600b\" y=\"387.72\"/>\r\n      </g>\r\n     </g>\r\n     <g id=\"text_4\">\r\n      <!-- −25 -->\r\n      <g transform=\"translate(244.225442 402.318437)scale(0.1 -0.1)\">\r\n       <defs>\r\n        <path d=\"M 1228 531 \r\nL 3431 531 \r\nL 3431 0 \r\nL 469 0 \r\nL 469 531 \r\nQ 828 903 1448 1529 \r\nQ 2069 2156 2228 2338 \r\nQ 2531 2678 2651 2914 \r\nQ 2772 3150 2772 3378 \r\nQ 2772 3750 2511 3984 \r\nQ 2250 4219 1831 4219 \r\nQ 1534 4219 1204 4116 \r\nQ 875 4013 500 3803 \r\nL 500 4441 \r\nQ 881 4594 1212 4672 \r\nQ 1544 4750 1819 4750 \r\nQ 2544 4750 2975 4387 \r\nQ 3406 4025 3406 3419 \r\nQ 3406 3131 3298 2873 \r\nQ 3191 2616 2906 2266 \r\nQ 2828 2175 2409 1742 \r\nQ 1991 1309 1228 531 \r\nz\r\n\" id=\"DejaVuSans-32\" transform=\"scale(0.015625)\"/>\r\n       </defs>\r\n       <use xlink:href=\"#DejaVuSans-2212\"/>\r\n       <use x=\"83.789062\" xlink:href=\"#DejaVuSans-32\"/>\r\n       <use x=\"147.412109\" xlink:href=\"#DejaVuSans-35\"/>\r\n      </g>\r\n     </g>\r\n    </g>\r\n    <g id=\"xtick_5\">\r\n     <g id=\"line2d_5\">\r\n      <g>\r\n       <use style=\"stroke:#000000;stroke-width:0.8;\" x=\"319.48094\" xlink:href=\"#ma0e7ed600b\" y=\"387.72\"/>\r\n      </g>\r\n     </g>\r\n     <g id=\"text_5\">\r\n      <!-- 0 -->\r\n      <g transform=\"translate(316.29969 402.318437)scale(0.1 -0.1)\">\r\n       <use xlink:href=\"#DejaVuSans-30\"/>\r\n      </g>\r\n     </g>\r\n    </g>\r\n    <g id=\"xtick_6\">\r\n     <g id=\"line2d_6\">\r\n      <g>\r\n       <use style=\"stroke:#000000;stroke-width:0.8;\" x=\"384.184094\" xlink:href=\"#ma0e7ed600b\" y=\"387.72\"/>\r\n      </g>\r\n     </g>\r\n     <g id=\"text_6\">\r\n      <!-- 25 -->\r\n      <g transform=\"translate(377.821594 402.318437)scale(0.1 -0.1)\">\r\n       <use xlink:href=\"#DejaVuSans-32\"/>\r\n       <use x=\"63.623047\" xlink:href=\"#DejaVuSans-35\"/>\r\n      </g>\r\n     </g>\r\n    </g>\r\n    <g id=\"xtick_7\">\r\n     <g id=\"line2d_7\">\r\n      <g>\r\n       <use style=\"stroke:#000000;stroke-width:0.8;\" x=\"448.887248\" xlink:href=\"#ma0e7ed600b\" y=\"387.72\"/>\r\n      </g>\r\n     </g>\r\n     <g id=\"text_7\">\r\n      <!-- 50 -->\r\n      <g transform=\"translate(442.524748 402.318437)scale(0.1 -0.1)\">\r\n       <use xlink:href=\"#DejaVuSans-35\"/>\r\n       <use x=\"63.623047\" xlink:href=\"#DejaVuSans-30\"/>\r\n      </g>\r\n     </g>\r\n    </g>\r\n    <g id=\"xtick_8\">\r\n     <g id=\"line2d_8\">\r\n      <g>\r\n       <use style=\"stroke:#000000;stroke-width:0.8;\" x=\"513.590402\" xlink:href=\"#ma0e7ed600b\" y=\"387.72\"/>\r\n      </g>\r\n     </g>\r\n     <g id=\"text_8\">\r\n      <!-- 75 -->\r\n      <g transform=\"translate(507.227902 402.318437)scale(0.1 -0.1)\">\r\n       <use xlink:href=\"#DejaVuSans-37\"/>\r\n       <use x=\"63.623047\" xlink:href=\"#DejaVuSans-35\"/>\r\n      </g>\r\n     </g>\r\n    </g>\r\n    <g id=\"xtick_9\">\r\n     <g id=\"line2d_9\">\r\n      <g>\r\n       <use style=\"stroke:#000000;stroke-width:0.8;\" x=\"578.293556\" xlink:href=\"#ma0e7ed600b\" y=\"387.72\"/>\r\n      </g>\r\n     </g>\r\n     <g id=\"text_9\">\r\n      <!-- 100 -->\r\n      <g transform=\"translate(568.749806 402.318437)scale(0.1 -0.1)\">\r\n       <use xlink:href=\"#DejaVuSans-31\"/>\r\n       <use x=\"63.623047\" xlink:href=\"#DejaVuSans-30\"/>\r\n       <use x=\"127.246094\" xlink:href=\"#DejaVuSans-30\"/>\r\n      </g>\r\n     </g>\r\n    </g>\r\n   </g>\r\n   <g id=\"matplotlib.axis_2\">\r\n    <g id=\"ytick_1\">\r\n     <g id=\"line2d_10\">\r\n      <defs>\r\n       <path d=\"M 0 0 \r\nL -3.5 0 \r\n\" id=\"m06c1f3864e\" style=\"stroke:#000000;stroke-width:0.8;\"/>\r\n      </defs>\r\n      <g>\r\n       <use style=\"stroke:#000000;stroke-width:0.8;\" x=\"35.304688\" xlink:href=\"#m06c1f3864e\" y=\"343.94961\"/>\r\n      </g>\r\n     </g>\r\n     <g id=\"text_10\">\r\n      <!-- −75 -->\r\n      <g transform=\"translate(7.2 347.748829)scale(0.1 -0.1)\">\r\n       <use xlink:href=\"#DejaVuSans-2212\"/>\r\n       <use x=\"83.789062\" xlink:href=\"#DejaVuSans-37\"/>\r\n       <use x=\"147.412109\" xlink:href=\"#DejaVuSans-35\"/>\r\n      </g>\r\n     </g>\r\n    </g>\r\n    <g id=\"ytick_2\">\r\n     <g id=\"line2d_11\">\r\n      <g>\r\n       <use style=\"stroke:#000000;stroke-width:0.8;\" x=\"35.304688\" xlink:href=\"#m06c1f3864e\" y=\"299.826234\"/>\r\n      </g>\r\n     </g>\r\n     <g id=\"text_11\">\r\n      <!-- −50 -->\r\n      <g transform=\"translate(7.2 303.625453)scale(0.1 -0.1)\">\r\n       <use xlink:href=\"#DejaVuSans-2212\"/>\r\n       <use x=\"83.789062\" xlink:href=\"#DejaVuSans-35\"/>\r\n       <use x=\"147.412109\" xlink:href=\"#DejaVuSans-30\"/>\r\n      </g>\r\n     </g>\r\n    </g>\r\n    <g id=\"ytick_3\">\r\n     <g id=\"line2d_12\">\r\n      <g>\r\n       <use style=\"stroke:#000000;stroke-width:0.8;\" x=\"35.304688\" xlink:href=\"#m06c1f3864e\" y=\"255.702857\"/>\r\n      </g>\r\n     </g>\r\n     <g id=\"text_12\">\r\n      <!-- −25 -->\r\n      <g transform=\"translate(7.2 259.502076)scale(0.1 -0.1)\">\r\n       <use xlink:href=\"#DejaVuSans-2212\"/>\r\n       <use x=\"83.789062\" xlink:href=\"#DejaVuSans-32\"/>\r\n       <use x=\"147.412109\" xlink:href=\"#DejaVuSans-35\"/>\r\n      </g>\r\n     </g>\r\n    </g>\r\n    <g id=\"ytick_4\">\r\n     <g id=\"line2d_13\">\r\n      <g>\r\n       <use style=\"stroke:#000000;stroke-width:0.8;\" x=\"35.304688\" xlink:href=\"#m06c1f3864e\" y=\"211.579481\"/>\r\n      </g>\r\n     </g>\r\n     <g id=\"text_13\">\r\n      <!-- 0 -->\r\n      <g transform=\"translate(21.942187 215.378699)scale(0.1 -0.1)\">\r\n       <use xlink:href=\"#DejaVuSans-30\"/>\r\n      </g>\r\n     </g>\r\n    </g>\r\n    <g id=\"ytick_5\">\r\n     <g id=\"line2d_14\">\r\n      <g>\r\n       <use style=\"stroke:#000000;stroke-width:0.8;\" x=\"35.304688\" xlink:href=\"#m06c1f3864e\" y=\"167.456104\"/>\r\n      </g>\r\n     </g>\r\n     <g id=\"text_14\">\r\n      <!-- 25 -->\r\n      <g transform=\"translate(15.579687 171.255323)scale(0.1 -0.1)\">\r\n       <use xlink:href=\"#DejaVuSans-32\"/>\r\n       <use x=\"63.623047\" xlink:href=\"#DejaVuSans-35\"/>\r\n      </g>\r\n     </g>\r\n    </g>\r\n    <g id=\"ytick_6\">\r\n     <g id=\"line2d_15\">\r\n      <g>\r\n       <use style=\"stroke:#000000;stroke-width:0.8;\" x=\"35.304688\" xlink:href=\"#m06c1f3864e\" y=\"123.332727\"/>\r\n      </g>\r\n     </g>\r\n     <g id=\"text_15\">\r\n      <!-- 50 -->\r\n      <g transform=\"translate(15.579687 127.131946)scale(0.1 -0.1)\">\r\n       <use xlink:href=\"#DejaVuSans-35\"/>\r\n       <use x=\"63.623047\" xlink:href=\"#DejaVuSans-30\"/>\r\n      </g>\r\n     </g>\r\n    </g>\r\n    <g id=\"ytick_7\">\r\n     <g id=\"line2d_16\">\r\n      <g>\r\n       <use style=\"stroke:#000000;stroke-width:0.8;\" x=\"35.304688\" xlink:href=\"#m06c1f3864e\" y=\"79.209351\"/>\r\n      </g>\r\n     </g>\r\n     <g id=\"text_16\">\r\n      <!-- 75 -->\r\n      <g transform=\"translate(15.579687 83.008569)scale(0.1 -0.1)\">\r\n       <use xlink:href=\"#DejaVuSans-37\"/>\r\n       <use x=\"63.623047\" xlink:href=\"#DejaVuSans-35\"/>\r\n      </g>\r\n     </g>\r\n    </g>\r\n    <g id=\"ytick_8\">\r\n     <g id=\"line2d_17\">\r\n      <g>\r\n       <use style=\"stroke:#000000;stroke-width:0.8;\" x=\"35.304688\" xlink:href=\"#m06c1f3864e\" y=\"35.085974\"/>\r\n      </g>\r\n     </g>\r\n     <g id=\"text_17\">\r\n      <!-- 100 -->\r\n      <g transform=\"translate(9.217187 38.885193)scale(0.1 -0.1)\">\r\n       <use xlink:href=\"#DejaVuSans-31\"/>\r\n       <use x=\"63.623047\" xlink:href=\"#DejaVuSans-30\"/>\r\n       <use x=\"127.246094\" xlink:href=\"#DejaVuSans-30\"/>\r\n      </g>\r\n     </g>\r\n    </g>\r\n   </g>\r\n   <g id=\"patch_3\">\r\n    <path d=\"M 35.304688 387.72 \r\nL 35.304688 7.2 \r\n\" style=\"fill:none;stroke:#000000;stroke-linecap:square;stroke-linejoin:miter;stroke-width:0.8;\"/>\r\n   </g>\r\n   <g id=\"patch_4\">\r\n    <path d=\"M 593.304688 387.72 \r\nL 593.304688 7.2 \r\n\" style=\"fill:none;stroke:#000000;stroke-linecap:square;stroke-linejoin:miter;stroke-width:0.8;\"/>\r\n   </g>\r\n   <g id=\"patch_5\">\r\n    <path d=\"M 35.304688 387.72 \r\nL 593.304688 387.72 \r\n\" style=\"fill:none;stroke:#000000;stroke-linecap:square;stroke-linejoin:miter;stroke-width:0.8;\"/>\r\n   </g>\r\n   <g id=\"patch_6\">\r\n    <path d=\"M 35.304688 7.2 \r\nL 593.304688 7.2 \r\n\" style=\"fill:none;stroke:#000000;stroke-linecap:square;stroke-linejoin:miter;stroke-width:0.8;\"/>\r\n   </g>\r\n   <g id=\"legend_1\">\r\n    <g id=\"patch_7\">\r\n     <path d=\"M 42.304688 59.234375 \r\nL 140.810938 59.234375 \r\nQ 142.810938 59.234375 142.810938 57.234375 \r\nL 142.810938 14.2 \r\nQ 142.810938 12.2 140.810938 12.2 \r\nL 42.304688 12.2 \r\nQ 40.304688 12.2 40.304688 14.2 \r\nL 40.304688 57.234375 \r\nQ 40.304688 59.234375 42.304688 59.234375 \r\nz\r\n\" style=\"fill:#ffffff;opacity:0.8;stroke:#cccccc;stroke-linejoin:miter;\"/>\r\n    </g>\r\n    <g id=\"PathCollection_4\">\r\n     <g>\r\n      <use style=\"fill:#1f77b4;stroke:#1f77b4;\" x=\"54.304688\" xlink:href=\"#mdb7f7099c4\" y=\"21.173437\"/>\r\n     </g>\r\n    </g>\r\n    <g id=\"text_18\">\r\n     <!-- Training Data -->\r\n     <g transform=\"translate(72.304688 23.798437)scale(0.1 -0.1)\">\r\n      <defs>\r\n       <path d=\"M -19 4666 \r\nL 3928 4666 \r\nL 3928 4134 \r\nL 2272 4134 \r\nL 2272 0 \r\nL 1638 0 \r\nL 1638 4134 \r\nL -19 4134 \r\nL -19 4666 \r\nz\r\n\" id=\"DejaVuSans-54\" transform=\"scale(0.015625)\"/>\r\n       <path d=\"M 2631 2963 \r\nQ 2534 3019 2420 3045 \r\nQ 2306 3072 2169 3072 \r\nQ 1681 3072 1420 2755 \r\nQ 1159 2438 1159 1844 \r\nL 1159 0 \r\nL 581 0 \r\nL 581 3500 \r\nL 1159 3500 \r\nL 1159 2956 \r\nQ 1341 3275 1631 3429 \r\nQ 1922 3584 2338 3584 \r\nQ 2397 3584 2469 3576 \r\nQ 2541 3569 2628 3553 \r\nL 2631 2963 \r\nz\r\n\" id=\"DejaVuSans-72\" transform=\"scale(0.015625)\"/>\r\n       <path d=\"M 2194 1759 \r\nQ 1497 1759 1228 1600 \r\nQ 959 1441 959 1056 \r\nQ 959 750 1161 570 \r\nQ 1363 391 1709 391 \r\nQ 2188 391 2477 730 \r\nQ 2766 1069 2766 1631 \r\nL 2766 1759 \r\nL 2194 1759 \r\nz\r\nM 3341 1997 \r\nL 3341 0 \r\nL 2766 0 \r\nL 2766 531 \r\nQ 2569 213 2275 61 \r\nQ 1981 -91 1556 -91 \r\nQ 1019 -91 701 211 \r\nQ 384 513 384 1019 \r\nQ 384 1609 779 1909 \r\nQ 1175 2209 1959 2209 \r\nL 2766 2209 \r\nL 2766 2266 \r\nQ 2766 2663 2505 2880 \r\nQ 2244 3097 1772 3097 \r\nQ 1472 3097 1187 3025 \r\nQ 903 2953 641 2809 \r\nL 641 3341 \r\nQ 956 3463 1253 3523 \r\nQ 1550 3584 1831 3584 \r\nQ 2591 3584 2966 3190 \r\nQ 3341 2797 3341 1997 \r\nz\r\n\" id=\"DejaVuSans-61\" transform=\"scale(0.015625)\"/>\r\n       <path d=\"M 603 3500 \r\nL 1178 3500 \r\nL 1178 0 \r\nL 603 0 \r\nL 603 3500 \r\nz\r\nM 603 4863 \r\nL 1178 4863 \r\nL 1178 4134 \r\nL 603 4134 \r\nL 603 4863 \r\nz\r\n\" id=\"DejaVuSans-69\" transform=\"scale(0.015625)\"/>\r\n       <path d=\"M 3513 2113 \r\nL 3513 0 \r\nL 2938 0 \r\nL 2938 2094 \r\nQ 2938 2591 2744 2837 \r\nQ 2550 3084 2163 3084 \r\nQ 1697 3084 1428 2787 \r\nQ 1159 2491 1159 1978 \r\nL 1159 0 \r\nL 581 0 \r\nL 581 3500 \r\nL 1159 3500 \r\nL 1159 2956 \r\nQ 1366 3272 1645 3428 \r\nQ 1925 3584 2291 3584 \r\nQ 2894 3584 3203 3211 \r\nQ 3513 2838 3513 2113 \r\nz\r\n\" id=\"DejaVuSans-6e\" transform=\"scale(0.015625)\"/>\r\n       <path d=\"M 2906 1791 \r\nQ 2906 2416 2648 2759 \r\nQ 2391 3103 1925 3103 \r\nQ 1463 3103 1205 2759 \r\nQ 947 2416 947 1791 \r\nQ 947 1169 1205 825 \r\nQ 1463 481 1925 481 \r\nQ 2391 481 2648 825 \r\nQ 2906 1169 2906 1791 \r\nz\r\nM 3481 434 \r\nQ 3481 -459 3084 -895 \r\nQ 2688 -1331 1869 -1331 \r\nQ 1566 -1331 1297 -1286 \r\nQ 1028 -1241 775 -1147 \r\nL 775 -588 \r\nQ 1028 -725 1275 -790 \r\nQ 1522 -856 1778 -856 \r\nQ 2344 -856 2625 -561 \r\nQ 2906 -266 2906 331 \r\nL 2906 616 \r\nQ 2728 306 2450 153 \r\nQ 2172 0 1784 0 \r\nQ 1141 0 747 490 \r\nQ 353 981 353 1791 \r\nQ 353 2603 747 3093 \r\nQ 1141 3584 1784 3584 \r\nQ 2172 3584 2450 3431 \r\nQ 2728 3278 2906 2969 \r\nL 2906 3500 \r\nL 3481 3500 \r\nL 3481 434 \r\nz\r\n\" id=\"DejaVuSans-67\" transform=\"scale(0.015625)\"/>\r\n       <path id=\"DejaVuSans-20\" transform=\"scale(0.015625)\"/>\r\n       <path d=\"M 1259 4147 \r\nL 1259 519 \r\nL 2022 519 \r\nQ 2988 519 3436 956 \r\nQ 3884 1394 3884 2338 \r\nQ 3884 3275 3436 3711 \r\nQ 2988 4147 2022 4147 \r\nL 1259 4147 \r\nz\r\nM 628 4666 \r\nL 1925 4666 \r\nQ 3281 4666 3915 4102 \r\nQ 4550 3538 4550 2338 \r\nQ 4550 1131 3912 565 \r\nQ 3275 0 1925 0 \r\nL 628 0 \r\nL 628 4666 \r\nz\r\n\" id=\"DejaVuSans-44\" transform=\"scale(0.015625)\"/>\r\n       <path d=\"M 1172 4494 \r\nL 1172 3500 \r\nL 2356 3500 \r\nL 2356 3053 \r\nL 1172 3053 \r\nL 1172 1153 \r\nQ 1172 725 1289 603 \r\nQ 1406 481 1766 481 \r\nL 2356 481 \r\nL 2356 0 \r\nL 1766 0 \r\nQ 1100 0 847 248 \r\nQ 594 497 594 1153 \r\nL 594 3053 \r\nL 172 3053 \r\nL 172 3500 \r\nL 594 3500 \r\nL 594 4494 \r\nL 1172 4494 \r\nz\r\n\" id=\"DejaVuSans-74\" transform=\"scale(0.015625)\"/>\r\n      </defs>\r\n      <use xlink:href=\"#DejaVuSans-54\"/>\r\n      <use x=\"46.333984\" xlink:href=\"#DejaVuSans-72\"/>\r\n      <use x=\"87.447266\" xlink:href=\"#DejaVuSans-61\"/>\r\n      <use x=\"148.726562\" xlink:href=\"#DejaVuSans-69\"/>\r\n      <use x=\"176.509766\" xlink:href=\"#DejaVuSans-6e\"/>\r\n      <use x=\"239.888672\" xlink:href=\"#DejaVuSans-69\"/>\r\n      <use x=\"267.671875\" xlink:href=\"#DejaVuSans-6e\"/>\r\n      <use x=\"331.050781\" xlink:href=\"#DejaVuSans-67\"/>\r\n      <use x=\"394.527344\" xlink:href=\"#DejaVuSans-20\"/>\r\n      <use x=\"426.314453\" xlink:href=\"#DejaVuSans-44\"/>\r\n      <use x=\"503.316406\" xlink:href=\"#DejaVuSans-61\"/>\r\n      <use x=\"564.595703\" xlink:href=\"#DejaVuSans-74\"/>\r\n      <use x=\"603.804688\" xlink:href=\"#DejaVuSans-61\"/>\r\n     </g>\r\n    </g>\r\n    <g id=\"PathCollection_5\">\r\n     <g>\r\n      <use style=\"fill:#ff7f0e;stroke:#ff7f0e;\" x=\"54.304688\" xlink:href=\"#mf7a8ad1269\" y=\"35.851562\"/>\r\n     </g>\r\n    </g>\r\n    <g id=\"text_19\">\r\n     <!-- Testing Data -->\r\n     <g transform=\"translate(72.304688 38.476562)scale(0.1 -0.1)\">\r\n      <defs>\r\n       <path d=\"M 3597 1894 \r\nL 3597 1613 \r\nL 953 1613 \r\nQ 991 1019 1311 708 \r\nQ 1631 397 2203 397 \r\nQ 2534 397 2845 478 \r\nQ 3156 559 3463 722 \r\nL 3463 178 \r\nQ 3153 47 2828 -22 \r\nQ 2503 -91 2169 -91 \r\nQ 1331 -91 842 396 \r\nQ 353 884 353 1716 \r\nQ 353 2575 817 3079 \r\nQ 1281 3584 2069 3584 \r\nQ 2775 3584 3186 3129 \r\nQ 3597 2675 3597 1894 \r\nz\r\nM 3022 2063 \r\nQ 3016 2534 2758 2815 \r\nQ 2500 3097 2075 3097 \r\nQ 1594 3097 1305 2825 \r\nQ 1016 2553 972 2059 \r\nL 3022 2063 \r\nz\r\n\" id=\"DejaVuSans-65\" transform=\"scale(0.015625)\"/>\r\n       <path d=\"M 2834 3397 \r\nL 2834 2853 \r\nQ 2591 2978 2328 3040 \r\nQ 2066 3103 1784 3103 \r\nQ 1356 3103 1142 2972 \r\nQ 928 2841 928 2578 \r\nQ 928 2378 1081 2264 \r\nQ 1234 2150 1697 2047 \r\nL 1894 2003 \r\nQ 2506 1872 2764 1633 \r\nQ 3022 1394 3022 966 \r\nQ 3022 478 2636 193 \r\nQ 2250 -91 1575 -91 \r\nQ 1294 -91 989 -36 \r\nQ 684 19 347 128 \r\nL 347 722 \r\nQ 666 556 975 473 \r\nQ 1284 391 1588 391 \r\nQ 1994 391 2212 530 \r\nQ 2431 669 2431 922 \r\nQ 2431 1156 2273 1281 \r\nQ 2116 1406 1581 1522 \r\nL 1381 1569 \r\nQ 847 1681 609 1914 \r\nQ 372 2147 372 2553 \r\nQ 372 3047 722 3315 \r\nQ 1072 3584 1716 3584 \r\nQ 2034 3584 2315 3537 \r\nQ 2597 3491 2834 3397 \r\nz\r\n\" id=\"DejaVuSans-73\" transform=\"scale(0.015625)\"/>\r\n      </defs>\r\n      <use xlink:href=\"#DejaVuSans-54\"/>\r\n      <use x=\"44.083984\" xlink:href=\"#DejaVuSans-65\"/>\r\n      <use x=\"105.607422\" xlink:href=\"#DejaVuSans-73\"/>\r\n      <use x=\"157.707031\" xlink:href=\"#DejaVuSans-74\"/>\r\n      <use x=\"196.916016\" xlink:href=\"#DejaVuSans-69\"/>\r\n      <use x=\"224.699219\" xlink:href=\"#DejaVuSans-6e\"/>\r\n      <use x=\"288.078125\" xlink:href=\"#DejaVuSans-67\"/>\r\n      <use x=\"351.554688\" xlink:href=\"#DejaVuSans-20\"/>\r\n      <use x=\"383.341797\" xlink:href=\"#DejaVuSans-44\"/>\r\n      <use x=\"460.34375\" xlink:href=\"#DejaVuSans-61\"/>\r\n      <use x=\"521.623047\" xlink:href=\"#DejaVuSans-74\"/>\r\n      <use x=\"560.832031\" xlink:href=\"#DejaVuSans-61\"/>\r\n     </g>\r\n    </g>\r\n    <g id=\"PathCollection_6\">\r\n     <g>\r\n      <use style=\"fill:#2ca02c;stroke:#2ca02c;\" x=\"54.304688\" xlink:href=\"#m16b37640a2\" y=\"50.529687\"/>\r\n     </g>\r\n    </g>\r\n    <g id=\"text_20\">\r\n     <!-- Predictions -->\r\n     <g transform=\"translate(72.304688 53.154687)scale(0.1 -0.1)\">\r\n      <defs>\r\n       <path d=\"M 1259 4147 \r\nL 1259 2394 \r\nL 2053 2394 \r\nQ 2494 2394 2734 2622 \r\nQ 2975 2850 2975 3272 \r\nQ 2975 3691 2734 3919 \r\nQ 2494 4147 2053 4147 \r\nL 1259 4147 \r\nz\r\nM 628 4666 \r\nL 2053 4666 \r\nQ 2838 4666 3239 4311 \r\nQ 3641 3956 3641 3272 \r\nQ 3641 2581 3239 2228 \r\nQ 2838 1875 2053 1875 \r\nL 1259 1875 \r\nL 1259 0 \r\nL 628 0 \r\nL 628 4666 \r\nz\r\n\" id=\"DejaVuSans-50\" transform=\"scale(0.015625)\"/>\r\n       <path d=\"M 2906 2969 \r\nL 2906 4863 \r\nL 3481 4863 \r\nL 3481 0 \r\nL 2906 0 \r\nL 2906 525 \r\nQ 2725 213 2448 61 \r\nQ 2172 -91 1784 -91 \r\nQ 1150 -91 751 415 \r\nQ 353 922 353 1747 \r\nQ 353 2572 751 3078 \r\nQ 1150 3584 1784 3584 \r\nQ 2172 3584 2448 3432 \r\nQ 2725 3281 2906 2969 \r\nz\r\nM 947 1747 \r\nQ 947 1113 1208 752 \r\nQ 1469 391 1925 391 \r\nQ 2381 391 2643 752 \r\nQ 2906 1113 2906 1747 \r\nQ 2906 2381 2643 2742 \r\nQ 2381 3103 1925 3103 \r\nQ 1469 3103 1208 2742 \r\nQ 947 2381 947 1747 \r\nz\r\n\" id=\"DejaVuSans-64\" transform=\"scale(0.015625)\"/>\r\n       <path d=\"M 3122 3366 \r\nL 3122 2828 \r\nQ 2878 2963 2633 3030 \r\nQ 2388 3097 2138 3097 \r\nQ 1578 3097 1268 2742 \r\nQ 959 2388 959 1747 \r\nQ 959 1106 1268 751 \r\nQ 1578 397 2138 397 \r\nQ 2388 397 2633 464 \r\nQ 2878 531 3122 666 \r\nL 3122 134 \r\nQ 2881 22 2623 -34 \r\nQ 2366 -91 2075 -91 \r\nQ 1284 -91 818 406 \r\nQ 353 903 353 1747 \r\nQ 353 2603 823 3093 \r\nQ 1294 3584 2113 3584 \r\nQ 2378 3584 2631 3529 \r\nQ 2884 3475 3122 3366 \r\nz\r\n\" id=\"DejaVuSans-63\" transform=\"scale(0.015625)\"/>\r\n       <path d=\"M 1959 3097 \r\nQ 1497 3097 1228 2736 \r\nQ 959 2375 959 1747 \r\nQ 959 1119 1226 758 \r\nQ 1494 397 1959 397 \r\nQ 2419 397 2687 759 \r\nQ 2956 1122 2956 1747 \r\nQ 2956 2369 2687 2733 \r\nQ 2419 3097 1959 3097 \r\nz\r\nM 1959 3584 \r\nQ 2709 3584 3137 3096 \r\nQ 3566 2609 3566 1747 \r\nQ 3566 888 3137 398 \r\nQ 2709 -91 1959 -91 \r\nQ 1206 -91 779 398 \r\nQ 353 888 353 1747 \r\nQ 353 2609 779 3096 \r\nQ 1206 3584 1959 3584 \r\nz\r\n\" id=\"DejaVuSans-6f\" transform=\"scale(0.015625)\"/>\r\n      </defs>\r\n      <use xlink:href=\"#DejaVuSans-50\"/>\r\n      <use x=\"58.552734\" xlink:href=\"#DejaVuSans-72\"/>\r\n      <use x=\"97.416016\" xlink:href=\"#DejaVuSans-65\"/>\r\n      <use x=\"158.939453\" xlink:href=\"#DejaVuSans-64\"/>\r\n      <use x=\"222.416016\" xlink:href=\"#DejaVuSans-69\"/>\r\n      <use x=\"250.199219\" xlink:href=\"#DejaVuSans-63\"/>\r\n      <use x=\"305.179688\" xlink:href=\"#DejaVuSans-74\"/>\r\n      <use x=\"344.388672\" xlink:href=\"#DejaVuSans-69\"/>\r\n      <use x=\"372.171875\" xlink:href=\"#DejaVuSans-6f\"/>\r\n      <use x=\"433.353516\" xlink:href=\"#DejaVuSans-6e\"/>\r\n      <use x=\"496.732422\" xlink:href=\"#DejaVuSans-73\"/>\r\n     </g>\r\n    </g>\r\n   </g>\r\n  </g>\r\n </g>\r\n <defs>\r\n  <clipPath id=\"pdf65d9008c\">\r\n   <rect height=\"380.52\" width=\"558\" x=\"35.304688\" y=\"7.2\"/>\r\n  </clipPath>\r\n </defs>\r\n</svg>\r\n",
      "image/png": "[encoded data removed]"
     },
     "metadata": {
      "needs_background": "light"
     }
    }
   ],
   "metadata": {}
  },
  {
   "cell_type": "code",
   "execution_count": 292,
   "source": [
    "import pandas as pd\r\n",
    "\r\n",
    "model_results = ['model']"
   ],
   "outputs": [],
   "metadata": {}
  },
  {
   "cell_type": "markdown",
   "source": [
    "# Saving the models\r\n",
    "1. The SavedModel format\r\n",
    "2. The HDF5 format"
   ],
   "metadata": {}
  },
  {
   "cell_type": "code",
   "execution_count": 293,
   "source": [
    "model.save('model.h5')"
   ],
   "outputs": [],
   "metadata": {}
  },
  {
   "cell_type": "markdown",
   "source": [
    "# A larger example"
   ],
   "metadata": {}
  },
  {
   "cell_type": "code",
   "execution_count": 294,
   "source": [
    "import tensorflow as tf\r\n",
    "import pandas as pd\r\n",
    "import matplotlib.pyplot as plt"
   ],
   "outputs": [],
   "metadata": {}
  },
  {
   "cell_type": "code",
   "execution_count": 295,
   "source": [
    "insurance = pd.read_csv('https://raw.githubusercontent.com/stedy/Machine-Learning-with-R-datasets/master/insurance.csv')\r\n",
    "insurance"
   ],
   "outputs": [
    {
     "output_type": "execute_result",
     "data": {
      "text/plain": [
       "      age     sex     bmi  children smoker     region      charges\n",
       "0      19  female  27.900         0    yes  southwest  16884.92400\n",
       "1      18    male  33.770         1     no  southeast   1725.55230\n",
       "2      28    male  33.000         3     no  southeast   4449.46200\n",
       "3      33    male  22.705         0     no  northwest  21984.47061\n",
       "4      32    male  28.880         0     no  northwest   3866.85520\n",
       "...   ...     ...     ...       ...    ...        ...          ...\n",
       "1333   50    male  30.970         3     no  northwest  10600.54830\n",
       "1334   18  female  31.920         0     no  northeast   2205.98080\n",
       "1335   18  female  36.850         0     no  southeast   1629.83350\n",
       "1336   21  female  25.800         0     no  southwest   2007.94500\n",
       "1337   61  female  29.070         0    yes  northwest  29141.36030\n",
       "\n",
       "[1338 rows x 7 columns]"
      ],
      "text/html": [
       "<div>\n",
       "<style scoped>\n",
       "    .dataframe tbody tr th:only-of-type {\n",
       "        vertical-align: middle;\n",
       "    }\n",
       "\n",
       "    .dataframe tbody tr th {\n",
       "        vertical-align: top;\n",
       "    }\n",
       "\n",
       "    .dataframe thead th {\n",
       "        text-align: right;\n",
       "    }\n",
       "</style>\n",
       "<table border=\"1\" class=\"dataframe\">\n",
       "  <thead>\n",
       "    <tr style=\"text-align: right;\">\n",
       "      <th></th>\n",
       "      <th>age</th>\n",
       "      <th>sex</th>\n",
       "      <th>bmi</th>\n",
       "      <th>children</th>\n",
       "      <th>smoker</th>\n",
       "      <th>region</th>\n",
       "      <th>charges</th>\n",
       "    </tr>\n",
       "  </thead>\n",
       "  <tbody>\n",
       "    <tr>\n",
       "      <th>0</th>\n",
       "      <td>19</td>\n",
       "      <td>female</td>\n",
       "      <td>27.900</td>\n",
       "      <td>0</td>\n",
       "      <td>yes</td>\n",
       "      <td>southwest</td>\n",
       "      <td>16884.92400</td>\n",
       "    </tr>\n",
       "    <tr>\n",
       "      <th>1</th>\n",
       "      <td>18</td>\n",
       "      <td>male</td>\n",
       "      <td>33.770</td>\n",
       "      <td>1</td>\n",
       "      <td>no</td>\n",
       "      <td>southeast</td>\n",
       "      <td>1725.55230</td>\n",
       "    </tr>\n",
       "    <tr>\n",
       "      <th>2</th>\n",
       "      <td>28</td>\n",
       "      <td>male</td>\n",
       "      <td>33.000</td>\n",
       "      <td>3</td>\n",
       "      <td>no</td>\n",
       "      <td>southeast</td>\n",
       "      <td>4449.46200</td>\n",
       "    </tr>\n",
       "    <tr>\n",
       "      <th>3</th>\n",
       "      <td>33</td>\n",
       "      <td>male</td>\n",
       "      <td>22.705</td>\n",
       "      <td>0</td>\n",
       "      <td>no</td>\n",
       "      <td>northwest</td>\n",
       "      <td>21984.47061</td>\n",
       "    </tr>\n",
       "    <tr>\n",
       "      <th>4</th>\n",
       "      <td>32</td>\n",
       "      <td>male</td>\n",
       "      <td>28.880</td>\n",
       "      <td>0</td>\n",
       "      <td>no</td>\n",
       "      <td>northwest</td>\n",
       "      <td>3866.85520</td>\n",
       "    </tr>\n",
       "    <tr>\n",
       "      <th>...</th>\n",
       "      <td>...</td>\n",
       "      <td>...</td>\n",
       "      <td>...</td>\n",
       "      <td>...</td>\n",
       "      <td>...</td>\n",
       "      <td>...</td>\n",
       "      <td>...</td>\n",
       "    </tr>\n",
       "    <tr>\n",
       "      <th>1333</th>\n",
       "      <td>50</td>\n",
       "      <td>male</td>\n",
       "      <td>30.970</td>\n",
       "      <td>3</td>\n",
       "      <td>no</td>\n",
       "      <td>northwest</td>\n",
       "      <td>10600.54830</td>\n",
       "    </tr>\n",
       "    <tr>\n",
       "      <th>1334</th>\n",
       "      <td>18</td>\n",
       "      <td>female</td>\n",
       "      <td>31.920</td>\n",
       "      <td>0</td>\n",
       "      <td>no</td>\n",
       "      <td>northeast</td>\n",
       "      <td>2205.98080</td>\n",
       "    </tr>\n",
       "    <tr>\n",
       "      <th>1335</th>\n",
       "      <td>18</td>\n",
       "      <td>female</td>\n",
       "      <td>36.850</td>\n",
       "      <td>0</td>\n",
       "      <td>no</td>\n",
       "      <td>southeast</td>\n",
       "      <td>1629.83350</td>\n",
       "    </tr>\n",
       "    <tr>\n",
       "      <th>1336</th>\n",
       "      <td>21</td>\n",
       "      <td>female</td>\n",
       "      <td>25.800</td>\n",
       "      <td>0</td>\n",
       "      <td>no</td>\n",
       "      <td>southwest</td>\n",
       "      <td>2007.94500</td>\n",
       "    </tr>\n",
       "    <tr>\n",
       "      <th>1337</th>\n",
       "      <td>61</td>\n",
       "      <td>female</td>\n",
       "      <td>29.070</td>\n",
       "      <td>0</td>\n",
       "      <td>yes</td>\n",
       "      <td>northwest</td>\n",
       "      <td>29141.36030</td>\n",
       "    </tr>\n",
       "  </tbody>\n",
       "</table>\n",
       "<p>1338 rows × 7 columns</p>\n",
       "</div>"
      ]
     },
     "metadata": {},
     "execution_count": 295
    }
   ],
   "metadata": {}
  },
  {
   "cell_type": "code",
   "execution_count": 296,
   "source": [
    "insurance_one_hot = pd.get_dummies(insurance)\r\n",
    "insurance_one_hot.head()"
   ],
   "outputs": [
    {
     "output_type": "execute_result",
     "data": {
      "text/plain": [
       "   age     bmi  children      charges  sex_female  sex_male  smoker_no  \\\n",
       "0   19  27.900         0  16884.92400           1         0          0   \n",
       "1   18  33.770         1   1725.55230           0         1          1   \n",
       "2   28  33.000         3   4449.46200           0         1          1   \n",
       "3   33  22.705         0  21984.47061           0         1          1   \n",
       "4   32  28.880         0   3866.85520           0         1          1   \n",
       "\n",
       "   smoker_yes  region_northeast  region_northwest  region_southeast  \\\n",
       "0           1                 0                 0                 0   \n",
       "1           0                 0                 0                 1   \n",
       "2           0                 0                 0                 1   \n",
       "3           0                 0                 1                 0   \n",
       "4           0                 0                 1                 0   \n",
       "\n",
       "   region_southwest  \n",
       "0                 1  \n",
       "1                 0  \n",
       "2                 0  \n",
       "3                 0  \n",
       "4                 0  "
      ],
      "text/html": [
       "<div>\n",
       "<style scoped>\n",
       "    .dataframe tbody tr th:only-of-type {\n",
       "        vertical-align: middle;\n",
       "    }\n",
       "\n",
       "    .dataframe tbody tr th {\n",
       "        vertical-align: top;\n",
       "    }\n",
       "\n",
       "    .dataframe thead th {\n",
       "        text-align: right;\n",
       "    }\n",
       "</style>\n",
       "<table border=\"1\" class=\"dataframe\">\n",
       "  <thead>\n",
       "    <tr style=\"text-align: right;\">\n",
       "      <th></th>\n",
       "      <th>age</th>\n",
       "      <th>bmi</th>\n",
       "      <th>children</th>\n",
       "      <th>charges</th>\n",
       "      <th>sex_female</th>\n",
       "      <th>sex_male</th>\n",
       "      <th>smoker_no</th>\n",
       "      <th>smoker_yes</th>\n",
       "      <th>region_northeast</th>\n",
       "      <th>region_northwest</th>\n",
       "      <th>region_southeast</th>\n",
       "      <th>region_southwest</th>\n",
       "    </tr>\n",
       "  </thead>\n",
       "  <tbody>\n",
       "    <tr>\n",
       "      <th>0</th>\n",
       "      <td>19</td>\n",
       "      <td>27.900</td>\n",
       "      <td>0</td>\n",
       "      <td>16884.92400</td>\n",
       "      <td>1</td>\n",
       "      <td>0</td>\n",
       "      <td>0</td>\n",
       "      <td>1</td>\n",
       "      <td>0</td>\n",
       "      <td>0</td>\n",
       "      <td>0</td>\n",
       "      <td>1</td>\n",
       "    </tr>\n",
       "    <tr>\n",
       "      <th>1</th>\n",
       "      <td>18</td>\n",
       "      <td>33.770</td>\n",
       "      <td>1</td>\n",
       "      <td>1725.55230</td>\n",
       "      <td>0</td>\n",
       "      <td>1</td>\n",
       "      <td>1</td>\n",
       "      <td>0</td>\n",
       "      <td>0</td>\n",
       "      <td>0</td>\n",
       "      <td>1</td>\n",
       "      <td>0</td>\n",
       "    </tr>\n",
       "    <tr>\n",
       "      <th>2</th>\n",
       "      <td>28</td>\n",
       "      <td>33.000</td>\n",
       "      <td>3</td>\n",
       "      <td>4449.46200</td>\n",
       "      <td>0</td>\n",
       "      <td>1</td>\n",
       "      <td>1</td>\n",
       "      <td>0</td>\n",
       "      <td>0</td>\n",
       "      <td>0</td>\n",
       "      <td>1</td>\n",
       "      <td>0</td>\n",
       "    </tr>\n",
       "    <tr>\n",
       "      <th>3</th>\n",
       "      <td>33</td>\n",
       "      <td>22.705</td>\n",
       "      <td>0</td>\n",
       "      <td>21984.47061</td>\n",
       "      <td>0</td>\n",
       "      <td>1</td>\n",
       "      <td>1</td>\n",
       "      <td>0</td>\n",
       "      <td>0</td>\n",
       "      <td>1</td>\n",
       "      <td>0</td>\n",
       "      <td>0</td>\n",
       "    </tr>\n",
       "    <tr>\n",
       "      <th>4</th>\n",
       "      <td>32</td>\n",
       "      <td>28.880</td>\n",
       "      <td>0</td>\n",
       "      <td>3866.85520</td>\n",
       "      <td>0</td>\n",
       "      <td>1</td>\n",
       "      <td>1</td>\n",
       "      <td>0</td>\n",
       "      <td>0</td>\n",
       "      <td>1</td>\n",
       "      <td>0</td>\n",
       "      <td>0</td>\n",
       "    </tr>\n",
       "  </tbody>\n",
       "</table>\n",
       "</div>"
      ]
     },
     "metadata": {},
     "execution_count": 296
    }
   ],
   "metadata": {}
  },
  {
   "cell_type": "code",
   "execution_count": 297,
   "source": [
    "X = insurance_one_hot.drop('charges', axis=1)\r\n",
    "y = insurance_one_hot['charges']"
   ],
   "outputs": [],
   "metadata": {}
  },
  {
   "cell_type": "code",
   "execution_count": 298,
   "source": [
    "X, y"
   ],
   "outputs": [
    {
     "output_type": "execute_result",
     "data": {
      "text/plain": [
       "(      age     bmi  children  sex_female  sex_male  smoker_no  smoker_yes  \\\n",
       " 0      19  27.900         0           1         0          0           1   \n",
       " 1      18  33.770         1           0         1          1           0   \n",
       " 2      28  33.000         3           0         1          1           0   \n",
       " 3      33  22.705         0           0         1          1           0   \n",
       " 4      32  28.880         0           0         1          1           0   \n",
       " ...   ...     ...       ...         ...       ...        ...         ...   \n",
       " 1333   50  30.970         3           0         1          1           0   \n",
       " 1334   18  31.920         0           1         0          1           0   \n",
       " 1335   18  36.850         0           1         0          1           0   \n",
       " 1336   21  25.800         0           1         0          1           0   \n",
       " 1337   61  29.070         0           1         0          0           1   \n",
       " \n",
       "       region_northeast  region_northwest  region_southeast  region_southwest  \n",
       " 0                    0                 0                 0                 1  \n",
       " 1                    0                 0                 1                 0  \n",
       " 2                    0                 0                 1                 0  \n",
       " 3                    0                 1                 0                 0  \n",
       " 4                    0                 1                 0                 0  \n",
       " ...                ...               ...               ...               ...  \n",
       " 1333                 0                 1                 0                 0  \n",
       " 1334                 1                 0                 0                 0  \n",
       " 1335                 0                 0                 1                 0  \n",
       " 1336                 0                 0                 0                 1  \n",
       " 1337                 0                 1                 0                 0  \n",
       " \n",
       " [1338 rows x 11 columns],\n",
       " 0       16884.92400\n",
       " 1        1725.55230\n",
       " 2        4449.46200\n",
       " 3       21984.47061\n",
       " 4        3866.85520\n",
       "            ...     \n",
       " 1333    10600.54830\n",
       " 1334     2205.98080\n",
       " 1335     1629.83350\n",
       " 1336     2007.94500\n",
       " 1337    29141.36030\n",
       " Name: charges, Length: 1338, dtype: float64)"
      ]
     },
     "metadata": {},
     "execution_count": 298
    }
   ],
   "metadata": {}
  },
  {
   "cell_type": "code",
   "execution_count": 299,
   "source": [
    "from sklearn.model_selection import train_test_split\r\n",
    "X_train, X_test, y_train, y_test = train_test_split(X, y, test_size=0.2, random_state=42)\r\n",
    "\r\n",
    "len(X), len(X_train), len(X_test)"
   ],
   "outputs": [
    {
     "output_type": "execute_result",
     "data": {
      "text/plain": [
       "(1338, 1070, 268)"
      ]
     },
     "metadata": {},
     "execution_count": 299
    }
   ],
   "metadata": {}
  },
  {
   "cell_type": "code",
   "execution_count": 300,
   "source": [
    "tf.random.set_seed(42)\r\n",
    "\r\n",
    "model = tf.keras.Sequential()\r\n",
    "model.add(tf.keras.layers.Dense(100))\r\n",
    "model.add(tf.keras.layers.Dense(10))\r\n",
    "model.add(tf.keras.layers.Dense(1))\r\n",
    "\r\n",
    "model.compile(\r\n",
    "    loss=tf.keras.losses.mae,\r\n",
    "    optimizer=tf.keras.optimizers.Adam(learning_rate=0.01),\r\n",
    "    metrics=[\"mae\"],\r\n",
    ")\r\n",
    "\r\n",
    "history = model.fit(X_train, y_train, epochs=100)\r\n"
   ],
   "outputs": [
    {
     "output_type": "stream",
     "name": "stdout",
     "text": [
      "Epoch 1/100\n",
      "34/34 [==============================] - 1s 4ms/step - loss: 11434.4619 - mae: 11434.4619\n",
      "Epoch 2/100\n",
      "34/34 [==============================] - 0s 4ms/step - loss: 7504.8208 - mae: 7504.8208\n",
      "Epoch 3/100\n",
      "34/34 [==============================] - 0s 5ms/step - loss: 7289.5034 - mae: 7289.5034\n",
      "Epoch 4/100\n",
      "34/34 [==============================] - 0s 4ms/step - loss: 7064.4629 - mae: 7064.4629\n",
      "Epoch 5/100\n",
      "34/34 [==============================] - 0s 4ms/step - loss: 6825.5923 - mae: 6825.5923\n",
      "Epoch 6/100\n",
      "34/34 [==============================] - 0s 4ms/step - loss: 6569.6011 - mae: 6569.6011\n",
      "Epoch 7/100\n",
      "34/34 [==============================] - 0s 4ms/step - loss: 6442.8633 - mae: 6442.8633\n",
      "Epoch 8/100\n",
      "34/34 [==============================] - 0s 4ms/step - loss: 6254.7827 - mae: 6254.7827\n",
      "Epoch 9/100\n",
      "34/34 [==============================] - 0s 4ms/step - loss: 6121.6006 - mae: 6121.6006\n",
      "Epoch 10/100\n",
      "34/34 [==============================] - 0s 4ms/step - loss: 5940.2461 - mae: 5940.2461\n",
      "Epoch 11/100\n",
      "34/34 [==============================] - 0s 4ms/step - loss: 5689.8677 - mae: 5689.8677\n",
      "Epoch 12/100\n",
      "34/34 [==============================] - 0s 4ms/step - loss: 5351.7539 - mae: 5351.7539\n",
      "Epoch 13/100\n",
      "34/34 [==============================] - 0s 4ms/step - loss: 4868.8203 - mae: 4868.8203\n",
      "Epoch 14/100\n",
      "34/34 [==============================] - 0s 4ms/step - loss: 4225.0791 - mae: 4225.0791\n",
      "Epoch 15/100\n",
      "34/34 [==============================] - 0s 4ms/step - loss: 4050.5991 - mae: 4050.5991\n",
      "Epoch 16/100\n",
      "34/34 [==============================] - 0s 4ms/step - loss: 3840.3223 - mae: 3840.3223\n",
      "Epoch 17/100\n",
      "34/34 [==============================] - 0s 4ms/step - loss: 3802.4250 - mae: 3802.4250\n",
      "Epoch 18/100\n",
      "34/34 [==============================] - 0s 4ms/step - loss: 3795.2825 - mae: 3795.2825\n",
      "Epoch 19/100\n",
      "34/34 [==============================] - 0s 4ms/step - loss: 3756.2009 - mae: 3756.2009\n",
      "Epoch 20/100\n",
      "34/34 [==============================] - 0s 4ms/step - loss: 3792.3643 - mae: 3792.3643\n",
      "Epoch 21/100\n",
      "34/34 [==============================] - 0s 4ms/step - loss: 3797.9590 - mae: 3797.9590\n",
      "Epoch 22/100\n",
      "34/34 [==============================] - 0s 4ms/step - loss: 3806.4919 - mae: 3806.4919\n",
      "Epoch 23/100\n",
      "34/34 [==============================] - 0s 4ms/step - loss: 3742.5549 - mae: 3742.5549\n",
      "Epoch 24/100\n",
      "34/34 [==============================] - 0s 4ms/step - loss: 3708.5242 - mae: 3708.5242\n",
      "Epoch 25/100\n",
      "34/34 [==============================] - 0s 4ms/step - loss: 3728.8184 - mae: 3728.8184\n",
      "Epoch 26/100\n",
      "34/34 [==============================] - 0s 4ms/step - loss: 3698.3174 - mae: 3698.3174\n",
      "Epoch 27/100\n",
      "34/34 [==============================] - 0s 4ms/step - loss: 3707.6055 - mae: 3707.6055\n",
      "Epoch 28/100\n",
      "34/34 [==============================] - 0s 4ms/step - loss: 3692.9561 - mae: 3692.9561\n",
      "Epoch 29/100\n",
      "34/34 [==============================] - 0s 4ms/step - loss: 3694.4290 - mae: 3694.4290\n",
      "Epoch 30/100\n",
      "34/34 [==============================] - 0s 3ms/step - loss: 3675.4312 - mae: 3675.4312\n",
      "Epoch 31/100\n",
      "34/34 [==============================] - 0s 4ms/step - loss: 3696.4048 - mae: 3696.4048\n",
      "Epoch 32/100\n",
      "34/34 [==============================] - 0s 3ms/step - loss: 3623.0762 - mae: 3623.0762\n",
      "Epoch 33/100\n",
      "34/34 [==============================] - 0s 3ms/step - loss: 3637.3323 - mae: 3637.3323\n",
      "Epoch 34/100\n",
      "34/34 [==============================] - 0s 4ms/step - loss: 3681.0012 - mae: 3681.0012\n",
      "Epoch 35/100\n",
      "34/34 [==============================] - 0s 3ms/step - loss: 3591.9526 - mae: 3591.9526\n",
      "Epoch 36/100\n",
      "34/34 [==============================] - 0s 3ms/step - loss: 3601.7791 - mae: 3601.7791\n",
      "Epoch 37/100\n",
      "34/34 [==============================] - 0s 3ms/step - loss: 3580.9326 - mae: 3580.9326\n",
      "Epoch 38/100\n",
      "34/34 [==============================] - 0s 3ms/step - loss: 3558.8591 - mae: 3558.8591\n",
      "Epoch 39/100\n",
      "34/34 [==============================] - 0s 4ms/step - loss: 3604.4297 - mae: 3604.4297\n",
      "Epoch 40/100\n",
      "34/34 [==============================] - 0s 4ms/step - loss: 3563.4739 - mae: 3563.4739\n",
      "Epoch 41/100\n",
      "34/34 [==============================] - 0s 4ms/step - loss: 3528.8899 - mae: 3528.8896\n",
      "Epoch 42/100\n",
      "34/34 [==============================] - 0s 4ms/step - loss: 3542.0120 - mae: 3542.0120\n",
      "Epoch 43/100\n",
      "34/34 [==============================] - 0s 4ms/step - loss: 3617.1868 - mae: 3617.1868\n",
      "Epoch 44/100\n",
      "34/34 [==============================] - 0s 3ms/step - loss: 3592.9187 - mae: 3592.9187\n",
      "Epoch 45/100\n",
      "34/34 [==============================] - 0s 3ms/step - loss: 3532.8694 - mae: 3532.8694\n",
      "Epoch 46/100\n",
      "34/34 [==============================] - 0s 3ms/step - loss: 3519.2317 - mae: 3519.2317\n",
      "Epoch 47/100\n",
      "34/34 [==============================] - 0s 3ms/step - loss: 3573.8423 - mae: 3573.8423\n",
      "Epoch 48/100\n",
      "34/34 [==============================] - 0s 4ms/step - loss: 3540.4072 - mae: 3540.4072\n",
      "Epoch 49/100\n",
      "34/34 [==============================] - 0s 3ms/step - loss: 3530.1892 - mae: 3530.1892\n",
      "Epoch 50/100\n",
      "34/34 [==============================] - 0s 3ms/step - loss: 3570.8066 - mae: 3570.8066\n",
      "Epoch 51/100\n",
      "34/34 [==============================] - 0s 3ms/step - loss: 3516.1394 - mae: 3516.1394\n",
      "Epoch 52/100\n",
      "34/34 [==============================] - 0s 3ms/step - loss: 3501.1714 - mae: 3501.1714\n",
      "Epoch 53/100\n",
      "34/34 [==============================] - 0s 4ms/step - loss: 3497.5618 - mae: 3497.5618\n",
      "Epoch 54/100\n",
      "34/34 [==============================] - 0s 4ms/step - loss: 3548.6255 - mae: 3548.6255\n",
      "Epoch 55/100\n",
      "34/34 [==============================] - 0s 4ms/step - loss: 3566.4890 - mae: 3566.4890\n",
      "Epoch 56/100\n",
      "34/34 [==============================] - 0s 4ms/step - loss: 3524.9321 - mae: 3524.9321\n",
      "Epoch 57/100\n",
      "34/34 [==============================] - 0s 4ms/step - loss: 3508.0144 - mae: 3508.0144\n",
      "Epoch 58/100\n",
      "34/34 [==============================] - 0s 4ms/step - loss: 3661.6250 - mae: 3661.6250\n",
      "Epoch 59/100\n",
      "34/34 [==============================] - 0s 4ms/step - loss: 3532.4673 - mae: 3532.4673\n",
      "Epoch 60/100\n",
      "34/34 [==============================] - 0s 4ms/step - loss: 3519.2261 - mae: 3519.2261\n",
      "Epoch 61/100\n",
      "34/34 [==============================] - 0s 4ms/step - loss: 3532.0359 - mae: 3532.0359\n",
      "Epoch 62/100\n",
      "34/34 [==============================] - 0s 4ms/step - loss: 3595.8840 - mae: 3595.8840\n",
      "Epoch 63/100\n",
      "34/34 [==============================] - 0s 4ms/step - loss: 3521.6746 - mae: 3521.6746\n",
      "Epoch 64/100\n",
      "34/34 [==============================] - 0s 4ms/step - loss: 3510.0857 - mae: 3510.0857\n",
      "Epoch 65/100\n",
      "34/34 [==============================] - 0s 4ms/step - loss: 3494.0933 - mae: 3494.0933\n",
      "Epoch 66/100\n",
      "34/34 [==============================] - 0s 4ms/step - loss: 3616.7236 - mae: 3616.7236\n",
      "Epoch 67/100\n",
      "34/34 [==============================] - 0s 4ms/step - loss: 3500.3889 - mae: 3500.3889\n",
      "Epoch 68/100\n",
      "34/34 [==============================] - 0s 4ms/step - loss: 3544.1343 - mae: 3544.1343\n",
      "Epoch 69/100\n",
      "34/34 [==============================] - 0s 4ms/step - loss: 3501.1125 - mae: 3501.1125\n",
      "Epoch 70/100\n",
      "34/34 [==============================] - 0s 4ms/step - loss: 3512.0959 - mae: 3512.0959\n",
      "Epoch 71/100\n",
      "34/34 [==============================] - 0s 4ms/step - loss: 3508.9949 - mae: 3508.9949\n",
      "Epoch 72/100\n",
      "34/34 [==============================] - 0s 4ms/step - loss: 3578.1655 - mae: 3578.1655\n",
      "Epoch 73/100\n",
      "34/34 [==============================] - 0s 4ms/step - loss: 3521.2048 - mae: 3521.2048\n",
      "Epoch 74/100\n",
      "34/34 [==============================] - 0s 3ms/step - loss: 3529.0347 - mae: 3529.0347\n",
      "Epoch 75/100\n",
      "34/34 [==============================] - 0s 3ms/step - loss: 3530.7144 - mae: 3530.7144\n",
      "Epoch 76/100\n",
      "34/34 [==============================] - 0s 3ms/step - loss: 3534.0562 - mae: 3534.0562\n",
      "Epoch 77/100\n",
      "34/34 [==============================] - 0s 3ms/step - loss: 3751.2600 - mae: 3751.2600\n",
      "Epoch 78/100\n",
      "34/34 [==============================] - 0s 4ms/step - loss: 3521.9622 - mae: 3521.9622\n",
      "Epoch 79/100\n",
      "34/34 [==============================] - 0s 4ms/step - loss: 3530.1150 - mae: 3530.1150\n",
      "Epoch 80/100\n",
      "34/34 [==============================] - 0s 3ms/step - loss: 3503.7419 - mae: 3503.7419\n",
      "Epoch 81/100\n",
      "34/34 [==============================] - 0s 3ms/step - loss: 3540.0784 - mae: 3540.0784\n",
      "Epoch 82/100\n",
      "34/34 [==============================] - 0s 3ms/step - loss: 3586.4258 - mae: 3586.4258\n",
      "Epoch 83/100\n",
      "34/34 [==============================] - 0s 4ms/step - loss: 3534.7681 - mae: 3534.7681\n",
      "Epoch 84/100\n",
      "34/34 [==============================] - 0s 4ms/step - loss: 3504.1975 - mae: 3504.1975\n",
      "Epoch 85/100\n",
      "34/34 [==============================] - 0s 3ms/step - loss: 3511.4453 - mae: 3511.4453\n",
      "Epoch 86/100\n",
      "34/34 [==============================] - 0s 3ms/step - loss: 3494.7727 - mae: 3494.7727\n",
      "Epoch 87/100\n",
      "34/34 [==============================] - 0s 4ms/step - loss: 3547.0977 - mae: 3547.0977\n",
      "Epoch 88/100\n",
      "34/34 [==============================] - 0s 4ms/step - loss: 3623.0786 - mae: 3623.0786\n",
      "Epoch 89/100\n",
      "34/34 [==============================] - 0s 4ms/step - loss: 3536.4414 - mae: 3536.4414\n",
      "Epoch 90/100\n",
      "34/34 [==============================] - 0s 4ms/step - loss: 3511.9292 - mae: 3511.9292\n",
      "Epoch 91/100\n",
      "34/34 [==============================] - 0s 4ms/step - loss: 3510.8318 - mae: 3510.8318\n",
      "Epoch 92/100\n",
      "34/34 [==============================] - 0s 4ms/step - loss: 3528.1875 - mae: 3528.1875\n",
      "Epoch 93/100\n",
      "34/34 [==============================] - 0s 4ms/step - loss: 3618.0715 - mae: 3618.0715\n",
      "Epoch 94/100\n",
      "34/34 [==============================] - 0s 4ms/step - loss: 3607.2793 - mae: 3607.2793\n",
      "Epoch 95/100\n",
      "34/34 [==============================] - 0s 4ms/step - loss: 3516.0244 - mae: 3516.0244\n",
      "Epoch 96/100\n",
      "34/34 [==============================] - 0s 4ms/step - loss: 3542.6108 - mae: 3542.6108\n",
      "Epoch 97/100\n",
      "34/34 [==============================] - 0s 4ms/step - loss: 3586.2146 - mae: 3586.2146\n",
      "Epoch 98/100\n",
      "34/34 [==============================] - 0s 4ms/step - loss: 3541.6707 - mae: 3541.6707\n",
      "Epoch 99/100\n",
      "34/34 [==============================] - 0s 4ms/step - loss: 3533.6943 - mae: 3533.6943\n",
      "Epoch 100/100\n",
      "34/34 [==============================] - 0s 4ms/step - loss: 3504.5042 - mae: 3504.5042\n"
     ]
    }
   ],
   "metadata": {}
  },
  {
   "cell_type": "code",
   "execution_count": 301,
   "source": [
    "model.evaluate(X_test, y_test)"
   ],
   "outputs": [
    {
     "output_type": "stream",
     "name": "stdout",
     "text": [
      "9/9 [==============================] - 0s 2ms/step - loss: 3159.0825 - mae: 3159.0825\n"
     ]
    },
    {
     "output_type": "execute_result",
     "data": {
      "text/plain": [
       "[3159.08251953125, 3159.08251953125]"
      ]
     },
     "metadata": {},
     "execution_count": 301
    }
   ],
   "metadata": {}
  },
  {
   "cell_type": "code",
   "execution_count": 302,
   "source": [
    "pd.DataFrame(history.history).plot()\r\n",
    "plt.ylabel('loss')\r\n",
    "plt.xlabel('epochs')"
   ],
   "outputs": [
    {
     "output_type": "execute_result",
     "data": {
      "text/plain": [
       "Text(0.5, 0, 'epochs')"
      ]
     },
     "metadata": {},
     "execution_count": 302
    },
    {
     "output_type": "display_data",
     "data": {
      "text/plain": [
       "<Figure size 432x288 with 1 Axes>"
      ],
      "image/svg+xml": "<?xml version=\"1.0\" encoding=\"utf-8\" standalone=\"no\"?>\r\n<!DOCTYPE svg PUBLIC \"-//W3C//DTD SVG 1.1//EN\"\r\n  \"http://www.w3.org/Graphics/SVG/1.1/DTD/svg11.dtd\">\r\n<svg height=\"262.19625pt\" version=\"1.1\" viewBox=\"0 0 401.690625 262.19625\" width=\"401.690625pt\" xmlns=\"http://www.w3.org/2000/svg\" xmlns:xlink=\"http://www.w3.org/1999/xlink\">\r\n <metadata>\r\n  <rdf:RDF xmlns:cc=\"http://creativecommons.org/ns#\" xmlns:dc=\"http://purl.org/dc/elements/1.1/\" xmlns:rdf=\"http://www.w3.org/1999/02/22-rdf-syntax-ns#\">\r\n   <cc:Work>\r\n    <dc:type rdf:resource=\"http://purl.org/dc/dcmitype/StillImage\"/>\r\n    <dc:date>2021-08-10T11:00:21.762958</dc:date>\r\n    <dc:format>image/svg+xml</dc:format>\r\n    <dc:creator>\r\n     <cc:Agent>\r\n      <dc:title>Matplotlib v3.4.2, https://matplotlib.org/</dc:title>\r\n     </cc:Agent>\r\n    </dc:creator>\r\n   </cc:Work>\r\n  </rdf:RDF>\r\n </metadata>\r\n <defs>\r\n  <style type=\"text/css\">*{stroke-linecap:butt;stroke-linejoin:round;}</style>\r\n </defs>\r\n <g id=\"figure_1\">\r\n  <g id=\"patch_1\">\r\n   <path d=\"M 0 262.19625 \r\nL 401.690625 262.19625 \r\nL 401.690625 0 \r\nL 0 0 \r\nz\r\n\" style=\"fill:none;\"/>\r\n  </g>\r\n  <g id=\"axes_1\">\r\n   <g id=\"patch_2\">\r\n    <path d=\"M 59.690625 224.64 \r\nL 394.490625 224.64 \r\nL 394.490625 7.2 \r\nL 59.690625 7.2 \r\nz\r\n\" style=\"fill:#ffffff;\"/>\r\n   </g>\r\n   <g id=\"matplotlib.axis_1\">\r\n    <g id=\"xtick_1\">\r\n     <g id=\"line2d_1\">\r\n      <defs>\r\n       <path d=\"M 0 0 \r\nL 0 3.5 \r\n\" id=\"m2d8fa4763f\" style=\"stroke:#000000;stroke-width:0.8;\"/>\r\n      </defs>\r\n      <g>\r\n       <use style=\"stroke:#000000;stroke-width:0.8;\" x=\"74.908807\" xlink:href=\"#m2d8fa4763f\" y=\"224.64\"/>\r\n      </g>\r\n     </g>\r\n     <g id=\"text_1\">\r\n      <!-- 0 -->\r\n      <g transform=\"translate(71.727557 239.238437)scale(0.1 -0.1)\">\r\n       <defs>\r\n        <path d=\"M 2034 4250 \r\nQ 1547 4250 1301 3770 \r\nQ 1056 3291 1056 2328 \r\nQ 1056 1369 1301 889 \r\nQ 1547 409 2034 409 \r\nQ 2525 409 2770 889 \r\nQ 3016 1369 3016 2328 \r\nQ 3016 3291 2770 3770 \r\nQ 2525 4250 2034 4250 \r\nz\r\nM 2034 4750 \r\nQ 2819 4750 3233 4129 \r\nQ 3647 3509 3647 2328 \r\nQ 3647 1150 3233 529 \r\nQ 2819 -91 2034 -91 \r\nQ 1250 -91 836 529 \r\nQ 422 1150 422 2328 \r\nQ 422 3509 836 4129 \r\nQ 1250 4750 2034 4750 \r\nz\r\n\" id=\"DejaVuSans-30\" transform=\"scale(0.015625)\"/>\r\n       </defs>\r\n       <use xlink:href=\"#DejaVuSans-30\"/>\r\n      </g>\r\n     </g>\r\n    </g>\r\n    <g id=\"xtick_2\">\r\n     <g id=\"line2d_2\">\r\n      <g>\r\n       <use style=\"stroke:#000000;stroke-width:0.8;\" x=\"136.39641\" xlink:href=\"#m2d8fa4763f\" y=\"224.64\"/>\r\n      </g>\r\n     </g>\r\n     <g id=\"text_2\">\r\n      <!-- 20 -->\r\n      <g transform=\"translate(130.03391 239.238437)scale(0.1 -0.1)\">\r\n       <defs>\r\n        <path d=\"M 1228 531 \r\nL 3431 531 \r\nL 3431 0 \r\nL 469 0 \r\nL 469 531 \r\nQ 828 903 1448 1529 \r\nQ 2069 2156 2228 2338 \r\nQ 2531 2678 2651 2914 \r\nQ 2772 3150 2772 3378 \r\nQ 2772 3750 2511 3984 \r\nQ 2250 4219 1831 4219 \r\nQ 1534 4219 1204 4116 \r\nQ 875 4013 500 3803 \r\nL 500 4441 \r\nQ 881 4594 1212 4672 \r\nQ 1544 4750 1819 4750 \r\nQ 2544 4750 2975 4387 \r\nQ 3406 4025 3406 3419 \r\nQ 3406 3131 3298 2873 \r\nQ 3191 2616 2906 2266 \r\nQ 2828 2175 2409 1742 \r\nQ 1991 1309 1228 531 \r\nz\r\n\" id=\"DejaVuSans-32\" transform=\"scale(0.015625)\"/>\r\n       </defs>\r\n       <use xlink:href=\"#DejaVuSans-32\"/>\r\n       <use x=\"63.623047\" xlink:href=\"#DejaVuSans-30\"/>\r\n      </g>\r\n     </g>\r\n    </g>\r\n    <g id=\"xtick_3\">\r\n     <g id=\"line2d_3\">\r\n      <g>\r\n       <use style=\"stroke:#000000;stroke-width:0.8;\" x=\"197.884013\" xlink:href=\"#m2d8fa4763f\" y=\"224.64\"/>\r\n      </g>\r\n     </g>\r\n     <g id=\"text_3\">\r\n      <!-- 40 -->\r\n      <g transform=\"translate(191.521513 239.238437)scale(0.1 -0.1)\">\r\n       <defs>\r\n        <path d=\"M 2419 4116 \r\nL 825 1625 \r\nL 2419 1625 \r\nL 2419 4116 \r\nz\r\nM 2253 4666 \r\nL 3047 4666 \r\nL 3047 1625 \r\nL 3713 1625 \r\nL 3713 1100 \r\nL 3047 1100 \r\nL 3047 0 \r\nL 2419 0 \r\nL 2419 1100 \r\nL 313 1100 \r\nL 313 1709 \r\nL 2253 4666 \r\nz\r\n\" id=\"DejaVuSans-34\" transform=\"scale(0.015625)\"/>\r\n       </defs>\r\n       <use xlink:href=\"#DejaVuSans-34\"/>\r\n       <use x=\"63.623047\" xlink:href=\"#DejaVuSans-30\"/>\r\n      </g>\r\n     </g>\r\n    </g>\r\n    <g id=\"xtick_4\">\r\n     <g id=\"line2d_4\">\r\n      <g>\r\n       <use style=\"stroke:#000000;stroke-width:0.8;\" x=\"259.371617\" xlink:href=\"#m2d8fa4763f\" y=\"224.64\"/>\r\n      </g>\r\n     </g>\r\n     <g id=\"text_4\">\r\n      <!-- 60 -->\r\n      <g transform=\"translate(253.009117 239.238437)scale(0.1 -0.1)\">\r\n       <defs>\r\n        <path d=\"M 2113 2584 \r\nQ 1688 2584 1439 2293 \r\nQ 1191 2003 1191 1497 \r\nQ 1191 994 1439 701 \r\nQ 1688 409 2113 409 \r\nQ 2538 409 2786 701 \r\nQ 3034 994 3034 1497 \r\nQ 3034 2003 2786 2293 \r\nQ 2538 2584 2113 2584 \r\nz\r\nM 3366 4563 \r\nL 3366 3988 \r\nQ 3128 4100 2886 4159 \r\nQ 2644 4219 2406 4219 \r\nQ 1781 4219 1451 3797 \r\nQ 1122 3375 1075 2522 \r\nQ 1259 2794 1537 2939 \r\nQ 1816 3084 2150 3084 \r\nQ 2853 3084 3261 2657 \r\nQ 3669 2231 3669 1497 \r\nQ 3669 778 3244 343 \r\nQ 2819 -91 2113 -91 \r\nQ 1303 -91 875 529 \r\nQ 447 1150 447 2328 \r\nQ 447 3434 972 4092 \r\nQ 1497 4750 2381 4750 \r\nQ 2619 4750 2861 4703 \r\nQ 3103 4656 3366 4563 \r\nz\r\n\" id=\"DejaVuSans-36\" transform=\"scale(0.015625)\"/>\r\n       </defs>\r\n       <use xlink:href=\"#DejaVuSans-36\"/>\r\n       <use x=\"63.623047\" xlink:href=\"#DejaVuSans-30\"/>\r\n      </g>\r\n     </g>\r\n    </g>\r\n    <g id=\"xtick_5\">\r\n     <g id=\"line2d_5\">\r\n      <g>\r\n       <use style=\"stroke:#000000;stroke-width:0.8;\" x=\"320.85922\" xlink:href=\"#m2d8fa4763f\" y=\"224.64\"/>\r\n      </g>\r\n     </g>\r\n     <g id=\"text_5\">\r\n      <!-- 80 -->\r\n      <g transform=\"translate(314.49672 239.238437)scale(0.1 -0.1)\">\r\n       <defs>\r\n        <path d=\"M 2034 2216 \r\nQ 1584 2216 1326 1975 \r\nQ 1069 1734 1069 1313 \r\nQ 1069 891 1326 650 \r\nQ 1584 409 2034 409 \r\nQ 2484 409 2743 651 \r\nQ 3003 894 3003 1313 \r\nQ 3003 1734 2745 1975 \r\nQ 2488 2216 2034 2216 \r\nz\r\nM 1403 2484 \r\nQ 997 2584 770 2862 \r\nQ 544 3141 544 3541 \r\nQ 544 4100 942 4425 \r\nQ 1341 4750 2034 4750 \r\nQ 2731 4750 3128 4425 \r\nQ 3525 4100 3525 3541 \r\nQ 3525 3141 3298 2862 \r\nQ 3072 2584 2669 2484 \r\nQ 3125 2378 3379 2068 \r\nQ 3634 1759 3634 1313 \r\nQ 3634 634 3220 271 \r\nQ 2806 -91 2034 -91 \r\nQ 1263 -91 848 271 \r\nQ 434 634 434 1313 \r\nQ 434 1759 690 2068 \r\nQ 947 2378 1403 2484 \r\nz\r\nM 1172 3481 \r\nQ 1172 3119 1398 2916 \r\nQ 1625 2713 2034 2713 \r\nQ 2441 2713 2670 2916 \r\nQ 2900 3119 2900 3481 \r\nQ 2900 3844 2670 4047 \r\nQ 2441 4250 2034 4250 \r\nQ 1625 4250 1398 4047 \r\nQ 1172 3844 1172 3481 \r\nz\r\n\" id=\"DejaVuSans-38\" transform=\"scale(0.015625)\"/>\r\n       </defs>\r\n       <use xlink:href=\"#DejaVuSans-38\"/>\r\n       <use x=\"63.623047\" xlink:href=\"#DejaVuSans-30\"/>\r\n      </g>\r\n     </g>\r\n    </g>\r\n    <g id=\"xtick_6\">\r\n     <g id=\"line2d_6\">\r\n      <g>\r\n       <use style=\"stroke:#000000;stroke-width:0.8;\" x=\"382.346823\" xlink:href=\"#m2d8fa4763f\" y=\"224.64\"/>\r\n      </g>\r\n     </g>\r\n     <g id=\"text_6\">\r\n      <!-- 100 -->\r\n      <g transform=\"translate(372.803073 239.238437)scale(0.1 -0.1)\">\r\n       <defs>\r\n        <path d=\"M 794 531 \r\nL 1825 531 \r\nL 1825 4091 \r\nL 703 3866 \r\nL 703 4441 \r\nL 1819 4666 \r\nL 2450 4666 \r\nL 2450 531 \r\nL 3481 531 \r\nL 3481 0 \r\nL 794 0 \r\nL 794 531 \r\nz\r\n\" id=\"DejaVuSans-31\" transform=\"scale(0.015625)\"/>\r\n       </defs>\r\n       <use xlink:href=\"#DejaVuSans-31\"/>\r\n       <use x=\"63.623047\" xlink:href=\"#DejaVuSans-30\"/>\r\n       <use x=\"127.246094\" xlink:href=\"#DejaVuSans-30\"/>\r\n      </g>\r\n     </g>\r\n    </g>\r\n    <g id=\"text_7\">\r\n     <!-- epochs -->\r\n     <g transform=\"translate(209.257813 252.916562)scale(0.1 -0.1)\">\r\n      <defs>\r\n       <path d=\"M 3597 1894 \r\nL 3597 1613 \r\nL 953 1613 \r\nQ 991 1019 1311 708 \r\nQ 1631 397 2203 397 \r\nQ 2534 397 2845 478 \r\nQ 3156 559 3463 722 \r\nL 3463 178 \r\nQ 3153 47 2828 -22 \r\nQ 2503 -91 2169 -91 \r\nQ 1331 -91 842 396 \r\nQ 353 884 353 1716 \r\nQ 353 2575 817 3079 \r\nQ 1281 3584 2069 3584 \r\nQ 2775 3584 3186 3129 \r\nQ 3597 2675 3597 1894 \r\nz\r\nM 3022 2063 \r\nQ 3016 2534 2758 2815 \r\nQ 2500 3097 2075 3097 \r\nQ 1594 3097 1305 2825 \r\nQ 1016 2553 972 2059 \r\nL 3022 2063 \r\nz\r\n\" id=\"DejaVuSans-65\" transform=\"scale(0.015625)\"/>\r\n       <path d=\"M 1159 525 \r\nL 1159 -1331 \r\nL 581 -1331 \r\nL 581 3500 \r\nL 1159 3500 \r\nL 1159 2969 \r\nQ 1341 3281 1617 3432 \r\nQ 1894 3584 2278 3584 \r\nQ 2916 3584 3314 3078 \r\nQ 3713 2572 3713 1747 \r\nQ 3713 922 3314 415 \r\nQ 2916 -91 2278 -91 \r\nQ 1894 -91 1617 61 \r\nQ 1341 213 1159 525 \r\nz\r\nM 3116 1747 \r\nQ 3116 2381 2855 2742 \r\nQ 2594 3103 2138 3103 \r\nQ 1681 3103 1420 2742 \r\nQ 1159 2381 1159 1747 \r\nQ 1159 1113 1420 752 \r\nQ 1681 391 2138 391 \r\nQ 2594 391 2855 752 \r\nQ 3116 1113 3116 1747 \r\nz\r\n\" id=\"DejaVuSans-70\" transform=\"scale(0.015625)\"/>\r\n       <path d=\"M 1959 3097 \r\nQ 1497 3097 1228 2736 \r\nQ 959 2375 959 1747 \r\nQ 959 1119 1226 758 \r\nQ 1494 397 1959 397 \r\nQ 2419 397 2687 759 \r\nQ 2956 1122 2956 1747 \r\nQ 2956 2369 2687 2733 \r\nQ 2419 3097 1959 3097 \r\nz\r\nM 1959 3584 \r\nQ 2709 3584 3137 3096 \r\nQ 3566 2609 3566 1747 \r\nQ 3566 888 3137 398 \r\nQ 2709 -91 1959 -91 \r\nQ 1206 -91 779 398 \r\nQ 353 888 353 1747 \r\nQ 353 2609 779 3096 \r\nQ 1206 3584 1959 3584 \r\nz\r\n\" id=\"DejaVuSans-6f\" transform=\"scale(0.015625)\"/>\r\n       <path d=\"M 3122 3366 \r\nL 3122 2828 \r\nQ 2878 2963 2633 3030 \r\nQ 2388 3097 2138 3097 \r\nQ 1578 3097 1268 2742 \r\nQ 959 2388 959 1747 \r\nQ 959 1106 1268 751 \r\nQ 1578 397 2138 397 \r\nQ 2388 397 2633 464 \r\nQ 2878 531 3122 666 \r\nL 3122 134 \r\nQ 2881 22 2623 -34 \r\nQ 2366 -91 2075 -91 \r\nQ 1284 -91 818 406 \r\nQ 353 903 353 1747 \r\nQ 353 2603 823 3093 \r\nQ 1294 3584 2113 3584 \r\nQ 2378 3584 2631 3529 \r\nQ 2884 3475 3122 3366 \r\nz\r\n\" id=\"DejaVuSans-63\" transform=\"scale(0.015625)\"/>\r\n       <path d=\"M 3513 2113 \r\nL 3513 0 \r\nL 2938 0 \r\nL 2938 2094 \r\nQ 2938 2591 2744 2837 \r\nQ 2550 3084 2163 3084 \r\nQ 1697 3084 1428 2787 \r\nQ 1159 2491 1159 1978 \r\nL 1159 0 \r\nL 581 0 \r\nL 581 4863 \r\nL 1159 4863 \r\nL 1159 2956 \r\nQ 1366 3272 1645 3428 \r\nQ 1925 3584 2291 3584 \r\nQ 2894 3584 3203 3211 \r\nQ 3513 2838 3513 2113 \r\nz\r\n\" id=\"DejaVuSans-68\" transform=\"scale(0.015625)\"/>\r\n       <path d=\"M 2834 3397 \r\nL 2834 2853 \r\nQ 2591 2978 2328 3040 \r\nQ 2066 3103 1784 3103 \r\nQ 1356 3103 1142 2972 \r\nQ 928 2841 928 2578 \r\nQ 928 2378 1081 2264 \r\nQ 1234 2150 1697 2047 \r\nL 1894 2003 \r\nQ 2506 1872 2764 1633 \r\nQ 3022 1394 3022 966 \r\nQ 3022 478 2636 193 \r\nQ 2250 -91 1575 -91 \r\nQ 1294 -91 989 -36 \r\nQ 684 19 347 128 \r\nL 347 722 \r\nQ 666 556 975 473 \r\nQ 1284 391 1588 391 \r\nQ 1994 391 2212 530 \r\nQ 2431 669 2431 922 \r\nQ 2431 1156 2273 1281 \r\nQ 2116 1406 1581 1522 \r\nL 1381 1569 \r\nQ 847 1681 609 1914 \r\nQ 372 2147 372 2553 \r\nQ 372 3047 722 3315 \r\nQ 1072 3584 1716 3584 \r\nQ 2034 3584 2315 3537 \r\nQ 2597 3491 2834 3397 \r\nz\r\n\" id=\"DejaVuSans-73\" transform=\"scale(0.015625)\"/>\r\n      </defs>\r\n      <use xlink:href=\"#DejaVuSans-65\"/>\r\n      <use x=\"61.523438\" xlink:href=\"#DejaVuSans-70\"/>\r\n      <use x=\"125\" xlink:href=\"#DejaVuSans-6f\"/>\r\n      <use x=\"186.181641\" xlink:href=\"#DejaVuSans-63\"/>\r\n      <use x=\"241.162109\" xlink:href=\"#DejaVuSans-68\"/>\r\n      <use x=\"304.541016\" xlink:href=\"#DejaVuSans-73\"/>\r\n     </g>\r\n    </g>\r\n   </g>\r\n   <g id=\"matplotlib.axis_2\">\r\n    <g id=\"ytick_1\">\r\n     <g id=\"line2d_7\">\r\n      <defs>\r\n       <path d=\"M 0 0 \r\nL -3.5 0 \r\n\" id=\"m9aff13224c\" style=\"stroke:#000000;stroke-width:0.8;\"/>\r\n      </defs>\r\n      <g>\r\n       <use style=\"stroke:#000000;stroke-width:0.8;\" x=\"59.690625\" xlink:href=\"#m9aff13224c\" y=\"202.161991\"/>\r\n      </g>\r\n     </g>\r\n     <g id=\"text_8\">\r\n      <!-- 4000 -->\r\n      <g transform=\"translate(27.240625 205.961209)scale(0.1 -0.1)\">\r\n       <use xlink:href=\"#DejaVuSans-34\"/>\r\n       <use x=\"63.623047\" xlink:href=\"#DejaVuSans-30\"/>\r\n       <use x=\"127.246094\" xlink:href=\"#DejaVuSans-30\"/>\r\n       <use x=\"190.869141\" xlink:href=\"#DejaVuSans-30\"/>\r\n      </g>\r\n     </g>\r\n    </g>\r\n    <g id=\"ytick_2\">\r\n     <g id=\"line2d_8\">\r\n      <g>\r\n       <use style=\"stroke:#000000;stroke-width:0.8;\" x=\"59.690625\" xlink:href=\"#m9aff13224c\" y=\"177.267337\"/>\r\n      </g>\r\n     </g>\r\n     <g id=\"text_9\">\r\n      <!-- 5000 -->\r\n      <g transform=\"translate(27.240625 181.066556)scale(0.1 -0.1)\">\r\n       <defs>\r\n        <path d=\"M 691 4666 \r\nL 3169 4666 \r\nL 3169 4134 \r\nL 1269 4134 \r\nL 1269 2991 \r\nQ 1406 3038 1543 3061 \r\nQ 1681 3084 1819 3084 \r\nQ 2600 3084 3056 2656 \r\nQ 3513 2228 3513 1497 \r\nQ 3513 744 3044 326 \r\nQ 2575 -91 1722 -91 \r\nQ 1428 -91 1123 -41 \r\nQ 819 9 494 109 \r\nL 494 744 \r\nQ 775 591 1075 516 \r\nQ 1375 441 1709 441 \r\nQ 2250 441 2565 725 \r\nQ 2881 1009 2881 1497 \r\nQ 2881 1984 2565 2268 \r\nQ 2250 2553 1709 2553 \r\nQ 1456 2553 1204 2497 \r\nQ 953 2441 691 2322 \r\nL 691 4666 \r\nz\r\n\" id=\"DejaVuSans-35\" transform=\"scale(0.015625)\"/>\r\n       </defs>\r\n       <use xlink:href=\"#DejaVuSans-35\"/>\r\n       <use x=\"63.623047\" xlink:href=\"#DejaVuSans-30\"/>\r\n       <use x=\"127.246094\" xlink:href=\"#DejaVuSans-30\"/>\r\n       <use x=\"190.869141\" xlink:href=\"#DejaVuSans-30\"/>\r\n      </g>\r\n     </g>\r\n    </g>\r\n    <g id=\"ytick_3\">\r\n     <g id=\"line2d_9\">\r\n      <g>\r\n       <use style=\"stroke:#000000;stroke-width:0.8;\" x=\"59.690625\" xlink:href=\"#m9aff13224c\" y=\"152.372683\"/>\r\n      </g>\r\n     </g>\r\n     <g id=\"text_10\">\r\n      <!-- 6000 -->\r\n      <g transform=\"translate(27.240625 156.171902)scale(0.1 -0.1)\">\r\n       <use xlink:href=\"#DejaVuSans-36\"/>\r\n       <use x=\"63.623047\" xlink:href=\"#DejaVuSans-30\"/>\r\n       <use x=\"127.246094\" xlink:href=\"#DejaVuSans-30\"/>\r\n       <use x=\"190.869141\" xlink:href=\"#DejaVuSans-30\"/>\r\n      </g>\r\n     </g>\r\n    </g>\r\n    <g id=\"ytick_4\">\r\n     <g id=\"line2d_10\">\r\n      <g>\r\n       <use style=\"stroke:#000000;stroke-width:0.8;\" x=\"59.690625\" xlink:href=\"#m9aff13224c\" y=\"127.47803\"/>\r\n      </g>\r\n     </g>\r\n     <g id=\"text_11\">\r\n      <!-- 7000 -->\r\n      <g transform=\"translate(27.240625 131.277248)scale(0.1 -0.1)\">\r\n       <defs>\r\n        <path d=\"M 525 4666 \r\nL 3525 4666 \r\nL 3525 4397 \r\nL 1831 0 \r\nL 1172 0 \r\nL 2766 4134 \r\nL 525 4134 \r\nL 525 4666 \r\nz\r\n\" id=\"DejaVuSans-37\" transform=\"scale(0.015625)\"/>\r\n       </defs>\r\n       <use xlink:href=\"#DejaVuSans-37\"/>\r\n       <use x=\"63.623047\" xlink:href=\"#DejaVuSans-30\"/>\r\n       <use x=\"127.246094\" xlink:href=\"#DejaVuSans-30\"/>\r\n       <use x=\"190.869141\" xlink:href=\"#DejaVuSans-30\"/>\r\n      </g>\r\n     </g>\r\n    </g>\r\n    <g id=\"ytick_5\">\r\n     <g id=\"line2d_11\">\r\n      <g>\r\n       <use style=\"stroke:#000000;stroke-width:0.8;\" x=\"59.690625\" xlink:href=\"#m9aff13224c\" y=\"102.583376\"/>\r\n      </g>\r\n     </g>\r\n     <g id=\"text_12\">\r\n      <!-- 8000 -->\r\n      <g transform=\"translate(27.240625 106.382595)scale(0.1 -0.1)\">\r\n       <use xlink:href=\"#DejaVuSans-38\"/>\r\n       <use x=\"63.623047\" xlink:href=\"#DejaVuSans-30\"/>\r\n       <use x=\"127.246094\" xlink:href=\"#DejaVuSans-30\"/>\r\n       <use x=\"190.869141\" xlink:href=\"#DejaVuSans-30\"/>\r\n      </g>\r\n     </g>\r\n    </g>\r\n    <g id=\"ytick_6\">\r\n     <g id=\"line2d_12\">\r\n      <g>\r\n       <use style=\"stroke:#000000;stroke-width:0.8;\" x=\"59.690625\" xlink:href=\"#m9aff13224c\" y=\"77.688722\"/>\r\n      </g>\r\n     </g>\r\n     <g id=\"text_13\">\r\n      <!-- 9000 -->\r\n      <g transform=\"translate(27.240625 81.487941)scale(0.1 -0.1)\">\r\n       <defs>\r\n        <path d=\"M 703 97 \r\nL 703 672 \r\nQ 941 559 1184 500 \r\nQ 1428 441 1663 441 \r\nQ 2288 441 2617 861 \r\nQ 2947 1281 2994 2138 \r\nQ 2813 1869 2534 1725 \r\nQ 2256 1581 1919 1581 \r\nQ 1219 1581 811 2004 \r\nQ 403 2428 403 3163 \r\nQ 403 3881 828 4315 \r\nQ 1253 4750 1959 4750 \r\nQ 2769 4750 3195 4129 \r\nQ 3622 3509 3622 2328 \r\nQ 3622 1225 3098 567 \r\nQ 2575 -91 1691 -91 \r\nQ 1453 -91 1209 -44 \r\nQ 966 3 703 97 \r\nz\r\nM 1959 2075 \r\nQ 2384 2075 2632 2365 \r\nQ 2881 2656 2881 3163 \r\nQ 2881 3666 2632 3958 \r\nQ 2384 4250 1959 4250 \r\nQ 1534 4250 1286 3958 \r\nQ 1038 3666 1038 3163 \r\nQ 1038 2656 1286 2365 \r\nQ 1534 2075 1959 2075 \r\nz\r\n\" id=\"DejaVuSans-39\" transform=\"scale(0.015625)\"/>\r\n       </defs>\r\n       <use xlink:href=\"#DejaVuSans-39\"/>\r\n       <use x=\"63.623047\" xlink:href=\"#DejaVuSans-30\"/>\r\n       <use x=\"127.246094\" xlink:href=\"#DejaVuSans-30\"/>\r\n       <use x=\"190.869141\" xlink:href=\"#DejaVuSans-30\"/>\r\n      </g>\r\n     </g>\r\n    </g>\r\n    <g id=\"ytick_7\">\r\n     <g id=\"line2d_13\">\r\n      <g>\r\n       <use style=\"stroke:#000000;stroke-width:0.8;\" x=\"59.690625\" xlink:href=\"#m9aff13224c\" y=\"52.794069\"/>\r\n      </g>\r\n     </g>\r\n     <g id=\"text_14\">\r\n      <!-- 10000 -->\r\n      <g transform=\"translate(20.878125 56.593288)scale(0.1 -0.1)\">\r\n       <use xlink:href=\"#DejaVuSans-31\"/>\r\n       <use x=\"63.623047\" xlink:href=\"#DejaVuSans-30\"/>\r\n       <use x=\"127.246094\" xlink:href=\"#DejaVuSans-30\"/>\r\n       <use x=\"190.869141\" xlink:href=\"#DejaVuSans-30\"/>\r\n       <use x=\"254.492188\" xlink:href=\"#DejaVuSans-30\"/>\r\n      </g>\r\n     </g>\r\n    </g>\r\n    <g id=\"ytick_8\">\r\n     <g id=\"line2d_14\">\r\n      <g>\r\n       <use style=\"stroke:#000000;stroke-width:0.8;\" x=\"59.690625\" xlink:href=\"#m9aff13224c\" y=\"27.899415\"/>\r\n      </g>\r\n     </g>\r\n     <g id=\"text_15\">\r\n      <!-- 11000 -->\r\n      <g transform=\"translate(20.878125 31.698634)scale(0.1 -0.1)\">\r\n       <use xlink:href=\"#DejaVuSans-31\"/>\r\n       <use x=\"63.623047\" xlink:href=\"#DejaVuSans-31\"/>\r\n       <use x=\"127.246094\" xlink:href=\"#DejaVuSans-30\"/>\r\n       <use x=\"190.869141\" xlink:href=\"#DejaVuSans-30\"/>\r\n       <use x=\"254.492188\" xlink:href=\"#DejaVuSans-30\"/>\r\n      </g>\r\n     </g>\r\n    </g>\r\n    <g id=\"text_16\">\r\n     <!-- loss -->\r\n     <g transform=\"translate(14.798438 125.577812)rotate(-90)scale(0.1 -0.1)\">\r\n      <defs>\r\n       <path d=\"M 603 4863 \r\nL 1178 4863 \r\nL 1178 0 \r\nL 603 0 \r\nL 603 4863 \r\nz\r\n\" id=\"DejaVuSans-6c\" transform=\"scale(0.015625)\"/>\r\n      </defs>\r\n      <use xlink:href=\"#DejaVuSans-6c\"/>\r\n      <use x=\"27.783203\" xlink:href=\"#DejaVuSans-6f\"/>\r\n      <use x=\"88.964844\" xlink:href=\"#DejaVuSans-73\"/>\r\n      <use x=\"141.064453\" xlink:href=\"#DejaVuSans-73\"/>\r\n     </g>\r\n    </g>\r\n   </g>\r\n   <g id=\"line2d_15\">\r\n    <path clip-path=\"url(#p97f56a8e71)\" d=\"M 74.908807 17.083636 \r\nL 77.983187 114.910691 \r\nL 81.057567 120.270942 \r\nL 84.131947 125.873248 \r\nL 87.206327 131.819849 \r\nL 90.280708 138.192662 \r\nL 93.355088 141.347755 \r\nL 96.429468 146.029956 \r\nL 99.503848 149.345479 \r\nL 102.578228 153.860236 \r\nL 105.652608 160.09332 \r\nL 108.726989 168.510545 \r\nL 111.801369 180.53301 \r\nL 114.875749 196.558724 \r\nL 117.950129 200.902343 \r\nL 121.024509 206.137113 \r\nL 124.098889 207.080551 \r\nL 127.17327 207.258363 \r\nL 130.24765 208.231284 \r\nL 133.32203 207.331011 \r\nL 136.39641 207.191732 \r\nL 139.47079 206.979307 \r\nL 142.54517 208.570996 \r\nL 145.619551 209.41818 \r\nL 148.693931 208.912964 \r\nL 151.768311 209.672275 \r\nL 154.842691 209.441051 \r\nL 157.917071 209.805743 \r\nL 160.991451 209.769076 \r\nL 164.065832 210.24202 \r\nL 167.140212 209.719888 \r\nL 170.214592 211.545379 \r\nL 173.288972 211.190478 \r\nL 176.363352 210.103355 \r\nL 179.437732 212.320188 \r\nL 182.512113 212.075563 \r\nL 185.586493 212.594528 \r\nL 188.660873 213.14404 \r\nL 191.735253 212.009577 \r\nL 194.809633 213.029157 \r\nL 197.884013 213.890114 \r\nL 200.958394 213.563444 \r\nL 204.032774 211.691993 \r\nL 207.107154 212.296139 \r\nL 210.181534 213.791045 \r\nL 213.255914 214.130551 \r\nL 216.330294 212.771039 \r\nL 219.404675 213.603394 \r\nL 222.479055 213.857768 \r\nL 225.553435 212.846611 \r\nL 228.627815 214.207533 \r\nL 231.702195 214.580156 \r\nL 234.776575 214.670016 \r\nL 237.850956 213.398803 \r\nL 240.925336 212.954096 \r\nL 243.999716 213.988641 \r\nL 247.074096 214.409802 \r\nL 250.148476 210.585719 \r\nL 253.222856 213.801056 \r\nL 256.297237 214.130691 \r\nL 259.371617 213.811795 \r\nL 262.445997 212.222318 \r\nL 265.520377 214.069737 \r\nL 268.594757 214.358238 \r\nL 271.669137 214.756364 \r\nL 274.743518 211.703523 \r\nL 277.817898 214.599636 \r\nL 280.892278 213.51061 \r\nL 283.966658 214.581621 \r\nL 287.041038 214.308193 \r\nL 290.115418 214.385393 \r\nL 293.189799 212.663414 \r\nL 296.264179 214.08143 \r\nL 299.338559 213.886509 \r\nL 302.412939 213.844694 \r\nL 305.487319 213.761501 \r\nL 308.561699 208.354287 \r\nL 311.63608 214.062577 \r\nL 314.71046 213.859615 \r\nL 317.78484 214.516163 \r\nL 320.85922 213.61158 \r\nL 323.9336 212.457778 \r\nL 327.00798 213.743778 \r\nL 330.082361 214.504822 \r\nL 333.156741 214.32439 \r\nL 336.231121 214.739449 \r\nL 339.305501 213.436838 \r\nL 342.379881 211.545318 \r\nL 345.454261 213.702121 \r\nL 348.528642 214.312344 \r\nL 351.603022 214.339664 \r\nL 354.677402 213.907599 \r\nL 357.751782 211.669968 \r\nL 360.826162 211.938636 \r\nL 363.900542 214.210395 \r\nL 366.974923 213.548535 \r\nL 370.049303 212.463035 \r\nL 373.123683 213.571941 \r\nL 376.198063 213.770509 \r\nL 379.272443 214.497188 \r\n\" style=\"fill:none;stroke:#1f77b4;stroke-linecap:square;stroke-width:1.5;\"/>\r\n   </g>\r\n   <g id=\"line2d_16\">\r\n    <path clip-path=\"url(#p97f56a8e71)\" d=\"M 74.908807 17.083636 \r\nL 77.983187 114.910691 \r\nL 81.057567 120.270942 \r\nL 84.131947 125.873248 \r\nL 87.206327 131.819849 \r\nL 90.280708 138.192662 \r\nL 93.355088 141.347755 \r\nL 96.429468 146.029956 \r\nL 99.503848 149.345479 \r\nL 102.578228 153.860236 \r\nL 105.652608 160.09332 \r\nL 108.726989 168.510545 \r\nL 111.801369 180.53301 \r\nL 114.875749 196.558724 \r\nL 117.950129 200.902343 \r\nL 121.024509 206.137113 \r\nL 124.098889 207.080551 \r\nL 127.17327 207.258363 \r\nL 130.24765 208.231284 \r\nL 133.32203 207.331011 \r\nL 136.39641 207.191732 \r\nL 139.47079 206.979307 \r\nL 142.54517 208.570996 \r\nL 145.619551 209.41818 \r\nL 148.693931 208.912964 \r\nL 151.768311 209.672275 \r\nL 154.842691 209.441051 \r\nL 157.917071 209.805743 \r\nL 160.991451 209.769076 \r\nL 164.065832 210.24202 \r\nL 167.140212 209.719888 \r\nL 170.214592 211.545379 \r\nL 173.288972 211.190478 \r\nL 176.363352 210.103355 \r\nL 179.437732 212.320188 \r\nL 182.512113 212.075563 \r\nL 185.586493 212.594528 \r\nL 188.660873 213.14404 \r\nL 191.735253 212.009577 \r\nL 194.809633 213.029157 \r\nL 197.884013 213.89012 \r\nL 200.958394 213.563444 \r\nL 204.032774 211.691993 \r\nL 207.107154 212.296139 \r\nL 210.181534 213.791045 \r\nL 213.255914 214.130551 \r\nL 216.330294 212.771039 \r\nL 219.404675 213.603394 \r\nL 222.479055 213.857768 \r\nL 225.553435 212.846611 \r\nL 228.627815 214.207533 \r\nL 231.702195 214.580156 \r\nL 234.776575 214.670016 \r\nL 237.850956 213.398803 \r\nL 240.925336 212.954096 \r\nL 243.999716 213.988641 \r\nL 247.074096 214.409802 \r\nL 250.148476 210.585719 \r\nL 253.222856 213.801056 \r\nL 256.297237 214.130691 \r\nL 259.371617 213.811795 \r\nL 262.445997 212.222318 \r\nL 265.520377 214.069737 \r\nL 268.594757 214.358238 \r\nL 271.669137 214.756364 \r\nL 274.743518 211.703523 \r\nL 277.817898 214.599636 \r\nL 280.892278 213.51061 \r\nL 283.966658 214.581621 \r\nL 287.041038 214.308193 \r\nL 290.115418 214.385393 \r\nL 293.189799 212.663414 \r\nL 296.264179 214.08143 \r\nL 299.338559 213.886509 \r\nL 302.412939 213.844694 \r\nL 305.487319 213.761501 \r\nL 308.561699 208.354287 \r\nL 311.63608 214.062577 \r\nL 314.71046 213.859615 \r\nL 317.78484 214.516163 \r\nL 320.85922 213.61158 \r\nL 323.9336 212.457778 \r\nL 327.00798 213.743778 \r\nL 330.082361 214.504822 \r\nL 333.156741 214.32439 \r\nL 336.231121 214.739449 \r\nL 339.305501 213.436838 \r\nL 342.379881 211.545318 \r\nL 345.454261 213.702121 \r\nL 348.528642 214.312344 \r\nL 351.603022 214.339664 \r\nL 354.677402 213.907599 \r\nL 357.751782 211.669968 \r\nL 360.826162 211.938636 \r\nL 363.900542 214.210395 \r\nL 366.974923 213.548535 \r\nL 370.049303 212.463035 \r\nL 373.123683 213.571941 \r\nL 376.198063 213.770509 \r\nL 379.272443 214.497188 \r\n\" style=\"fill:none;stroke:#ff7f0e;stroke-linecap:square;stroke-width:1.5;\"/>\r\n   </g>\r\n   <g id=\"patch_3\">\r\n    <path d=\"M 59.690625 224.64 \r\nL 59.690625 7.2 \r\n\" style=\"fill:none;stroke:#000000;stroke-linecap:square;stroke-linejoin:miter;stroke-width:0.8;\"/>\r\n   </g>\r\n   <g id=\"patch_4\">\r\n    <path d=\"M 394.490625 224.64 \r\nL 394.490625 7.2 \r\n\" style=\"fill:none;stroke:#000000;stroke-linecap:square;stroke-linejoin:miter;stroke-width:0.8;\"/>\r\n   </g>\r\n   <g id=\"patch_5\">\r\n    <path d=\"M 59.690625 224.64 \r\nL 394.490625 224.64 \r\n\" style=\"fill:none;stroke:#000000;stroke-linecap:square;stroke-linejoin:miter;stroke-width:0.8;\"/>\r\n   </g>\r\n   <g id=\"patch_6\">\r\n    <path d=\"M 59.690625 7.2 \r\nL 394.490625 7.2 \r\n\" style=\"fill:none;stroke:#000000;stroke-linecap:square;stroke-linejoin:miter;stroke-width:0.8;\"/>\r\n   </g>\r\n   <g id=\"legend_1\">\r\n    <g id=\"patch_7\">\r\n     <path d=\"M 333.46875 44.55625 \r\nL 387.490625 44.55625 \r\nQ 389.490625 44.55625 389.490625 42.55625 \r\nL 389.490625 14.2 \r\nQ 389.490625 12.2 387.490625 12.2 \r\nL 333.46875 12.2 \r\nQ 331.46875 12.2 331.46875 14.2 \r\nL 331.46875 42.55625 \r\nQ 331.46875 44.55625 333.46875 44.55625 \r\nz\r\n\" style=\"fill:#ffffff;opacity:0.8;stroke:#cccccc;stroke-linejoin:miter;\"/>\r\n    </g>\r\n    <g id=\"line2d_17\">\r\n     <path d=\"M 335.46875 20.298437 \r\nL 355.46875 20.298437 \r\n\" style=\"fill:none;stroke:#1f77b4;stroke-linecap:square;stroke-width:1.5;\"/>\r\n    </g>\r\n    <g id=\"line2d_18\"/>\r\n    <g id=\"text_17\">\r\n     <!-- loss -->\r\n     <g transform=\"translate(363.46875 23.798437)scale(0.1 -0.1)\">\r\n      <use xlink:href=\"#DejaVuSans-6c\"/>\r\n      <use x=\"27.783203\" xlink:href=\"#DejaVuSans-6f\"/>\r\n      <use x=\"88.964844\" xlink:href=\"#DejaVuSans-73\"/>\r\n      <use x=\"141.064453\" xlink:href=\"#DejaVuSans-73\"/>\r\n     </g>\r\n    </g>\r\n    <g id=\"line2d_19\">\r\n     <path d=\"M 335.46875 34.976562 \r\nL 355.46875 34.976562 \r\n\" style=\"fill:none;stroke:#ff7f0e;stroke-linecap:square;stroke-width:1.5;\"/>\r\n    </g>\r\n    <g id=\"line2d_20\"/>\r\n    <g id=\"text_18\">\r\n     <!-- mae -->\r\n     <g transform=\"translate(363.46875 38.476562)scale(0.1 -0.1)\">\r\n      <defs>\r\n       <path d=\"M 3328 2828 \r\nQ 3544 3216 3844 3400 \r\nQ 4144 3584 4550 3584 \r\nQ 5097 3584 5394 3201 \r\nQ 5691 2819 5691 2113 \r\nL 5691 0 \r\nL 5113 0 \r\nL 5113 2094 \r\nQ 5113 2597 4934 2840 \r\nQ 4756 3084 4391 3084 \r\nQ 3944 3084 3684 2787 \r\nQ 3425 2491 3425 1978 \r\nL 3425 0 \r\nL 2847 0 \r\nL 2847 2094 \r\nQ 2847 2600 2669 2842 \r\nQ 2491 3084 2119 3084 \r\nQ 1678 3084 1418 2786 \r\nQ 1159 2488 1159 1978 \r\nL 1159 0 \r\nL 581 0 \r\nL 581 3500 \r\nL 1159 3500 \r\nL 1159 2956 \r\nQ 1356 3278 1631 3431 \r\nQ 1906 3584 2284 3584 \r\nQ 2666 3584 2933 3390 \r\nQ 3200 3197 3328 2828 \r\nz\r\n\" id=\"DejaVuSans-6d\" transform=\"scale(0.015625)\"/>\r\n       <path d=\"M 2194 1759 \r\nQ 1497 1759 1228 1600 \r\nQ 959 1441 959 1056 \r\nQ 959 750 1161 570 \r\nQ 1363 391 1709 391 \r\nQ 2188 391 2477 730 \r\nQ 2766 1069 2766 1631 \r\nL 2766 1759 \r\nL 2194 1759 \r\nz\r\nM 3341 1997 \r\nL 3341 0 \r\nL 2766 0 \r\nL 2766 531 \r\nQ 2569 213 2275 61 \r\nQ 1981 -91 1556 -91 \r\nQ 1019 -91 701 211 \r\nQ 384 513 384 1019 \r\nQ 384 1609 779 1909 \r\nQ 1175 2209 1959 2209 \r\nL 2766 2209 \r\nL 2766 2266 \r\nQ 2766 2663 2505 2880 \r\nQ 2244 3097 1772 3097 \r\nQ 1472 3097 1187 3025 \r\nQ 903 2953 641 2809 \r\nL 641 3341 \r\nQ 956 3463 1253 3523 \r\nQ 1550 3584 1831 3584 \r\nQ 2591 3584 2966 3190 \r\nQ 3341 2797 3341 1997 \r\nz\r\n\" id=\"DejaVuSans-61\" transform=\"scale(0.015625)\"/>\r\n      </defs>\r\n      <use xlink:href=\"#DejaVuSans-6d\"/>\r\n      <use x=\"97.412109\" xlink:href=\"#DejaVuSans-61\"/>\r\n      <use x=\"158.691406\" xlink:href=\"#DejaVuSans-65\"/>\r\n     </g>\r\n    </g>\r\n   </g>\r\n  </g>\r\n </g>\r\n <defs>\r\n  <clipPath id=\"p97f56a8e71\">\r\n   <rect height=\"217.44\" width=\"334.8\" x=\"59.690625\" y=\"7.2\"/>\r\n  </clipPath>\r\n </defs>\r\n</svg>\r\n",
      "image/png": "[encoded data removed]"
     },
     "metadata": {
      "needs_background": "light"
     }
    }
   ],
   "metadata": {}
  },
  {
   "cell_type": "markdown",
   "source": [
    "# Normalization"
   ],
   "metadata": {}
  },
  {
   "cell_type": "code",
   "execution_count": 310,
   "source": [
    "insurance = pd.read_csv('https://raw.githubusercontent.com/stedy/Machine-Learning-with-R-datasets/master/insurance.csv')\r\n",
    "insurance"
   ],
   "outputs": [
    {
     "output_type": "execute_result",
     "data": {
      "text/plain": [
       "      age     sex     bmi  children smoker     region      charges\n",
       "0      19  female  27.900         0    yes  southwest  16884.92400\n",
       "1      18    male  33.770         1     no  southeast   1725.55230\n",
       "2      28    male  33.000         3     no  southeast   4449.46200\n",
       "3      33    male  22.705         0     no  northwest  21984.47061\n",
       "4      32    male  28.880         0     no  northwest   3866.85520\n",
       "...   ...     ...     ...       ...    ...        ...          ...\n",
       "1333   50    male  30.970         3     no  northwest  10600.54830\n",
       "1334   18  female  31.920         0     no  northeast   2205.98080\n",
       "1335   18  female  36.850         0     no  southeast   1629.83350\n",
       "1336   21  female  25.800         0     no  southwest   2007.94500\n",
       "1337   61  female  29.070         0    yes  northwest  29141.36030\n",
       "\n",
       "[1338 rows x 7 columns]"
      ],
      "text/html": [
       "<div>\n",
       "<style scoped>\n",
       "    .dataframe tbody tr th:only-of-type {\n",
       "        vertical-align: middle;\n",
       "    }\n",
       "\n",
       "    .dataframe tbody tr th {\n",
       "        vertical-align: top;\n",
       "    }\n",
       "\n",
       "    .dataframe thead th {\n",
       "        text-align: right;\n",
       "    }\n",
       "</style>\n",
       "<table border=\"1\" class=\"dataframe\">\n",
       "  <thead>\n",
       "    <tr style=\"text-align: right;\">\n",
       "      <th></th>\n",
       "      <th>age</th>\n",
       "      <th>sex</th>\n",
       "      <th>bmi</th>\n",
       "      <th>children</th>\n",
       "      <th>smoker</th>\n",
       "      <th>region</th>\n",
       "      <th>charges</th>\n",
       "    </tr>\n",
       "  </thead>\n",
       "  <tbody>\n",
       "    <tr>\n",
       "      <th>0</th>\n",
       "      <td>19</td>\n",
       "      <td>female</td>\n",
       "      <td>27.900</td>\n",
       "      <td>0</td>\n",
       "      <td>yes</td>\n",
       "      <td>southwest</td>\n",
       "      <td>16884.92400</td>\n",
       "    </tr>\n",
       "    <tr>\n",
       "      <th>1</th>\n",
       "      <td>18</td>\n",
       "      <td>male</td>\n",
       "      <td>33.770</td>\n",
       "      <td>1</td>\n",
       "      <td>no</td>\n",
       "      <td>southeast</td>\n",
       "      <td>1725.55230</td>\n",
       "    </tr>\n",
       "    <tr>\n",
       "      <th>2</th>\n",
       "      <td>28</td>\n",
       "      <td>male</td>\n",
       "      <td>33.000</td>\n",
       "      <td>3</td>\n",
       "      <td>no</td>\n",
       "      <td>southeast</td>\n",
       "      <td>4449.46200</td>\n",
       "    </tr>\n",
       "    <tr>\n",
       "      <th>3</th>\n",
       "      <td>33</td>\n",
       "      <td>male</td>\n",
       "      <td>22.705</td>\n",
       "      <td>0</td>\n",
       "      <td>no</td>\n",
       "      <td>northwest</td>\n",
       "      <td>21984.47061</td>\n",
       "    </tr>\n",
       "    <tr>\n",
       "      <th>4</th>\n",
       "      <td>32</td>\n",
       "      <td>male</td>\n",
       "      <td>28.880</td>\n",
       "      <td>0</td>\n",
       "      <td>no</td>\n",
       "      <td>northwest</td>\n",
       "      <td>3866.85520</td>\n",
       "    </tr>\n",
       "    <tr>\n",
       "      <th>...</th>\n",
       "      <td>...</td>\n",
       "      <td>...</td>\n",
       "      <td>...</td>\n",
       "      <td>...</td>\n",
       "      <td>...</td>\n",
       "      <td>...</td>\n",
       "      <td>...</td>\n",
       "    </tr>\n",
       "    <tr>\n",
       "      <th>1333</th>\n",
       "      <td>50</td>\n",
       "      <td>male</td>\n",
       "      <td>30.970</td>\n",
       "      <td>3</td>\n",
       "      <td>no</td>\n",
       "      <td>northwest</td>\n",
       "      <td>10600.54830</td>\n",
       "    </tr>\n",
       "    <tr>\n",
       "      <th>1334</th>\n",
       "      <td>18</td>\n",
       "      <td>female</td>\n",
       "      <td>31.920</td>\n",
       "      <td>0</td>\n",
       "      <td>no</td>\n",
       "      <td>northeast</td>\n",
       "      <td>2205.98080</td>\n",
       "    </tr>\n",
       "    <tr>\n",
       "      <th>1335</th>\n",
       "      <td>18</td>\n",
       "      <td>female</td>\n",
       "      <td>36.850</td>\n",
       "      <td>0</td>\n",
       "      <td>no</td>\n",
       "      <td>southeast</td>\n",
       "      <td>1629.83350</td>\n",
       "    </tr>\n",
       "    <tr>\n",
       "      <th>1336</th>\n",
       "      <td>21</td>\n",
       "      <td>female</td>\n",
       "      <td>25.800</td>\n",
       "      <td>0</td>\n",
       "      <td>no</td>\n",
       "      <td>southwest</td>\n",
       "      <td>2007.94500</td>\n",
       "    </tr>\n",
       "    <tr>\n",
       "      <th>1337</th>\n",
       "      <td>61</td>\n",
       "      <td>female</td>\n",
       "      <td>29.070</td>\n",
       "      <td>0</td>\n",
       "      <td>yes</td>\n",
       "      <td>northwest</td>\n",
       "      <td>29141.36030</td>\n",
       "    </tr>\n",
       "  </tbody>\n",
       "</table>\n",
       "<p>1338 rows × 7 columns</p>\n",
       "</div>"
      ]
     },
     "metadata": {},
     "execution_count": 310
    }
   ],
   "metadata": {}
  },
  {
   "cell_type": "code",
   "execution_count": 311,
   "source": [
    "from sklearn.compose import make_column_transformer\r\n",
    "from sklearn.preprocessing import MinMaxScaler, OneHotEncoder\r\n",
    "from sklearn.model_selection import train_test_split\r\n",
    "\r\n",
    "# Create a column transformer\r\n",
    "ct = make_column_transformer(\r\n",
    "    (MinMaxScaler(), ['age', 'bmi','children']),\r\n",
    "    (OneHotEncoder(handle_unknown='ignore'), ['sex', 'smoker', 'region'])\r\n",
    ")\r\n",
    "\r\n",
    "X = insurance.drop('charges', axis=1)\r\n",
    "y = insurance['charges']\r\n",
    "\r\n",
    "\r\n",
    "X_train, X_test, y_train, y_test = train_test_split(X, y, test_size=0.2, random_state=42)\r\n",
    "\r\n",
    "\r\n",
    "ct.fit(X_train)\r\n",
    "\r\n",
    "X_train_normal = ct.transform(X_train)\r\n",
    "X_test_normal = ct.transform(X_test)"
   ],
   "outputs": [],
   "metadata": {}
  },
  {
   "cell_type": "code",
   "execution_count": 312,
   "source": [
    "X_train_normal.shape"
   ],
   "outputs": [
    {
     "output_type": "execute_result",
     "data": {
      "text/plain": [
       "(1070, 11)"
      ]
     },
     "metadata": {},
     "execution_count": 312
    }
   ],
   "metadata": {}
  },
  {
   "cell_type": "code",
   "execution_count": 314,
   "source": [
    "tf.random.set_seed(42)\r\n",
    "\r\n",
    "insurance_model = tf.keras.Sequential()\r\n",
    "insurance_model.add(tf.keras.layers.Dense(100))\r\n",
    "insurance_model.add(tf.keras.layers.Dense(10))\r\n",
    "insurance_model.add(tf.keras.layers.Dense(1))\r\n",
    "\r\n",
    "insurance_model.compile(\r\n",
    "    loss=tf.keras.losses.mae,\r\n",
    "    optimizer=tf.keras.optimizers.Adam(learning_rate=0.01),\r\n",
    "    metrics=[\"mae\"],\r\n",
    ")\r\n",
    "\r\n",
    "insurance_model.fit(X_train_normal, y_train, epochs=100)\r\n"
   ],
   "outputs": [
    {
     "output_type": "stream",
     "name": "stdout",
     "text": [
      "Epoch 1/100\n",
      "34/34 [==============================] - 1s 4ms/step - loss: 13217.9922 - mae: 13217.9922\n",
      "Epoch 2/100\n",
      "34/34 [==============================] - 0s 4ms/step - loss: 11378.7979 - mae: 11378.7979\n",
      "Epoch 3/100\n",
      "34/34 [==============================] - 0s 4ms/step - loss: 8112.9438 - mae: 8112.9438\n",
      "Epoch 4/100\n",
      "34/34 [==============================] - 0s 4ms/step - loss: 7588.9111 - mae: 7588.9111\n",
      "Epoch 5/100\n",
      "34/34 [==============================] - 0s 4ms/step - loss: 7103.4795 - mae: 7103.4795\n",
      "Epoch 6/100\n",
      "34/34 [==============================] - 0s 4ms/step - loss: 6513.8726 - mae: 6513.8726\n",
      "Epoch 7/100\n",
      "34/34 [==============================] - 0s 5ms/step - loss: 5593.9995 - mae: 5593.9995\n",
      "Epoch 8/100\n",
      "34/34 [==============================] - 0s 4ms/step - loss: 4434.3428 - mae: 4434.3428\n",
      "Epoch 9/100\n",
      "34/34 [==============================] - 0s 5ms/step - loss: 3745.8264 - mae: 3745.8264\n",
      "Epoch 10/100\n",
      "34/34 [==============================] - 0s 4ms/step - loss: 3679.4285 - mae: 3679.4285\n",
      "Epoch 11/100\n",
      "34/34 [==============================] - 0s 4ms/step - loss: 3672.3518 - mae: 3672.3518\n",
      "Epoch 12/100\n",
      "34/34 [==============================] - 0s 4ms/step - loss: 3630.9304 - mae: 3630.9304\n",
      "Epoch 13/100\n",
      "34/34 [==============================] - 0s 4ms/step - loss: 3611.7478 - mae: 3611.7478\n",
      "Epoch 14/100\n",
      "34/34 [==============================] - 0s 4ms/step - loss: 3614.5508 - mae: 3614.5508\n",
      "Epoch 15/100\n",
      "34/34 [==============================] - 0s 4ms/step - loss: 3586.2798 - mae: 3586.2798\n",
      "Epoch 16/100\n",
      "34/34 [==============================] - 0s 4ms/step - loss: 3576.0642 - mae: 3576.0642\n",
      "Epoch 17/100\n",
      "34/34 [==============================] - 0s 4ms/step - loss: 3580.6531 - mae: 3580.6531\n",
      "Epoch 18/100\n",
      "34/34 [==============================] - 0s 5ms/step - loss: 3540.6458 - mae: 3540.6458\n",
      "Epoch 19/100\n",
      "34/34 [==============================] - 0s 4ms/step - loss: 3550.5842 - mae: 3550.5842\n",
      "Epoch 20/100\n",
      "34/34 [==============================] - 0s 4ms/step - loss: 3521.7151 - mae: 3521.7151\n",
      "Epoch 21/100\n",
      "34/34 [==============================] - 0s 4ms/step - loss: 3503.1978 - mae: 3503.1978\n",
      "Epoch 22/100\n",
      "34/34 [==============================] - 0s 4ms/step - loss: 3493.2449 - mae: 3493.2449\n",
      "Epoch 23/100\n",
      "34/34 [==============================] - 0s 4ms/step - loss: 3498.4912 - mae: 3498.4912\n",
      "Epoch 24/100\n",
      "34/34 [==============================] - 0s 4ms/step - loss: 3497.5208 - mae: 3497.5208\n",
      "Epoch 25/100\n",
      "34/34 [==============================] - 0s 4ms/step - loss: 3537.3179 - mae: 3537.3179\n",
      "Epoch 26/100\n",
      "34/34 [==============================] - 0s 4ms/step - loss: 3490.5374 - mae: 3490.5374\n",
      "Epoch 27/100\n",
      "34/34 [==============================] - 0s 4ms/step - loss: 3490.0151 - mae: 3490.0151\n",
      "Epoch 28/100\n",
      "34/34 [==============================] - 0s 4ms/step - loss: 3501.7139 - mae: 3501.7139\n",
      "Epoch 29/100\n",
      "34/34 [==============================] - 0s 3ms/step - loss: 3504.0999 - mae: 3504.0999\n",
      "Epoch 30/100\n",
      "34/34 [==============================] - 0s 3ms/step - loss: 3502.2717 - mae: 3502.2717\n",
      "Epoch 31/100\n",
      "34/34 [==============================] - 0s 3ms/step - loss: 3505.3481 - mae: 3505.3481\n",
      "Epoch 32/100\n",
      "34/34 [==============================] - 0s 3ms/step - loss: 3512.1365 - mae: 3512.1365\n",
      "Epoch 33/100\n",
      "34/34 [==============================] - 0s 3ms/step - loss: 3501.6936 - mae: 3501.6936\n",
      "Epoch 34/100\n",
      "34/34 [==============================] - 0s 4ms/step - loss: 3489.6021 - mae: 3489.6021\n",
      "Epoch 35/100\n",
      "34/34 [==============================] - 0s 4ms/step - loss: 3493.7229 - mae: 3493.7229\n",
      "Epoch 36/100\n",
      "34/34 [==============================] - 0s 4ms/step - loss: 3498.5989 - mae: 3498.5989\n",
      "Epoch 37/100\n",
      "34/34 [==============================] - 0s 3ms/step - loss: 3495.2578 - mae: 3495.2578\n",
      "Epoch 38/100\n",
      "34/34 [==============================] - 0s 3ms/step - loss: 3504.3992 - mae: 3504.3992\n",
      "Epoch 39/100\n",
      "34/34 [==============================] - 0s 3ms/step - loss: 3490.6965 - mae: 3490.6965\n",
      "Epoch 40/100\n",
      "34/34 [==============================] - 0s 4ms/step - loss: 3527.0015 - mae: 3527.0015\n",
      "Epoch 41/100\n",
      "34/34 [==============================] - 0s 3ms/step - loss: 3506.1567 - mae: 3506.1567\n",
      "Epoch 42/100\n",
      "34/34 [==============================] - 0s 3ms/step - loss: 3498.8542 - mae: 3498.8542\n",
      "Epoch 43/100\n",
      "34/34 [==============================] - 0s 3ms/step - loss: 3493.8936 - mae: 3493.8936\n",
      "Epoch 44/100\n",
      "34/34 [==============================] - 0s 4ms/step - loss: 3487.6106 - mae: 3487.6106\n",
      "Epoch 45/100\n",
      "34/34 [==============================] - 0s 4ms/step - loss: 3481.6377 - mae: 3481.6377\n",
      "Epoch 46/100\n",
      "34/34 [==============================] - 0s 4ms/step - loss: 3493.5745 - mae: 3493.5745\n",
      "Epoch 47/100\n",
      "34/34 [==============================] - 0s 3ms/step - loss: 3492.7283 - mae: 3492.7283\n",
      "Epoch 48/100\n",
      "34/34 [==============================] - 0s 3ms/step - loss: 3486.7771 - mae: 3486.7771\n",
      "Epoch 49/100\n",
      "34/34 [==============================] - 0s 3ms/step - loss: 3506.4592 - mae: 3506.4592\n",
      "Epoch 50/100\n",
      "34/34 [==============================] - 0s 3ms/step - loss: 3507.3835 - mae: 3507.3835\n",
      "Epoch 51/100\n",
      "34/34 [==============================] - 0s 4ms/step - loss: 3483.9292 - mae: 3483.9292\n",
      "Epoch 52/100\n",
      "34/34 [==============================] - 0s 4ms/step - loss: 3487.0681 - mae: 3487.0681\n",
      "Epoch 53/100\n",
      "34/34 [==============================] - 0s 4ms/step - loss: 3488.9578 - mae: 3488.9578\n",
      "Epoch 54/100\n",
      "34/34 [==============================] - 0s 3ms/step - loss: 3508.0964 - mae: 3508.0964\n",
      "Epoch 55/100\n",
      "34/34 [==============================] - 0s 4ms/step - loss: 3518.2046 - mae: 3518.2046\n",
      "Epoch 56/100\n",
      "34/34 [==============================] - 0s 3ms/step - loss: 3489.7537 - mae: 3489.7537\n",
      "Epoch 57/100\n",
      "34/34 [==============================] - 0s 4ms/step - loss: 3493.5212 - mae: 3493.5212\n",
      "Epoch 58/100\n",
      "34/34 [==============================] - 0s 3ms/step - loss: 3485.7085 - mae: 3485.7085\n",
      "Epoch 59/100\n",
      "34/34 [==============================] - 0s 3ms/step - loss: 3492.0984 - mae: 3492.0984\n",
      "Epoch 60/100\n",
      "34/34 [==============================] - 0s 4ms/step - loss: 3497.0193 - mae: 3497.0193\n",
      "Epoch 61/100\n",
      "34/34 [==============================] - 0s 3ms/step - loss: 3505.0601 - mae: 3505.0601\n",
      "Epoch 62/100\n",
      "34/34 [==============================] - 0s 4ms/step - loss: 3495.8904 - mae: 3495.8904\n",
      "Epoch 63/100\n",
      "34/34 [==============================] - 0s 4ms/step - loss: 3487.5137 - mae: 3487.5137\n",
      "Epoch 64/100\n",
      "34/34 [==============================] - 0s 3ms/step - loss: 3491.8835 - mae: 3491.8835\n",
      "Epoch 65/100\n",
      "34/34 [==============================] - 0s 4ms/step - loss: 3482.8381 - mae: 3482.8381\n",
      "Epoch 66/100\n",
      "34/34 [==============================] - 0s 3ms/step - loss: 3500.3743 - mae: 3500.3743\n",
      "Epoch 67/100\n",
      "34/34 [==============================] - 0s 4ms/step - loss: 3490.9321 - mae: 3490.9321\n",
      "Epoch 68/100\n",
      "34/34 [==============================] - 0s 4ms/step - loss: 3489.6875 - mae: 3489.6875\n",
      "Epoch 69/100\n",
      "34/34 [==============================] - 0s 3ms/step - loss: 3484.9888 - mae: 3484.9888\n",
      "Epoch 70/100\n",
      "34/34 [==============================] - 0s 3ms/step - loss: 3491.7832 - mae: 3491.7832\n",
      "Epoch 71/100\n",
      "34/34 [==============================] - 0s 4ms/step - loss: 3488.0525 - mae: 3488.0525\n",
      "Epoch 72/100\n",
      "34/34 [==============================] - 0s 4ms/step - loss: 3487.3452 - mae: 3487.3452\n",
      "Epoch 73/100\n",
      "34/34 [==============================] - 0s 3ms/step - loss: 3507.2424 - mae: 3507.2424\n",
      "Epoch 74/100\n",
      "34/34 [==============================] - 0s 3ms/step - loss: 3506.1013 - mae: 3506.1013\n",
      "Epoch 75/100\n",
      "34/34 [==============================] - 0s 3ms/step - loss: 3483.0408 - mae: 3483.0408\n",
      "Epoch 76/100\n",
      "34/34 [==============================] - 0s 3ms/step - loss: 3493.0022 - mae: 3493.0022\n",
      "Epoch 77/100\n",
      "34/34 [==============================] - 0s 3ms/step - loss: 3483.5491 - mae: 3483.5491\n",
      "Epoch 78/100\n",
      "34/34 [==============================] - 0s 4ms/step - loss: 3492.7542 - mae: 3492.7542\n",
      "Epoch 79/100\n",
      "34/34 [==============================] - 0s 4ms/step - loss: 3496.9153 - mae: 3496.9153\n",
      "Epoch 80/100\n",
      "34/34 [==============================] - 0s 3ms/step - loss: 3502.6736 - mae: 3502.6736\n",
      "Epoch 81/100\n",
      "34/34 [==============================] - 0s 3ms/step - loss: 3497.1377 - mae: 3497.1377\n",
      "Epoch 82/100\n",
      "34/34 [==============================] - 0s 3ms/step - loss: 3490.7532 - mae: 3490.7532\n",
      "Epoch 83/100\n",
      "34/34 [==============================] - 0s 4ms/step - loss: 3494.0415 - mae: 3494.0415\n",
      "Epoch 84/100\n",
      "34/34 [==============================] - 0s 4ms/step - loss: 3498.2773 - mae: 3498.2773\n",
      "Epoch 85/100\n",
      "34/34 [==============================] - 0s 3ms/step - loss: 3484.4082 - mae: 3484.4082\n",
      "Epoch 86/100\n",
      "34/34 [==============================] - 0s 3ms/step - loss: 3485.0283 - mae: 3485.0283\n",
      "Epoch 87/100\n",
      "34/34 [==============================] - 0s 4ms/step - loss: 3487.6382 - mae: 3487.6382\n",
      "Epoch 88/100\n",
      "34/34 [==============================] - 0s 3ms/step - loss: 3486.0024 - mae: 3486.0024\n",
      "Epoch 89/100\n",
      "34/34 [==============================] - 0s 4ms/step - loss: 3497.5837 - mae: 3497.5837\n",
      "Epoch 90/100\n",
      "34/34 [==============================] - 0s 4ms/step - loss: 3492.7400 - mae: 3492.7400\n",
      "Epoch 91/100\n",
      "34/34 [==============================] - 0s 4ms/step - loss: 3487.6221 - mae: 3487.6221\n",
      "Epoch 92/100\n",
      "34/34 [==============================] - 0s 4ms/step - loss: 3496.1606 - mae: 3496.1606\n",
      "Epoch 93/100\n",
      "34/34 [==============================] - 0s 3ms/step - loss: 3495.4800 - mae: 3495.4800\n",
      "Epoch 94/100\n",
      "34/34 [==============================] - 0s 3ms/step - loss: 3485.4072 - mae: 3485.4072\n",
      "Epoch 95/100\n",
      "34/34 [==============================] - 0s 3ms/step - loss: 3490.6731 - mae: 3490.6731\n",
      "Epoch 96/100\n",
      "34/34 [==============================] - 0s 3ms/step - loss: 3492.5527 - mae: 3492.5527\n",
      "Epoch 97/100\n",
      "34/34 [==============================] - 0s 4ms/step - loss: 3508.5020 - mae: 3508.5020\n",
      "Epoch 98/100\n",
      "34/34 [==============================] - 0s 4ms/step - loss: 3482.5149 - mae: 3482.5149\n",
      "Epoch 99/100\n",
      "34/34 [==============================] - 0s 4ms/step - loss: 3516.8059 - mae: 3516.8059\n",
      "Epoch 100/100\n",
      "34/34 [==============================] - 0s 3ms/step - loss: 3505.2727 - mae: 3505.2727\n"
     ]
    },
    {
     "output_type": "execute_result",
     "data": {
      "text/plain": [
       "<tensorflow.python.keras.callbacks.History at 0x1856f98eee0>"
      ]
     },
     "metadata": {},
     "execution_count": 314
    }
   ],
   "metadata": {}
  },
  {
   "cell_type": "code",
   "execution_count": null,
   "source": [],
   "outputs": [],
   "metadata": {}
  }
 ],
 "metadata": {
  "orig_nbformat": 4,
  "language_info": {
   "name": "python",
   "version": "3.9.6",
   "mimetype": "text/x-python",
   "codemirror_mode": {
    "name": "ipython",
    "version": 3
   },
   "pygments_lexer": "ipython3",
   "nbconvert_exporter": "python",
   "file_extension": ".py"
  },
  "kernelspec": {
   "name": "python3",
   "display_name": "Python 3.9.6 64-bit ('general_env': conda)"
  },
  "interpreter": {
   "hash": "eb1063525ce892d0c528674b1c1740d987616fa50929a74996de9e0faa31f077"
  }
 },
 "nbformat": 4,
 "nbformat_minor": 2
}