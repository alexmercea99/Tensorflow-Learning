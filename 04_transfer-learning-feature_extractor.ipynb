{
 "cells": [
  {
   "cell_type": "markdown",
   "source": [
    "# Transfer Learning with TensorFlow\r\n",
    "# Feature Extraction"
   ],
   "metadata": {}
  },
  {
   "cell_type": "markdown",
   "source": [
    "Transfer Learning is leveraging a working model's existing architecture and learned patterns for our own problem.\r\n",
    "\r\n",
    "There are two main benefits:\r\n",
    "1. Can leverage an existing neural network architecture proven to work on problems similar to our own.\r\n",
    "2. Can leverage a working neuratl network architecture which has already learned patterns on similar data to our own, then we can adapt those patterns to our own data."
   ],
   "metadata": {}
  },
  {
   "cell_type": "markdown",
   "source": [
    "## Downloading Data"
   ],
   "metadata": {}
  },
  {
   "cell_type": "code",
   "execution_count": null,
   "source": [],
   "outputs": [],
   "metadata": {}
  }
 ],
 "metadata": {
  "orig_nbformat": 4,
  "language_info": {
   "name": "python"
  }
 },
 "nbformat": 4,
 "nbformat_minor": 2
}